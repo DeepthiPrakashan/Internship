{
 "cells": [
  {
   "cell_type": "markdown",
   "id": "8188b03a",
   "metadata": {},
   "source": [
    "Python Worksheet\n",
    "\n",
    "1.1. Which of the following operators is used to calculate remainder in a division?\n",
    "A) # B) &\n",
    "C) % D) $ \n",
    "Ans.C) %\n",
    "\n",
    "2. In python 2//3 is equal to?\n",
    "A) 0.666 B) 0\n",
    "C) 1 D) 0.67\n",
    "Ans. B)0\n",
    "// is used for returning the closest integer less than of equal to that specified value.\n",
    "\n",
    "3. In python, 6<<2 is equal to?\n",
    "A) 36 B) 10\n",
    "C) 24 D) 45\n",
    "Ans C)24\n",
    "Returns 6with bits shifted by 2 places.\n",
    "\n",
    "4.In python, 6&2 will give which of the following as output?\n",
    "A) 2 B) True\n",
    "C) False D) 0\n",
    "Ans  2\n",
    "\n",
    "5.In python, 6|2 will give which of the following as output?\n",
    "A) 2 B) 4\n",
    "C) 0 D) 6\n",
    "Ans 6\n",
    "\n",
    "6.What does the finally keyword denotes in python?\n",
    "A) It is used to mark the end of the code\n",
    "B) It encloses the lines of code which will be executed if any error occurs while executing the lines of code in \n",
    "the try block.\n",
    "C) the finally block will be executed no matter if the try block raises an error or not.\n",
    "D) None of the above\n",
    "Ans C) the finally block will be executed no matter if the try block raises an error or not.\n",
    "\n",
    "7. What does raise keyword is used for in python?\n",
    "A) It is used to raise an exception. B) It is used to define lambda function\n",
    "C) it's not a keyword in python. D) None of the above\n",
    "Ans A) It is used to raise an exception.\n",
    "\n",
    "8. Which of the following is a common use case of yield keyword in python?\n",
    "A) in defining an iterator B) while defining a lambda function\n",
    "C) in defining a generator D) in for loop.\n",
    "Ans C)defining a generator\n",
    "\n",
    "9.Q9 and Q10 have multiple correct answers. Choose all the correct options to answer your question.\n",
    "\n",
    "9. Which of the following are the valid variable names?\n",
    "A) _abc B) 1abc\n",
    "C) abc2 D) None of the above\n",
    "Ans. A)_abc B)1abc C)abc2\n",
    "\n",
    "10. Which of the following are the keywords in python?\n",
    "A) yield B) raise\n",
    "C) look-in D) all of the above\n",
    "\n",
    "Ans. A) yield B)raise\n"
   ]
  },
  {
   "cell_type": "markdown",
   "id": "2df75426",
   "metadata": {},
   "source": [
    "# Python program to find the factorial of a number."
   ]
  },
  {
   "cell_type": "code",
   "execution_count": 1,
   "id": "bb4ca508",
   "metadata": {},
   "outputs": [],
   "source": [
    "#factorial is product of all positive integers less than or equal to n\n",
    "def factorial(number):\n",
    "    product= number\n",
    "    if number == 0 or number == 1:\n",
    "        return 1\n",
    "    else:\n",
    "        \n",
    "        if not number >1 :\n",
    "            return 'Please enter a positive number'\n",
    "        for i in range(1,number):\n",
    "                x = product*i\n",
    "                product= x\n",
    "    \n",
    "        return product\n",
    "    \n",
    "       \n",
    "    \n",
    "    "
   ]
  },
  {
   "cell_type": "code",
   "execution_count": 2,
   "id": "04f40978",
   "metadata": {},
   "outputs": [
    {
     "data": {
      "text/plain": [
       "6"
      ]
     },
     "execution_count": 2,
     "metadata": {},
     "output_type": "execute_result"
    }
   ],
   "source": [
    "factorial(3)"
   ]
  },
  {
   "cell_type": "markdown",
   "id": "6c62c4cf",
   "metadata": {},
   "source": [
    "# Python program to find whether a number is prime or composite."
   ]
  },
  {
   "cell_type": "code",
   "execution_count": 22,
   "id": "374e95a6",
   "metadata": {},
   "outputs": [
    {
     "name": "stdout",
     "output_type": "stream",
     "text": [
      "Enter a number:2\n",
      "The entered number 2 is a prime number\n"
     ]
    }
   ],
   "source": [
    " \n",
    "num = int(input('Enter a number:'))\n",
    "if  num == 0 or num == 1:\n",
    "    print('The entered number is neither prime nor a composite number')\n",
    "elif num> 1 :\n",
    "    for i in range(2,num):\n",
    "        if (num%i == 0):\n",
    "            print('The entered number',num,'is a composite number')\n",
    "            break\n",
    "    else:\n",
    "        print('The entered number', num , 'is a prime number')\n",
    "           \n"
   ]
  },
  {
   "cell_type": "markdown",
   "id": "0b7bea83",
   "metadata": {},
   "source": [
    "# Python program to check whether a given string is palindrome or not."
   ]
  },
  {
   "cell_type": "code",
   "execution_count": 23,
   "id": "b5e72a44",
   "metadata": {},
   "outputs": [
    {
     "name": "stdout",
     "output_type": "stream",
     "text": [
      "Enter a word :maam\n",
      "The entered word, maam is a palindrome\n"
     ]
    }
   ],
   "source": [
    "#A string is a palindrome when it reads the same from the backward as the forward.\n",
    "\n",
    "word = input('Enter a word :')\n",
    "reverse = (word[::-1])                 #This slice operation allows to store the entered word in backwards by taking each element from the end\n",
    "if word == reverse:\n",
    "    print('The entered word,', word, 'is a palindrome')\n",
    "else:\n",
    "    print ('The entered word,', word, 'is not a palindrome')"
   ]
  },
  {
   "cell_type": "markdown",
   "id": "dcfa4675",
   "metadata": {},
   "source": [
    "#  Python program to get the third side of right-angled triangle from two given sides\n"
   ]
  },
  {
   "cell_type": "code",
   "execution_count": 24,
   "id": "ab469bd9",
   "metadata": {},
   "outputs": [
    {
     "name": "stdout",
     "output_type": "stream",
     "text": [
      "Enter the length of the first side of the triangle : 5\n",
      "Enter the length of the second side of the triangle : 5\n",
      "The length of the thrid side of the right-angled triangle is 7.07\n"
     ]
    }
   ],
   "source": [
    "#To find the thrid side of a right angled triangle we can build the program by using the pythagorus theorem\n",
    "import numpy as np\n",
    "\n",
    "a = int(input('Enter the length of the first side of the triangle : '))\n",
    "b =int(input('Enter the length of the second side of the triangle : '))\n",
    "a = a*a\n",
    "b = b*b\n",
    "product = a+b\n",
    "c= np.sqrt(product)\n",
    "print ('The length of the thrid side of the right-angled triangle is', \"%.2f\" %c)\n"
   ]
  },
  {
   "cell_type": "markdown",
   "id": "c2a3e5da",
   "metadata": {},
   "source": [
    "# Python program to print the frequency of each of the characters present in a given string"
   ]
  },
  {
   "cell_type": "code",
   "execution_count": 26,
   "id": "f45336c3",
   "metadata": {},
   "outputs": [
    {
     "name": "stdout",
     "output_type": "stream",
     "text": [
      "Please enter a sentence: jhjjjhhhh\n",
      "Frequency of each of the characters present in a given string is Counter({'h': 5, 'j': 4})\n"
     ]
    }
   ],
   "source": [
    "from collections import Counter\n",
    "\n",
    "string = input('Please enter a sentence: ')\n",
    "frequency = Counter(string)\n",
    "print('Frequency of each of the characters present in a given string is',frequency)\n",
    "    "
   ]
  },
  {
   "cell_type": "code",
   "execution_count": null,
   "id": "d1327258",
   "metadata": {},
   "outputs": [],
   "source": []
  },
  {
   "cell_type": "code",
   "execution_count": null,
   "id": "486de11e",
   "metadata": {},
   "outputs": [],
   "source": []
  }
 ],
 "metadata": {
  "kernelspec": {
   "display_name": "Python 3 (ipykernel)",
   "language": "python",
   "name": "python3"
  },
  "language_info": {
   "codemirror_mode": {
    "name": "ipython",
    "version": 3
   },
   "file_extension": ".py",
   "mimetype": "text/x-python",
   "name": "python",
   "nbconvert_exporter": "python",
   "pygments_lexer": "ipython3",
   "version": "3.9.7"
  }
 },
 "nbformat": 4,
 "nbformat_minor": 5
}
