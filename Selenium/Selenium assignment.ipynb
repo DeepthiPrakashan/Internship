{
 "cells": [
  {
   "cell_type": "code",
   "execution_count": 6,
   "id": "818f7202",
   "metadata": {
    "scrolled": true
   },
   "outputs": [
    {
     "name": "stdout",
     "output_type": "stream",
     "text": [
      "Requirement already satisfied: selenium in c:\\users\\user\\anaconda3\\lib\\site-packages (4.3.0)\n",
      "Requirement already satisfied: urllib3[secure,socks]~=1.26 in c:\\users\\user\\anaconda3\\lib\\site-packages (from selenium) (1.26.7)\n",
      "Requirement already satisfied: trio~=0.17 in c:\\users\\user\\anaconda3\\lib\\site-packages (from selenium) (0.21.0)\n",
      "Requirement already satisfied: trio-websocket~=0.9 in c:\\users\\user\\anaconda3\\lib\\site-packages (from selenium) (0.9.2)\n",
      "Requirement already satisfied: async-generator>=1.9 in c:\\users\\user\\anaconda3\\lib\\site-packages (from trio~=0.17->selenium) (1.10)\n",
      "Requirement already satisfied: cffi>=1.14 in c:\\users\\user\\anaconda3\\lib\\site-packages (from trio~=0.17->selenium) (1.14.6)\n",
      "Requirement already satisfied: sniffio in c:\\users\\user\\anaconda3\\lib\\site-packages (from trio~=0.17->selenium) (1.2.0)\n",
      "Requirement already satisfied: idna in c:\\users\\user\\anaconda3\\lib\\site-packages (from trio~=0.17->selenium) (3.2)\n",
      "Requirement already satisfied: outcome in c:\\users\\user\\anaconda3\\lib\\site-packages (from trio~=0.17->selenium) (1.2.0)\n",
      "Requirement already satisfied: sortedcontainers in c:\\users\\user\\anaconda3\\lib\\site-packages (from trio~=0.17->selenium) (2.4.0)\n",
      "Requirement already satisfied: attrs>=19.2.0 in c:\\users\\user\\anaconda3\\lib\\site-packages (from trio~=0.17->selenium) (21.2.0)\n",
      "Requirement already satisfied: pycparser in c:\\users\\user\\anaconda3\\lib\\site-packages (from cffi>=1.14->trio~=0.17->selenium) (2.20)\n",
      "Requirement already satisfied: wsproto>=0.14 in c:\\users\\user\\anaconda3\\lib\\site-packages (from trio-websocket~=0.9->selenium) (1.1.0)\n",
      "Requirement already satisfied: PySocks!=1.5.7,<2.0,>=1.5.6 in c:\\users\\user\\anaconda3\\lib\\site-packages (from urllib3[secure,socks]~=1.26->selenium) (1.7.1)\n",
      "Requirement already satisfied: pyOpenSSL>=0.14 in c:\\users\\user\\anaconda3\\lib\\site-packages (from urllib3[secure,socks]~=1.26->selenium) (21.0.0)\n",
      "Requirement already satisfied: cryptography>=1.3.4 in c:\\users\\user\\anaconda3\\lib\\site-packages (from urllib3[secure,socks]~=1.26->selenium) (3.4.8)\n",
      "Requirement already satisfied: certifi in c:\\users\\user\\anaconda3\\lib\\site-packages (from urllib3[secure,socks]~=1.26->selenium) (2021.10.8)\n",
      "Requirement already satisfied: six>=1.5.2 in c:\\users\\user\\anaconda3\\lib\\site-packages (from pyOpenSSL>=0.14->urllib3[secure,socks]~=1.26->selenium) (1.16.0)\n",
      "Requirement already satisfied: h11<1,>=0.9.0 in c:\\users\\user\\anaconda3\\lib\\site-packages (from wsproto>=0.14->trio-websocket~=0.9->selenium) (0.13.0)\n"
     ]
    }
   ],
   "source": [
    "!pip install selenium"
   ]
  },
  {
   "cell_type": "code",
   "execution_count": 2,
   "id": "f6476f6c",
   "metadata": {},
   "outputs": [],
   "source": [
    "import selenium \n",
    "from selenium import webdriver\n",
    "import pandas as pd\n",
    "import warnings\n",
    "warnings.filterwarnings('ignore')\n",
    "from selenium.webdriver.common.by import By\n",
    "from selenium.webdriver.support.ui import WebDriverWait\n",
    "from selenium.webdriver.support import expected_conditions as EC\n",
    "from selenium.common.exceptions import StaleElementReferenceException\n",
    "import time\n"
   ]
  },
  {
   "cell_type": "markdown",
   "id": "3eab1062",
   "metadata": {},
   "source": [
    "# Q1 Python program to scrape data for “Data Analyst” Job position in “Bangalore” location."
   ]
  },
  {
   "cell_type": "code",
   "execution_count": 3,
   "id": "b5608c2a",
   "metadata": {},
   "outputs": [],
   "source": [
    "driver = webdriver.Chrome(r'C:\\Users\\USER\\Downloads\\chromedriver_win32\\chromedriver.exe')"
   ]
  },
  {
   "cell_type": "code",
   "execution_count": 4,
   "id": "3b84ccfa",
   "metadata": {},
   "outputs": [],
   "source": [
    "url = 'https://www.naukri.com/'\n",
    "driver.get(url)"
   ]
  },
  {
   "cell_type": "code",
   "execution_count": 8,
   "id": "4122b116",
   "metadata": {},
   "outputs": [],
   "source": [
    "search_job = driver.find_element(By.CLASS_NAME,'suggestor-input')"
   ]
  },
  {
   "cell_type": "code",
   "execution_count": 9,
   "id": "02c099c5",
   "metadata": {},
   "outputs": [],
   "source": [
    "search_job.send_keys('Data Analyst')"
   ]
  },
  {
   "cell_type": "code",
   "execution_count": 12,
   "id": "67c6ce7a",
   "metadata": {},
   "outputs": [],
   "source": [
    "search_loc = driver.find_element(By.XPATH,'/html/body/div[1]/div[2]/div[3]/div/div/div[5]/div/div/div/input') #To add location"
   ]
  },
  {
   "cell_type": "code",
   "execution_count": 13,
   "id": "f0bb0acf",
   "metadata": {},
   "outputs": [],
   "source": [
    "search_loc.send_keys('Bangalore')"
   ]
  },
  {
   "cell_type": "code",
   "execution_count": 14,
   "id": "fb9c1abf",
   "metadata": {},
   "outputs": [],
   "source": [
    "search_btn = driver.find_element(By.CLASS_NAME,'qsbSubmit')"
   ]
  },
  {
   "cell_type": "code",
   "execution_count": 15,
   "id": "03777815",
   "metadata": {},
   "outputs": [],
   "source": [
    "search_btn.click()"
   ]
  },
  {
   "cell_type": "code",
   "execution_count": 25,
   "id": "40bfe81f",
   "metadata": {},
   "outputs": [
    {
     "data": {
      "text/plain": [
       "10"
      ]
     },
     "execution_count": 25,
     "metadata": {},
     "output_type": "execute_result"
    }
   ],
   "source": [
    "job_tags = driver.find_elements(By.XPATH,'//a[@class=\"title fw500 ellipsis\"]')[:10]\n",
    "len(job_tags)"
   ]
  },
  {
   "cell_type": "code",
   "execution_count": 26,
   "id": "eca24015",
   "metadata": {},
   "outputs": [
    {
     "data": {
      "text/plain": [
       "['Sr.Business Data Analyst',\n",
       " 'Data Analyst - CRM Platform',\n",
       " 'Reference Data Analyst',\n",
       " 'Sales Data Analyst',\n",
       " 'Data Analyst',\n",
       " 'Hiring Data Analyst - Forensics, KPMG India',\n",
       " 'Data Analyst/Senior Data Analyst',\n",
       " 'Data Analyst - Marketplace',\n",
       " 'Hiring Data Analysts - Virtusa',\n",
       " 'Senior Data Analyst II']"
      ]
     },
     "execution_count": 26,
     "metadata": {},
     "output_type": "execute_result"
    }
   ],
   "source": [
    "job_titles = []\n",
    "for i in job_tags:\n",
    "    job_titles.append(i.text)\n",
    "job_titles    "
   ]
  },
  {
   "cell_type": "code",
   "execution_count": 27,
   "id": "a6ad593a",
   "metadata": {},
   "outputs": [
    {
     "data": {
      "text/plain": [
       "10"
      ]
     },
     "execution_count": 27,
     "metadata": {},
     "output_type": "execute_result"
    }
   ],
   "source": [
    "company_tags = driver.find_elements(By.XPATH,'//a[@class=\"subTitle ellipsis fleft\"]')[:10]\n",
    "len(company_tags)"
   ]
  },
  {
   "cell_type": "code",
   "execution_count": 28,
   "id": "8c7e58f9",
   "metadata": {},
   "outputs": [
    {
     "data": {
      "text/plain": [
       "['Collabera',\n",
       " 'Artech infosystem',\n",
       " 'Deutsche Bank',\n",
       " 'NUANCE INDIA PVT LTD',\n",
       " 'Clarivate',\n",
       " 'KPMG India',\n",
       " 'Meesho',\n",
       " 'Gojek',\n",
       " 'Virtusa',\n",
       " 'Flipkart']"
      ]
     },
     "execution_count": 28,
     "metadata": {},
     "output_type": "execute_result"
    }
   ],
   "source": [
    "company_names=[]\n",
    "for i in company_tags:\n",
    "    company_names.append(i.text)\n",
    "company_names\n"
   ]
  },
  {
   "cell_type": "code",
   "execution_count": 39,
   "id": "7487b1cf",
   "metadata": {},
   "outputs": [
    {
     "data": {
      "text/plain": [
       "10"
      ]
     },
     "execution_count": 39,
     "metadata": {},
     "output_type": "execute_result"
    }
   ],
   "source": [
    "exp_tags = driver.find_elements(By.XPATH,'//li[@class=\"fleft grey-text br2 placeHolderLi experience\"]')[:10]\n",
    "len(exp_tags)"
   ]
  },
  {
   "cell_type": "code",
   "execution_count": 40,
   "id": "c82864f9",
   "metadata": {},
   "outputs": [
    {
     "data": {
      "text/plain": [
       "['6-11 Yrs',\n",
       " '1-6 Yrs',\n",
       " '2-5 Yrs',\n",
       " '1-3 Yrs',\n",
       " '2-4 Yrs',\n",
       " '2-6 Yrs',\n",
       " '3-6 Yrs',\n",
       " '3-7 Yrs',\n",
       " '4-8 Yrs',\n",
       " '3-6 Yrs']"
      ]
     },
     "execution_count": 40,
     "metadata": {},
     "output_type": "execute_result"
    }
   ],
   "source": [
    "experience= []\n",
    "for i in exp_tags:\n",
    "    experience.append(i.text)\n",
    "experience\n",
    "    "
   ]
  },
  {
   "cell_type": "code",
   "execution_count": 41,
   "id": "23266645",
   "metadata": {},
   "outputs": [
    {
     "data": {
      "text/plain": [
       "10"
      ]
     },
     "execution_count": 41,
     "metadata": {},
     "output_type": "execute_result"
    }
   ],
   "source": [
    "loc_tags = driver.find_elements(By.XPATH,'//li[@class=\"fleft grey-text br2 placeHolderLi location\"]')[:10]\n",
    "len(loc_tags)"
   ]
  },
  {
   "cell_type": "code",
   "execution_count": 42,
   "id": "95f500b7",
   "metadata": {},
   "outputs": [
    {
     "data": {
      "text/plain": [
       "['Bangalore/Bengaluru, karnataka\\n(WFH during Covid)',\n",
       " 'Bangalore/Bengaluru, Mumbai, Hyderabad/Secunderabad, Pune, Chennai, Ahmedabad',\n",
       " 'Bangalore/Bengaluru',\n",
       " 'Bangalore/Bengaluru',\n",
       " 'Bangalore/Bengaluru',\n",
       " 'Bangalore/Bengaluru, Noida, Kolkata, Mumbai, Gurgaon/Gurugram, Delhi / NCR, Mumbai (All Areas)',\n",
       " 'Bangalore/Bengaluru',\n",
       " 'Bangalore/Bengaluru',\n",
       " 'Bangalore/Bengaluru, Hyderabad/Secunderabad, Pune, Chennai',\n",
       " 'Bangalore/Bengaluru']"
      ]
     },
     "execution_count": 42,
     "metadata": {},
     "output_type": "execute_result"
    }
   ],
   "source": [
    "location = []\n",
    "for i in loc_tags:\n",
    "    location.append(i.text)\n",
    "location"
   ]
  },
  {
   "cell_type": "code",
   "execution_count": 43,
   "id": "fc04f4c0",
   "metadata": {},
   "outputs": [
    {
     "data": {
      "text/html": [
       "<div>\n",
       "<style scoped>\n",
       "    .dataframe tbody tr th:only-of-type {\n",
       "        vertical-align: middle;\n",
       "    }\n",
       "\n",
       "    .dataframe tbody tr th {\n",
       "        vertical-align: top;\n",
       "    }\n",
       "\n",
       "    .dataframe thead th {\n",
       "        text-align: right;\n",
       "    }\n",
       "</style>\n",
       "<table border=\"1\" class=\"dataframe\">\n",
       "  <thead>\n",
       "    <tr style=\"text-align: right;\">\n",
       "      <th></th>\n",
       "      <th>Data Analyst job titles</th>\n",
       "      <th>Company</th>\n",
       "      <th>Experience</th>\n",
       "      <th>Location</th>\n",
       "    </tr>\n",
       "  </thead>\n",
       "  <tbody>\n",
       "    <tr>\n",
       "      <th>0</th>\n",
       "      <td>Sr.Business Data Analyst</td>\n",
       "      <td>Collabera</td>\n",
       "      <td>6-11 Yrs</td>\n",
       "      <td>Bangalore/Bengaluru, karnataka\\n(WFH during Co...</td>\n",
       "    </tr>\n",
       "    <tr>\n",
       "      <th>1</th>\n",
       "      <td>Data Analyst - CRM Platform</td>\n",
       "      <td>Artech infosystem</td>\n",
       "      <td>1-6 Yrs</td>\n",
       "      <td>Bangalore/Bengaluru, Mumbai, Hyderabad/Secunde...</td>\n",
       "    </tr>\n",
       "    <tr>\n",
       "      <th>2</th>\n",
       "      <td>Reference Data Analyst</td>\n",
       "      <td>Deutsche Bank</td>\n",
       "      <td>2-5 Yrs</td>\n",
       "      <td>Bangalore/Bengaluru</td>\n",
       "    </tr>\n",
       "    <tr>\n",
       "      <th>3</th>\n",
       "      <td>Sales Data Analyst</td>\n",
       "      <td>NUANCE INDIA PVT LTD</td>\n",
       "      <td>1-3 Yrs</td>\n",
       "      <td>Bangalore/Bengaluru</td>\n",
       "    </tr>\n",
       "    <tr>\n",
       "      <th>4</th>\n",
       "      <td>Data Analyst</td>\n",
       "      <td>Clarivate</td>\n",
       "      <td>2-4 Yrs</td>\n",
       "      <td>Bangalore/Bengaluru</td>\n",
       "    </tr>\n",
       "    <tr>\n",
       "      <th>5</th>\n",
       "      <td>Hiring Data Analyst - Forensics, KPMG India</td>\n",
       "      <td>KPMG India</td>\n",
       "      <td>2-6 Yrs</td>\n",
       "      <td>Bangalore/Bengaluru, Noida, Kolkata, Mumbai, G...</td>\n",
       "    </tr>\n",
       "    <tr>\n",
       "      <th>6</th>\n",
       "      <td>Data Analyst/Senior Data Analyst</td>\n",
       "      <td>Meesho</td>\n",
       "      <td>3-6 Yrs</td>\n",
       "      <td>Bangalore/Bengaluru</td>\n",
       "    </tr>\n",
       "    <tr>\n",
       "      <th>7</th>\n",
       "      <td>Data Analyst - Marketplace</td>\n",
       "      <td>Gojek</td>\n",
       "      <td>3-7 Yrs</td>\n",
       "      <td>Bangalore/Bengaluru</td>\n",
       "    </tr>\n",
       "    <tr>\n",
       "      <th>8</th>\n",
       "      <td>Hiring Data Analysts - Virtusa</td>\n",
       "      <td>Virtusa</td>\n",
       "      <td>4-8 Yrs</td>\n",
       "      <td>Bangalore/Bengaluru, Hyderabad/Secunderabad, P...</td>\n",
       "    </tr>\n",
       "    <tr>\n",
       "      <th>9</th>\n",
       "      <td>Senior Data Analyst II</td>\n",
       "      <td>Flipkart</td>\n",
       "      <td>3-6 Yrs</td>\n",
       "      <td>Bangalore/Bengaluru</td>\n",
       "    </tr>\n",
       "  </tbody>\n",
       "</table>\n",
       "</div>"
      ],
      "text/plain": [
       "                       Data Analyst job titles               Company  \\\n",
       "0                     Sr.Business Data Analyst             Collabera   \n",
       "1                  Data Analyst - CRM Platform     Artech infosystem   \n",
       "2                       Reference Data Analyst         Deutsche Bank   \n",
       "3                           Sales Data Analyst  NUANCE INDIA PVT LTD   \n",
       "4                                 Data Analyst             Clarivate   \n",
       "5  Hiring Data Analyst - Forensics, KPMG India            KPMG India   \n",
       "6             Data Analyst/Senior Data Analyst                Meesho   \n",
       "7                   Data Analyst - Marketplace                 Gojek   \n",
       "8               Hiring Data Analysts - Virtusa               Virtusa   \n",
       "9                       Senior Data Analyst II              Flipkart   \n",
       "\n",
       "  Experience                                           Location  \n",
       "0   6-11 Yrs  Bangalore/Bengaluru, karnataka\\n(WFH during Co...  \n",
       "1    1-6 Yrs  Bangalore/Bengaluru, Mumbai, Hyderabad/Secunde...  \n",
       "2    2-5 Yrs                                Bangalore/Bengaluru  \n",
       "3    1-3 Yrs                                Bangalore/Bengaluru  \n",
       "4    2-4 Yrs                                Bangalore/Bengaluru  \n",
       "5    2-6 Yrs  Bangalore/Bengaluru, Noida, Kolkata, Mumbai, G...  \n",
       "6    3-6 Yrs                                Bangalore/Bengaluru  \n",
       "7    3-7 Yrs                                Bangalore/Bengaluru  \n",
       "8    4-8 Yrs  Bangalore/Bengaluru, Hyderabad/Secunderabad, P...  \n",
       "9    3-6 Yrs                                Bangalore/Bengaluru  "
      ]
     },
     "execution_count": 43,
     "metadata": {},
     "output_type": "execute_result"
    }
   ],
   "source": [
    "df1 = pd.DataFrame({\"Data Analyst job titles\": job_titles, \"Company\": company_name, \"Experience\": experience, \"Location\": location})\n",
    "df1"
   ]
  },
  {
   "cell_type": "markdown",
   "id": "20d0ec83",
   "metadata": {},
   "source": [
    "# Q2  Python program to scrape data for “Data Scientist” Job position in “Bangalore” location."
   ]
  },
  {
   "cell_type": "code",
   "execution_count": 95,
   "id": "6e11f863",
   "metadata": {},
   "outputs": [],
   "source": [
    "driver = webdriver.Chrome(r'C:\\Users\\USER\\Downloads\\chromedriver_win32\\chromedriver.exe')"
   ]
  },
  {
   "cell_type": "code",
   "execution_count": 139,
   "id": "ad3b1f7f",
   "metadata": {},
   "outputs": [],
   "source": [
    "url = 'https://www.naukri.com/'\n",
    "driver.get(url)"
   ]
  },
  {
   "cell_type": "code",
   "execution_count": 140,
   "id": "57bba544",
   "metadata": {},
   "outputs": [
    {
     "data": {
      "text/plain": [
       "<selenium.webdriver.remote.webelement.WebElement (session=\"7953f29cc7a3ae583d364f074d9389ab\", element=\"05d8aea1-640b-4bd6-a2ba-f6308d9fe3e4\")>"
      ]
     },
     "execution_count": 140,
     "metadata": {},
     "output_type": "execute_result"
    }
   ],
   "source": [
    "search_job= driver.find_element(By.CLASS_NAME,\"suggestor-input\")\n",
    "search_job"
   ]
  },
  {
   "cell_type": "code",
   "execution_count": 141,
   "id": "b40d684c",
   "metadata": {},
   "outputs": [],
   "source": [
    "search_job.send_keys('Data Scientist')"
   ]
  },
  {
   "cell_type": "code",
   "execution_count": 142,
   "id": "946c9777",
   "metadata": {},
   "outputs": [
    {
     "data": {
      "text/plain": [
       "<selenium.webdriver.remote.webelement.WebElement (session=\"7953f29cc7a3ae583d364f074d9389ab\", element=\"6095a942-7b0f-4242-a742-dfe0045b2551\")>"
      ]
     },
     "execution_count": 142,
     "metadata": {},
     "output_type": "execute_result"
    }
   ],
   "source": [
    "search_loc = driver.find_element(By.XPATH,'/html/body/div[1]/div[2]/div[3]/div/div/div[5]/div/div/div/input')\n",
    "search_loc"
   ]
  },
  {
   "cell_type": "code",
   "execution_count": 143,
   "id": "61f84f72",
   "metadata": {},
   "outputs": [],
   "source": [
    "search_loc.send_keys('Bangalore')"
   ]
  },
  {
   "cell_type": "code",
   "execution_count": 144,
   "id": "79fe3e02",
   "metadata": {},
   "outputs": [
    {
     "data": {
      "text/plain": [
       "<selenium.webdriver.remote.webelement.WebElement (session=\"7953f29cc7a3ae583d364f074d9389ab\", element=\"7b72d9ce-16f6-432b-82af-1f31976dab35\")>"
      ]
     },
     "execution_count": 144,
     "metadata": {},
     "output_type": "execute_result"
    }
   ],
   "source": [
    "search_btn= driver.find_element(By.XPATH,'/html/body/div[1]/div[2]/div[3]/div/div/div[6]')\n",
    "search_btn"
   ]
  },
  {
   "cell_type": "code",
   "execution_count": 145,
   "id": "0a2c19b2",
   "metadata": {},
   "outputs": [],
   "source": [
    "search_btn.click()"
   ]
  },
  {
   "cell_type": "code",
   "execution_count": 146,
   "id": "cfebf5a1",
   "metadata": {},
   "outputs": [],
   "source": [
    "title_tags =driver.find_elements(By.XPATH,'//a[@class=\"title fw500 ellipsis\"]')[:10]"
   ]
  },
  {
   "cell_type": "code",
   "execution_count": 147,
   "id": "a5ba3a31",
   "metadata": {},
   "outputs": [
    {
     "data": {
      "text/plain": [
       "10"
      ]
     },
     "execution_count": 147,
     "metadata": {},
     "output_type": "execute_result"
    }
   ],
   "source": [
    "len(title_tags)"
   ]
  },
  {
   "cell_type": "code",
   "execution_count": 148,
   "id": "106f5b5c",
   "metadata": {},
   "outputs": [],
   "source": [
    "#Extracting job titles\n",
    "job_titles=[]\n",
    "for i in title_tags:\n",
    "    job_titles.append(i.text)\n",
    "    "
   ]
  },
  {
   "cell_type": "code",
   "execution_count": 149,
   "id": "9f80d1ae",
   "metadata": {},
   "outputs": [
    {
     "data": {
      "text/plain": [
       "10"
      ]
     },
     "execution_count": 149,
     "metadata": {},
     "output_type": "execute_result"
    }
   ],
   "source": [
    "len(job_titles)"
   ]
  },
  {
   "cell_type": "code",
   "execution_count": 150,
   "id": "d77a6a99",
   "metadata": {},
   "outputs": [
    {
     "data": {
      "text/plain": [
       "['Urgent Job Opening For AI Practitioner - Data Science at Wipro Holmes',\n",
       " 'Dataiku Consultant',\n",
       " 'Research and Development -AI/ML -(PhD )',\n",
       " 'Opportunity For Data Scientist - Female Candidates ONLY',\n",
       " 'Data Scientist: Artificial Intelligence',\n",
       " 'Data Scientist - IN3',\n",
       " 'Data Scientist - IN3',\n",
       " 'Senior Data Science Engineer',\n",
       " 'Senior Data Scientist',\n",
       " 'Data Science - Engineering Manager']"
      ]
     },
     "execution_count": 150,
     "metadata": {},
     "output_type": "execute_result"
    }
   ],
   "source": [
    "job_titles"
   ]
  },
  {
   "cell_type": "code",
   "execution_count": 152,
   "id": "ab93e2dc",
   "metadata": {},
   "outputs": [
    {
     "data": {
      "text/plain": [
       "10"
      ]
     },
     "execution_count": 152,
     "metadata": {},
     "output_type": "execute_result"
    }
   ],
   "source": [
    "#Extracting company names\n",
    "\n",
    "company_tags = driver.find_elements(By.XPATH,'//a[@class=\"subTitle ellipsis fleft\"]')[:10]\n",
    "len(company_tags)"
   ]
  },
  {
   "cell_type": "code",
   "execution_count": 153,
   "id": "944f30c2",
   "metadata": {},
   "outputs": [
    {
     "data": {
      "text/plain": [
       "10"
      ]
     },
     "execution_count": 153,
     "metadata": {},
     "output_type": "execute_result"
    }
   ],
   "source": [
    "compay_names = []\n",
    "for i in company_tags:\n",
    "    compay_names.append(i.text)\n",
    "len(compay_names)"
   ]
  },
  {
   "cell_type": "code",
   "execution_count": 154,
   "id": "c2e10fe3",
   "metadata": {},
   "outputs": [
    {
     "data": {
      "text/plain": [
       "['Wipro',\n",
       " 'Wipro',\n",
       " 'EXL',\n",
       " 'PayU',\n",
       " 'IBM',\n",
       " 'Walmart',\n",
       " 'Walmart',\n",
       " 'Fractal Analytics',\n",
       " 'Baker Hughes',\n",
       " 'Paytm']"
      ]
     },
     "execution_count": 154,
     "metadata": {},
     "output_type": "execute_result"
    }
   ],
   "source": [
    "compay_names"
   ]
  },
  {
   "cell_type": "code",
   "execution_count": 155,
   "id": "2eb8eeb6",
   "metadata": {},
   "outputs": [
    {
     "data": {
      "text/plain": [
       "10"
      ]
     },
     "execution_count": 155,
     "metadata": {},
     "output_type": "execute_result"
    }
   ],
   "source": [
    "#Extracting location:\n",
    "loc_tags= driver.find_elements(By.XPATH,'//li[@class=\"fleft grey-text br2 placeHolderLi location\"]')[:10]\n",
    "len(loc_tags)"
   ]
  },
  {
   "cell_type": "code",
   "execution_count": 157,
   "id": "e1b58723",
   "metadata": {},
   "outputs": [
    {
     "data": {
      "text/plain": [
       "10"
      ]
     },
     "execution_count": 157,
     "metadata": {},
     "output_type": "execute_result"
    }
   ],
   "source": [
    "location = []\n",
    "for i in loc_tags:\n",
    "    location.append(i.text)\n",
    "len(location)"
   ]
  },
  {
   "cell_type": "code",
   "execution_count": 158,
   "id": "3fb55a06",
   "metadata": {},
   "outputs": [
    {
     "data": {
      "text/plain": [
       "['Bangalore/Bengaluru, Kochi/Cochin, New Delhi, Coimbatore, Chennai, Pune, Mumbai, Hyderabad',\n",
       " 'Bangalore/Bengaluru, Pune, Chennai',\n",
       " 'Bangalore/Bengaluru, Noida, Hyderabad/Secunderabad, Pune, Gurgaon/Gurugram, Chennai, Delhi / NCR',\n",
       " 'Bangalore/Bengaluru, Gurgaon/Gurugram, Mumbai (All Areas)',\n",
       " 'Bangalore/Bengaluru',\n",
       " 'Bangalore/Bengaluru',\n",
       " 'Bangalore/Bengaluru',\n",
       " 'Bangalore/Bengaluru, Gurgaon/Gurugram, Mumbai (All Areas)',\n",
       " 'Bangalore/Bengaluru, Mumbai',\n",
       " 'Bangalore/Bengaluru, Noida, Mumbai']"
      ]
     },
     "execution_count": 158,
     "metadata": {},
     "output_type": "execute_result"
    }
   ],
   "source": [
    "location"
   ]
  },
  {
   "cell_type": "code",
   "execution_count": 162,
   "id": "7ee8481d",
   "metadata": {},
   "outputs": [],
   "source": [
    "df = pd.DataFrame({'Job Title':job_titles,'Company':compay_names,'Location':location})"
   ]
  },
  {
   "cell_type": "code",
   "execution_count": 163,
   "id": "b20fdbbd",
   "metadata": {},
   "outputs": [
    {
     "data": {
      "text/html": [
       "<div>\n",
       "<style scoped>\n",
       "    .dataframe tbody tr th:only-of-type {\n",
       "        vertical-align: middle;\n",
       "    }\n",
       "\n",
       "    .dataframe tbody tr th {\n",
       "        vertical-align: top;\n",
       "    }\n",
       "\n",
       "    .dataframe thead th {\n",
       "        text-align: right;\n",
       "    }\n",
       "</style>\n",
       "<table border=\"1\" class=\"dataframe\">\n",
       "  <thead>\n",
       "    <tr style=\"text-align: right;\">\n",
       "      <th></th>\n",
       "      <th>Job Title</th>\n",
       "      <th>Company</th>\n",
       "      <th>Location</th>\n",
       "    </tr>\n",
       "  </thead>\n",
       "  <tbody>\n",
       "    <tr>\n",
       "      <th>0</th>\n",
       "      <td>Urgent Job Opening For AI Practitioner - Data ...</td>\n",
       "      <td>Wipro</td>\n",
       "      <td>Bangalore/Bengaluru, Kochi/Cochin, New Delhi, ...</td>\n",
       "    </tr>\n",
       "    <tr>\n",
       "      <th>1</th>\n",
       "      <td>Dataiku Consultant</td>\n",
       "      <td>Wipro</td>\n",
       "      <td>Bangalore/Bengaluru, Pune, Chennai</td>\n",
       "    </tr>\n",
       "    <tr>\n",
       "      <th>2</th>\n",
       "      <td>Research and Development -AI/ML -(PhD )</td>\n",
       "      <td>EXL</td>\n",
       "      <td>Bangalore/Bengaluru, Noida, Hyderabad/Secunder...</td>\n",
       "    </tr>\n",
       "    <tr>\n",
       "      <th>3</th>\n",
       "      <td>Opportunity For Data Scientist - Female Candid...</td>\n",
       "      <td>PayU</td>\n",
       "      <td>Bangalore/Bengaluru, Gurgaon/Gurugram, Mumbai ...</td>\n",
       "    </tr>\n",
       "    <tr>\n",
       "      <th>4</th>\n",
       "      <td>Data Scientist: Artificial Intelligence</td>\n",
       "      <td>IBM</td>\n",
       "      <td>Bangalore/Bengaluru</td>\n",
       "    </tr>\n",
       "    <tr>\n",
       "      <th>5</th>\n",
       "      <td>Data Scientist - IN3</td>\n",
       "      <td>Walmart</td>\n",
       "      <td>Bangalore/Bengaluru</td>\n",
       "    </tr>\n",
       "    <tr>\n",
       "      <th>6</th>\n",
       "      <td>Data Scientist - IN3</td>\n",
       "      <td>Walmart</td>\n",
       "      <td>Bangalore/Bengaluru</td>\n",
       "    </tr>\n",
       "    <tr>\n",
       "      <th>7</th>\n",
       "      <td>Senior Data Science Engineer</td>\n",
       "      <td>Fractal Analytics</td>\n",
       "      <td>Bangalore/Bengaluru, Gurgaon/Gurugram, Mumbai ...</td>\n",
       "    </tr>\n",
       "    <tr>\n",
       "      <th>8</th>\n",
       "      <td>Senior Data Scientist</td>\n",
       "      <td>Baker Hughes</td>\n",
       "      <td>Bangalore/Bengaluru, Mumbai</td>\n",
       "    </tr>\n",
       "    <tr>\n",
       "      <th>9</th>\n",
       "      <td>Data Science - Engineering Manager</td>\n",
       "      <td>Paytm</td>\n",
       "      <td>Bangalore/Bengaluru, Noida, Mumbai</td>\n",
       "    </tr>\n",
       "  </tbody>\n",
       "</table>\n",
       "</div>"
      ],
      "text/plain": [
       "                                           Job Title            Company  \\\n",
       "0  Urgent Job Opening For AI Practitioner - Data ...              Wipro   \n",
       "1                                 Dataiku Consultant              Wipro   \n",
       "2            Research and Development -AI/ML -(PhD )                EXL   \n",
       "3  Opportunity For Data Scientist - Female Candid...               PayU   \n",
       "4            Data Scientist: Artificial Intelligence                IBM   \n",
       "5                               Data Scientist - IN3            Walmart   \n",
       "6                               Data Scientist - IN3            Walmart   \n",
       "7                       Senior Data Science Engineer  Fractal Analytics   \n",
       "8                              Senior Data Scientist       Baker Hughes   \n",
       "9                 Data Science - Engineering Manager              Paytm   \n",
       "\n",
       "                                            Location  \n",
       "0  Bangalore/Bengaluru, Kochi/Cochin, New Delhi, ...  \n",
       "1                 Bangalore/Bengaluru, Pune, Chennai  \n",
       "2  Bangalore/Bengaluru, Noida, Hyderabad/Secunder...  \n",
       "3  Bangalore/Bengaluru, Gurgaon/Gurugram, Mumbai ...  \n",
       "4                                Bangalore/Bengaluru  \n",
       "5                                Bangalore/Bengaluru  \n",
       "6                                Bangalore/Bengaluru  \n",
       "7  Bangalore/Bengaluru, Gurgaon/Gurugram, Mumbai ...  \n",
       "8                        Bangalore/Bengaluru, Mumbai  \n",
       "9                 Bangalore/Bengaluru, Noida, Mumbai  "
      ]
     },
     "execution_count": 163,
     "metadata": {},
     "output_type": "execute_result"
    }
   ],
   "source": [
    "df"
   ]
  },
  {
   "cell_type": "markdown",
   "id": "46ef72d9",
   "metadata": {},
   "source": [
    "# Q3"
   ]
  },
  {
   "cell_type": "code",
   "execution_count": 98,
   "id": "fd4df26a",
   "metadata": {},
   "outputs": [],
   "source": [
    "driver = webdriver.Chrome(r'C:\\Users\\USER\\Downloads\\chromedriver_win32\\chromedriver.exe')\n",
    "url ='https://www.naukri.com/'\n",
    "driver.get(url)\n",
    "driver.maximize_window()\n"
   ]
  },
  {
   "cell_type": "code",
   "execution_count": 99,
   "id": "b6b176c4",
   "metadata": {},
   "outputs": [],
   "source": [
    "search_job= driver.find_element(By.CLASS_NAME,\"suggestor-input\")\n",
    "search_job.send_keys('Data Scientist')\n"
   ]
  },
  {
   "cell_type": "code",
   "execution_count": 100,
   "id": "c91e671b",
   "metadata": {},
   "outputs": [],
   "source": [
    "search_loc = driver.find_element(By.XPATH,'/html/body/div[1]/div[2]/div[3]/div/div/div[5]/div/div/div/input')\n",
    "search_loc.send_keys('Delhi/NCR')"
   ]
  },
  {
   "cell_type": "code",
   "execution_count": 101,
   "id": "933f4914",
   "metadata": {},
   "outputs": [],
   "source": [
    "search_btn= driver.find_element(By.XPATH,'/html/body/div[1]/div[2]/div[3]/div/div/div[6]')\n",
    "search_btn.click()"
   ]
  },
  {
   "cell_type": "code",
   "execution_count": 103,
   "id": "e9180927",
   "metadata": {},
   "outputs": [],
   "source": [
    "#clicking on filter with 3- 5 lakhs salary\n",
    "c = driver.find_element(By.XPATH,'/html/body/div[1]/div[3]/div[2]/section[1]/div[2]/div[5]/div[2]/div[2]/label/i')\n",
    "c.click()"
   ]
  },
  {
   "cell_type": "code",
   "execution_count": 104,
   "id": "6ba6a586",
   "metadata": {},
   "outputs": [],
   "source": [
    "title_tags =driver.find_elements(By.XPATH,'//a[@class=\"title fw500 ellipsis\"]')[:10]\n",
    "company_tags = driver.find_elements(By.XPATH,'//a[@class=\"subTitle ellipsis fleft\"]')[:10]\n",
    "loc_tags= driver.find_elements(By.XPATH,'//li[@class=\"fleft grey-text br2 placeHolderLi location\"]')[:10]\n",
    "exp_tags = driver.find_elements(By.XPATH,'//li[@class=\"fleft grey-text br2 placeHolderLi experience\"]')[:10]\n"
   ]
  },
  {
   "cell_type": "code",
   "execution_count": 105,
   "id": "acfecb7e",
   "metadata": {},
   "outputs": [],
   "source": [
    "job_title =[]\n",
    "company = []\n",
    "location = []\n",
    "experience = []\n",
    "\n",
    "for job in title_tags:\n",
    "    job_title.append(job.text)\n",
    "for c in company_tags:\n",
    "    company.append(c.text)\n",
    "for loc in loc_tags:\n",
    "    location.append(loc.text)\n",
    "for exp in exp_tags:\n",
    "    experience.append(exp.text)"
   ]
  },
  {
   "cell_type": "code",
   "execution_count": 108,
   "id": "edf401a6",
   "metadata": {},
   "outputs": [
    {
     "data": {
      "text/html": [
       "<div>\n",
       "<style scoped>\n",
       "    .dataframe tbody tr th:only-of-type {\n",
       "        vertical-align: middle;\n",
       "    }\n",
       "\n",
       "    .dataframe tbody tr th {\n",
       "        vertical-align: top;\n",
       "    }\n",
       "\n",
       "    .dataframe thead th {\n",
       "        text-align: right;\n",
       "    }\n",
       "</style>\n",
       "<table border=\"1\" class=\"dataframe\">\n",
       "  <thead>\n",
       "    <tr style=\"text-align: right;\">\n",
       "      <th></th>\n",
       "      <th>Job Title</th>\n",
       "      <th>Company</th>\n",
       "      <th>Experience</th>\n",
       "      <th>Location</th>\n",
       "    </tr>\n",
       "  </thead>\n",
       "  <tbody>\n",
       "    <tr>\n",
       "      <th>0</th>\n",
       "      <td>Data Scientist - IN3</td>\n",
       "      <td>Walmart</td>\n",
       "      <td>2-5 Yrs</td>\n",
       "      <td>Bangalore/Bengaluru</td>\n",
       "    </tr>\n",
       "    <tr>\n",
       "      <th>1</th>\n",
       "      <td>Artificial Intelligence, Virtual Reality Devel...</td>\n",
       "      <td>ATG Business Solutions</td>\n",
       "      <td>1-5 Yrs</td>\n",
       "      <td>Mumbai, Hyderabad/Secunderabad, Bangalore/Beng...</td>\n",
       "    </tr>\n",
       "    <tr>\n",
       "      <th>2</th>\n",
       "      <td>DigitalBCG GAMMA Data Scientist</td>\n",
       "      <td>Boston Consulting Group</td>\n",
       "      <td>2-5 Yrs</td>\n",
       "      <td>New Delhi, Bangalore/Bengaluru</td>\n",
       "    </tr>\n",
       "    <tr>\n",
       "      <th>3</th>\n",
       "      <td>Data Scientist</td>\n",
       "      <td>Infosys</td>\n",
       "      <td>2-7 Yrs</td>\n",
       "      <td>Bangalore/Bengaluru</td>\n",
       "    </tr>\n",
       "    <tr>\n",
       "      <th>4</th>\n",
       "      <td>Senior Associate - Data Science</td>\n",
       "      <td>Black Turtle India Pvt Ltd</td>\n",
       "      <td>4-7 Yrs</td>\n",
       "      <td>Mumbai, Hyderabad/Secunderabad, Gurgaon/Gurugr...</td>\n",
       "    </tr>\n",
       "    <tr>\n",
       "      <th>5</th>\n",
       "      <td>Data Scientist - Noida/Bangalore</td>\n",
       "      <td>EXL</td>\n",
       "      <td>5-10 Yrs</td>\n",
       "      <td>Noida, Bangalore/Bengaluru</td>\n",
       "    </tr>\n",
       "    <tr>\n",
       "      <th>6</th>\n",
       "      <td>Data Scientist</td>\n",
       "      <td>Applied Materials</td>\n",
       "      <td>2-4 Yrs</td>\n",
       "      <td>Bangalore/Bengaluru</td>\n",
       "    </tr>\n",
       "    <tr>\n",
       "      <th>7</th>\n",
       "      <td>Data Scientist</td>\n",
       "      <td>Applied Materials</td>\n",
       "      <td>4-7 Yrs</td>\n",
       "      <td>Bangalore/Bengaluru</td>\n",
       "    </tr>\n",
       "    <tr>\n",
       "      <th>8</th>\n",
       "      <td>DATA Scientist with Fraud Analytics Experience</td>\n",
       "      <td>Concentrix</td>\n",
       "      <td>2-4 Yrs</td>\n",
       "      <td>Bangalore/Bengaluru</td>\n",
       "    </tr>\n",
       "    <tr>\n",
       "      <th>9</th>\n",
       "      <td>Senior Data Scientist</td>\n",
       "      <td>PayU</td>\n",
       "      <td>3-7 Yrs</td>\n",
       "      <td>Bangalore/Bengaluru</td>\n",
       "    </tr>\n",
       "  </tbody>\n",
       "</table>\n",
       "</div>"
      ],
      "text/plain": [
       "                                           Job Title  \\\n",
       "0                               Data Scientist - IN3   \n",
       "1  Artificial Intelligence, Virtual Reality Devel...   \n",
       "2                    DigitalBCG GAMMA Data Scientist   \n",
       "3                                     Data Scientist   \n",
       "4                    Senior Associate - Data Science   \n",
       "5                   Data Scientist - Noida/Bangalore   \n",
       "6                                     Data Scientist   \n",
       "7                                     Data Scientist   \n",
       "8     DATA Scientist with Fraud Analytics Experience   \n",
       "9                              Senior Data Scientist   \n",
       "\n",
       "                      Company Experience  \\\n",
       "0                     Walmart    2-5 Yrs   \n",
       "1      ATG Business Solutions    1-5 Yrs   \n",
       "2     Boston Consulting Group    2-5 Yrs   \n",
       "3                     Infosys    2-7 Yrs   \n",
       "4  Black Turtle India Pvt Ltd    4-7 Yrs   \n",
       "5                         EXL   5-10 Yrs   \n",
       "6           Applied Materials    2-4 Yrs   \n",
       "7           Applied Materials    4-7 Yrs   \n",
       "8                  Concentrix    2-4 Yrs   \n",
       "9                        PayU    3-7 Yrs   \n",
       "\n",
       "                                            Location  \n",
       "0                                Bangalore/Bengaluru  \n",
       "1  Mumbai, Hyderabad/Secunderabad, Bangalore/Beng...  \n",
       "2                     New Delhi, Bangalore/Bengaluru  \n",
       "3                                Bangalore/Bengaluru  \n",
       "4  Mumbai, Hyderabad/Secunderabad, Gurgaon/Gurugr...  \n",
       "5                         Noida, Bangalore/Bengaluru  \n",
       "6                                Bangalore/Bengaluru  \n",
       "7                                Bangalore/Bengaluru  \n",
       "8                                Bangalore/Bengaluru  \n",
       "9                                Bangalore/Bengaluru  "
      ]
     },
     "execution_count": 108,
     "metadata": {},
     "output_type": "execute_result"
    }
   ],
   "source": [
    "df =pd.DataFrame({'Job Title': job_title, 'Company': company, 'Experience': experience, 'Location': location})\n",
    "df"
   ]
  },
  {
   "cell_type": "markdown",
   "id": "95306c69",
   "metadata": {},
   "source": [
    "# Q4"
   ]
  },
  {
   "cell_type": "code",
   "execution_count": 48,
   "id": "4135c97d",
   "metadata": {},
   "outputs": [],
   "source": [
    "driver = webdriver.Chrome(r'C:\\Users\\USER\\Downloads\\chromedriver_win32\\chromedriver.exe')\n",
    "url= 'http://www.flipkart.com/'\n",
    "driver.get(url)\n",
    "driver.maximize_window()"
   ]
  },
  {
   "cell_type": "code",
   "execution_count": 49,
   "id": "7c4edb85",
   "metadata": {},
   "outputs": [],
   "source": [
    "try:\n",
    "    close= driver.find_element(By.XPATH,'//button[@class=\"_2KpZ6l _2doB4z\"]')\n",
    "    close.click()\n",
    "except:\n",
    "    pass"
   ]
  },
  {
   "cell_type": "code",
   "execution_count": 50,
   "id": "8bfc2072",
   "metadata": {},
   "outputs": [],
   "source": [
    "search_product = driver.find_element(By.CLASS_NAME,\"_3704LK\").send_keys('sunglasses')"
   ]
  },
  {
   "cell_type": "code",
   "execution_count": 51,
   "id": "41d014cf",
   "metadata": {},
   "outputs": [],
   "source": [
    "search_btn = driver.find_element(By.CLASS_NAME,\"L0Z3Pu\").click()"
   ]
  },
  {
   "cell_type": "code",
   "execution_count": 69,
   "id": "d590215c",
   "metadata": {},
   "outputs": [],
   "source": [
    "Brand= []\n",
    "Product_Description= []\n",
    "Price= []\n",
    "\n",
    "Next_btn = driver.find_element(By.XPATH,'//a[@class=\"_1LKTO3\"]')\n",
    "\n",
    "for k in range (3):\n",
    "    brand_tags = WebDriverWait(driver,20).until(EC.visibility_of_all_elements_located((By.XPATH,'//div[@class=\"_2WkVRV\"]')))\n",
    "    des_tags = WebDriverWait(driver,20).until(EC.visibility_of_all_elements_located((By.XPATH,'//a[@class=\"IRpwTa\"]')))\n",
    "    price_tags = WebDriverWait(driver,20).until(EC.visibility_of_all_elements_located((By.XPATH,'//div[@class=\"_30jeq3\"]')))\n",
    "    for i in brand_tags:\n",
    "        Brand.append(i.text)\n",
    "    for x in des_tags:\n",
    "        Product_Description.append(x.text)\n",
    "    for y in price_tags:\n",
    "        Price.append(y.text.split('₹')[1])\n",
    "    Next_btn.click()    \n",
    "driver.quit()"
   ]
  },
  {
   "cell_type": "code",
   "execution_count": 71,
   "id": "5b0dd316",
   "metadata": {},
   "outputs": [],
   "source": [
    "Brand= Brand [:100]\n",
    "Product_Description= Product_Description[:100]\n",
    "Price=Price [:100]"
   ]
  },
  {
   "cell_type": "code",
   "execution_count": 73,
   "id": "59836632",
   "metadata": {},
   "outputs": [
    {
     "data": {
      "text/html": [
       "<div>\n",
       "<style scoped>\n",
       "    .dataframe tbody tr th:only-of-type {\n",
       "        vertical-align: middle;\n",
       "    }\n",
       "\n",
       "    .dataframe tbody tr th {\n",
       "        vertical-align: top;\n",
       "    }\n",
       "\n",
       "    .dataframe thead th {\n",
       "        text-align: right;\n",
       "    }\n",
       "</style>\n",
       "<table border=\"1\" class=\"dataframe\">\n",
       "  <thead>\n",
       "    <tr style=\"text-align: right;\">\n",
       "      <th></th>\n",
       "      <th>Brand</th>\n",
       "      <th>Description</th>\n",
       "      <th>Price</th>\n",
       "    </tr>\n",
       "  </thead>\n",
       "  <tbody>\n",
       "    <tr>\n",
       "      <th>0</th>\n",
       "      <td>Singco India</td>\n",
       "      <td>Gradient, Toughened Glass Lens, UV Protection ...</td>\n",
       "      <td>598</td>\n",
       "    </tr>\n",
       "    <tr>\n",
       "      <th>1</th>\n",
       "      <td>ROZZETTA CRAFT</td>\n",
       "      <td>UV Protection, Gradient Rectangular Sunglasses...</td>\n",
       "      <td>379</td>\n",
       "    </tr>\n",
       "    <tr>\n",
       "      <th>2</th>\n",
       "      <td>DAHAAZIL</td>\n",
       "      <td>UV Protection, Night Vision, Riding Glasses Wa...</td>\n",
       "      <td>177</td>\n",
       "    </tr>\n",
       "    <tr>\n",
       "      <th>3</th>\n",
       "      <td>Fastrack</td>\n",
       "      <td>UV Protection Rectangular Sunglasses (Free Size)</td>\n",
       "      <td>639</td>\n",
       "    </tr>\n",
       "    <tr>\n",
       "      <th>4</th>\n",
       "      <td>Elligator</td>\n",
       "      <td>UV Protection Round Sunglasses (54)</td>\n",
       "      <td>298</td>\n",
       "    </tr>\n",
       "    <tr>\n",
       "      <th>...</th>\n",
       "      <td>...</td>\n",
       "      <td>...</td>\n",
       "      <td>...</td>\n",
       "    </tr>\n",
       "    <tr>\n",
       "      <th>95</th>\n",
       "      <td>ROYAL SON</td>\n",
       "      <td>Polarized Retro Square Sunglasses (61)</td>\n",
       "      <td>699</td>\n",
       "    </tr>\n",
       "    <tr>\n",
       "      <th>96</th>\n",
       "      <td>Fastrack</td>\n",
       "      <td>Gradient, UV Protection Wayfarer Sunglasses (F...</td>\n",
       "      <td>639</td>\n",
       "    </tr>\n",
       "    <tr>\n",
       "      <th>97</th>\n",
       "      <td>Fastrack</td>\n",
       "      <td>UV Protection Wayfarer Sunglasses (Free Size)</td>\n",
       "      <td>639</td>\n",
       "    </tr>\n",
       "    <tr>\n",
       "      <th>98</th>\n",
       "      <td>Fastrack</td>\n",
       "      <td>UV Protection Wayfarer Sunglasses (55)</td>\n",
       "      <td>735</td>\n",
       "    </tr>\n",
       "    <tr>\n",
       "      <th>99</th>\n",
       "      <td>GANSTA</td>\n",
       "      <td>UV Protection Aviator Sunglasses (57)</td>\n",
       "      <td>314</td>\n",
       "    </tr>\n",
       "  </tbody>\n",
       "</table>\n",
       "<p>100 rows × 3 columns</p>\n",
       "</div>"
      ],
      "text/plain": [
       "             Brand                                        Description Price\n",
       "0     Singco India  Gradient, Toughened Glass Lens, UV Protection ...   598\n",
       "1   ROZZETTA CRAFT  UV Protection, Gradient Rectangular Sunglasses...   379\n",
       "2         DAHAAZIL  UV Protection, Night Vision, Riding Glasses Wa...   177\n",
       "3         Fastrack   UV Protection Rectangular Sunglasses (Free Size)   639\n",
       "4        Elligator                UV Protection Round Sunglasses (54)   298\n",
       "..             ...                                                ...   ...\n",
       "95       ROYAL SON             Polarized Retro Square Sunglasses (61)   699\n",
       "96        Fastrack  Gradient, UV Protection Wayfarer Sunglasses (F...   639\n",
       "97        Fastrack      UV Protection Wayfarer Sunglasses (Free Size)   639\n",
       "98        Fastrack             UV Protection Wayfarer Sunglasses (55)   735\n",
       "99          GANSTA              UV Protection Aviator Sunglasses (57)   314\n",
       "\n",
       "[100 rows x 3 columns]"
      ]
     },
     "execution_count": 73,
     "metadata": {},
     "output_type": "execute_result"
    }
   ],
   "source": [
    "df = pd.DataFrame({'Brand':Brand,'Description':Product_Description,'Price': Price})\n",
    "df"
   ]
  },
  {
   "cell_type": "markdown",
   "id": "0a8ea937",
   "metadata": {},
   "source": [
    "# Q5"
   ]
  },
  {
   "cell_type": "code",
   "execution_count": 159,
   "id": "b674db1b",
   "metadata": {},
   "outputs": [],
   "source": [
    "driver = webdriver.Chrome(r'C:\\Users\\USER\\Downloads\\chromedriver_win32\\chromedriver.exe')"
   ]
  },
  {
   "cell_type": "code",
   "execution_count": 160,
   "id": "317af44c",
   "metadata": {},
   "outputs": [],
   "source": [
    "url ='https://www.flipkart.com/'\n",
    "driver.get(url)\n",
    "driver.maximize_window()\n"
   ]
  },
  {
   "cell_type": "code",
   "execution_count": 161,
   "id": "a9f83670",
   "metadata": {},
   "outputs": [],
   "source": [
    "#To close the log in box\n",
    "try:\n",
    "    close= driver.find_element(By.XPATH,'//button[@class=\"_2KpZ6l _2doB4z\"]')\n",
    "    close.click()\n",
    "except:\n",
    "    pass"
   ]
  },
  {
   "cell_type": "code",
   "execution_count": 162,
   "id": "5be07a3f",
   "metadata": {},
   "outputs": [],
   "source": [
    "search_product = driver.find_element(By.CLASS_NAME,\"_3704LK\").send_keys('iphone 11')"
   ]
  },
  {
   "cell_type": "code",
   "execution_count": 163,
   "id": "6519077b",
   "metadata": {},
   "outputs": [],
   "source": [
    "search_btn = driver.find_element(By.CLASS_NAME,\"L0Z3Pu\").click() "
   ]
  },
  {
   "cell_type": "code",
   "execution_count": 164,
   "id": "0dcb556a",
   "metadata": {},
   "outputs": [],
   "source": [
    "#Selecting the firs iphone on the page from which the data required will be scrapped. \n",
    "driver.find_element(By.XPATH,'/html/body/div[1]/div/div[3]/div[1]/div[2]/div[2]/div/div/div/a').click()\n",
    "\n",
    "driver.switch_to.window(driver.window_handles[-1]) #To open newly opened tab\n",
    "#driver.get(https://www.flipkart.com/apple-iphone-11-black-64-gb/p/itm4e5041ba101fd?pid=MOBFWQ6BXGJCEYNY&lid=LSTMOBFWQ6BXGJCEYNYZXSHRJ&marketplace=FLIPKART&q=iphone+11&store=tyy%2F4io&srno=s_1_1&otracker=search&otracker1=search&fm=organic&iid=877d368c-8aac-4d36-aa89-06462931ac70.MOBFWQ6BXGJCEYNY.SEARCH&ppt=hp&ppn=homepage&ssid=4w5w10n1280000001657775269028&qH=f6cdfdaa9f3c23f3)\n"
   ]
  },
  {
   "cell_type": "code",
   "execution_count": 166,
   "id": "b551a4d5",
   "metadata": {},
   "outputs": [],
   "source": [
    "#Click on All replies for the full page to load \n",
    "WebDriverWait(driver,20).until(EC.element_to_be_clickable((By.XPATH,'/html/body/div[1]/div/div[3]/div[1]/div[2]/div[9]/div[6]/div/a'))).click()"
   ]
  },
  {
   "cell_type": "code",
   "execution_count": 151,
   "id": "2cd56dc3",
   "metadata": {},
   "outputs": [],
   "source": [
    "urls =[]\n",
    "\n",
    "url_1 = driver.find_elements(By.XPATH,\"//a[@class='ge-49M _2Kfbh8']\")\n",
    "\n",
    "for i in url_1:\n",
    "\n",
    "    urls.append(i.get_attribute('href'))\n",
    "\n",
    "url_2 = driver.find_elements(By.XPATH,\"//a[@class='ge-49M']\")\n",
    "\n",
    "for i in url_2:\n",
    "\n",
    "    urls.append(i.get_attribute('href'))\n",
    "    \n",
    "time.sleep(5)\n",
    "rev=[]\n",
    "summ =[]\n",
    "stars=[]\n",
    "for i in urls:\n",
    "    driver.get(i)\n",
    "    \n",
    "    for k in driver.find_elements(By.XPATH,'//div[@class=\"t-ZTKy\"]'):\n",
    "        summ.append(k.text)\n",
    "        time.sleep(5)\n",
    "    for l in driver.find_elements(By.XPATH,\"//div[@class='col _2wzgFH K0kLPL']/div[1]/div[1]\"):\n",
    "\n",
    "        stars.append(l.text)"
   ]
  },
  {
   "cell_type": "code",
   "execution_count": 153,
   "id": "21963c10",
   "metadata": {},
   "outputs": [
    {
     "data": {
      "text/plain": [
       "100"
      ]
     },
     "execution_count": 153,
     "metadata": {},
     "output_type": "execute_result"
    }
   ],
   "source": [
    "len(summ)"
   ]
  },
  {
   "cell_type": "code",
   "execution_count": 141,
   "id": "40a03123",
   "metadata": {},
   "outputs": [
    {
     "data": {
      "text/plain": [
       "100"
      ]
     },
     "execution_count": 141,
     "metadata": {},
     "output_type": "execute_result"
    }
   ],
   "source": [
    "len(stars)"
   ]
  },
  {
   "cell_type": "code",
   "execution_count": 168,
   "id": "c7243da1",
   "metadata": {},
   "outputs": [],
   "source": [
    "rev=[]\n",
    "for i in urls:\n",
    "    driver.get(i)\n",
    "    for j in driver.find_elements(By.XPATH,'//div[@class=\"_3LWZlK _1BLPMq\"]|//div[@class=\"_3LWZlK _1rdVr6 _1BLPMq\"]'):\n",
    "        rev.append(j.text)\n",
    "        time.sleep(4)\n"
   ]
  },
  {
   "cell_type": "code",
   "execution_count": 169,
   "id": "145f6bce",
   "metadata": {},
   "outputs": [
    {
     "data": {
      "text/plain": [
       "100"
      ]
     },
     "execution_count": 169,
     "metadata": {},
     "output_type": "execute_result"
    }
   ],
   "source": [
    "len(rev)"
   ]
  },
  {
   "cell_type": "code",
   "execution_count": 170,
   "id": "f1d0cec6",
   "metadata": {},
   "outputs": [],
   "source": [
    "driver.close()"
   ]
  },
  {
   "cell_type": "code",
   "execution_count": 171,
   "id": "49470bc0",
   "metadata": {},
   "outputs": [],
   "source": [
    "driver.quit()"
   ]
  },
  {
   "cell_type": "code",
   "execution_count": 172,
   "id": "b5d45ce5",
   "metadata": {},
   "outputs": [
    {
     "data": {
      "text/html": [
       "<div>\n",
       "<style scoped>\n",
       "    .dataframe tbody tr th:only-of-type {\n",
       "        vertical-align: middle;\n",
       "    }\n",
       "\n",
       "    .dataframe tbody tr th {\n",
       "        vertical-align: top;\n",
       "    }\n",
       "\n",
       "    .dataframe thead th {\n",
       "        text-align: right;\n",
       "    }\n",
       "</style>\n",
       "<table border=\"1\" class=\"dataframe\">\n",
       "  <thead>\n",
       "    <tr style=\"text-align: right;\">\n",
       "      <th></th>\n",
       "      <th>Review</th>\n",
       "      <th>Summary</th>\n",
       "      <th>Stars</th>\n",
       "    </tr>\n",
       "  </thead>\n",
       "  <tbody>\n",
       "    <tr>\n",
       "      <th>0</th>\n",
       "      <td>5</td>\n",
       "      <td>Really satisfied with the Product I received.....</td>\n",
       "      <td>5</td>\n",
       "    </tr>\n",
       "    <tr>\n",
       "      <th>1</th>\n",
       "      <td>5</td>\n",
       "      <td>Amazing phone with great cameras and better ba...</td>\n",
       "      <td>5</td>\n",
       "    </tr>\n",
       "    <tr>\n",
       "      <th>2</th>\n",
       "      <td>5</td>\n",
       "      <td>Great iPhone very snappy experience as apple k...</td>\n",
       "      <td>5</td>\n",
       "    </tr>\n",
       "    <tr>\n",
       "      <th>3</th>\n",
       "      <td>5</td>\n",
       "      <td>What a camera .....just awesome ..you can feel...</td>\n",
       "      <td>5</td>\n",
       "    </tr>\n",
       "    <tr>\n",
       "      <th>4</th>\n",
       "      <td>5</td>\n",
       "      <td>Previously I was using one plus 3t it was a gr...</td>\n",
       "      <td>5</td>\n",
       "    </tr>\n",
       "    <tr>\n",
       "      <th>...</th>\n",
       "      <td>...</td>\n",
       "      <td>...</td>\n",
       "      <td>...</td>\n",
       "    </tr>\n",
       "    <tr>\n",
       "      <th>95</th>\n",
       "      <td>5</td>\n",
       "      <td>This is my first ever iPhone.\\nAnd I truly don...</td>\n",
       "      <td>5</td>\n",
       "    </tr>\n",
       "    <tr>\n",
       "      <th>96</th>\n",
       "      <td>5</td>\n",
       "      <td>Nice value for money good and best price I pho...</td>\n",
       "      <td>5</td>\n",
       "    </tr>\n",
       "    <tr>\n",
       "      <th>97</th>\n",
       "      <td>5</td>\n",
       "      <td>Undoubtedly Iphone 11 is the most successful m...</td>\n",
       "      <td>5</td>\n",
       "    </tr>\n",
       "    <tr>\n",
       "      <th>98</th>\n",
       "      <td>5</td>\n",
       "      <td>Don’t expect much from front camera… especiall...</td>\n",
       "      <td>5</td>\n",
       "    </tr>\n",
       "    <tr>\n",
       "      <th>99</th>\n",
       "      <td>5</td>\n",
       "      <td>I purchased the iPhone 11 a month back. I must...</td>\n",
       "      <td>5</td>\n",
       "    </tr>\n",
       "  </tbody>\n",
       "</table>\n",
       "<p>100 rows × 3 columns</p>\n",
       "</div>"
      ],
      "text/plain": [
       "   Review                                            Summary Stars\n",
       "0       5  Really satisfied with the Product I received.....     5\n",
       "1       5  Amazing phone with great cameras and better ba...     5\n",
       "2       5  Great iPhone very snappy experience as apple k...     5\n",
       "3       5  What a camera .....just awesome ..you can feel...     5\n",
       "4       5  Previously I was using one plus 3t it was a gr...     5\n",
       "..    ...                                                ...   ...\n",
       "95      5  This is my first ever iPhone.\\nAnd I truly don...     5\n",
       "96      5  Nice value for money good and best price I pho...     5\n",
       "97      5  Undoubtedly Iphone 11 is the most successful m...     5\n",
       "98      5  Don’t expect much from front camera… especiall...     5\n",
       "99      5  I purchased the iPhone 11 a month back. I must...     5\n",
       "\n",
       "[100 rows x 3 columns]"
      ]
     },
     "execution_count": 172,
     "metadata": {},
     "output_type": "execute_result"
    }
   ],
   "source": [
    "df = pd.DataFrame({'Review':rev,'Summary':summ,'Stars':stars})\n",
    "df"
   ]
  },
  {
   "cell_type": "markdown",
   "id": "0c4fb0fa",
   "metadata": {},
   "source": [
    "# Q6"
   ]
  },
  {
   "cell_type": "code",
   "execution_count": 17,
   "id": "1a376cde",
   "metadata": {},
   "outputs": [],
   "source": [
    "driver = webdriver.Chrome(r'C:\\Users\\USER\\Downloads\\chromedriver_win32\\chromedriver.exe')\n",
    "url ='https://www.flipkart.com/'\n",
    "driver.get(url)\n",
    "driver.find_element(By.XPATH,'//button[@class=\"_2KpZ6l _2doB4z\"]').click()\n",
    "driver.maximize_window()\n"
   ]
  },
  {
   "cell_type": "code",
   "execution_count": 142,
   "id": "5cedb0f8",
   "metadata": {},
   "outputs": [],
   "source": [
    "search_product = driver.find_element(By.CLASS_NAME,\"_3704LK\")\n",
    "search_product.send_keys('sneekers')\n",
    "\n"
   ]
  },
  {
   "cell_type": "code",
   "execution_count": 143,
   "id": "e48234f0",
   "metadata": {},
   "outputs": [],
   "source": [
    "search_btn = driver.find_element(By.CLASS_NAME,\"L0Z3Pu\")\n",
    "search_btn.click()"
   ]
  },
  {
   "cell_type": "code",
   "execution_count": 216,
   "id": "1c2a66d2",
   "metadata": {},
   "outputs": [],
   "source": [
    "brand = []\n",
    "description= []\n",
    "price = []\n",
    "\n",
    "\n",
    "Next_btn =driver.find_element(By.XPATH,'//a[@class=\"_1LKTO3\"]') \n",
    "brand_tags =driver.find_elements(By.XPATH,'//div[@class=\"_2WkVRV\"]')\n",
    "des_tags = WebDriverWait(driver,20).until(EC.visibility_of_all_elements_located((By.CSS_SELECTOR,\".IRpwTa, .IRpwTa _2-ICcC\")))\n",
    "price_tags =driver.find_elements(By.XPATH,'//div[@class=\"_30jeq3\"]')\n",
    "\n",
    "for x in brand_tags:\n",
    "    brand.append(x.text)\n",
    "for y in des_tags:\n",
    "    description.append(y.text)\n",
    "for z in price_tags:\n",
    "    price.append(z.text.split('₹')[1])\n",
    "\n",
    "if len(brand) == 40:\n",
    "    time.sleep(10)\n",
    "    Next_btn.click()\n",
    "    time.sleep(5)\n",
    "    brand_tags =driver.find_elements(By.XPATH,'//div[@class=\"_2WkVRV\"]')\n",
    "    des_tags = WebDriverWait(driver,20).until(EC.visibility_of_all_elements_located((By.CSS_SELECTOR,\".IRpwTa, .IRpwTa _2-ICcC\")))\n",
    "    price_tags =driver.find_elements(By.XPATH,'//div[@class=\"_30jeq3\"]')\n",
    "\n",
    "    for x in brand_tags:\n",
    "        brand.append(x.text.strip())\n",
    "    for y in des_tags:\n",
    "        description.append(y.text.strip())\n",
    "    for z in price_tags:\n",
    "        price.append(z.text.split('₹')[1])\n",
    "    \n",
    "if len(brand)== 80:\n",
    "    time.sleep(5)\n",
    "    Next_btn.click()\n",
    "    time.sleep(6)\n",
    "    brand_tags =driver.find_elements(By.XPATH,'//div[@class=\"_2WkVRV\"]')[:20]\n",
    "    des_tags = WebDriverWait(driver,20).until(EC.visibility_of_all_elements_located((By.CSS_SELECTOR,\".IRpwTa, .IRpwTa _2-ICcC\")))[:20]\n",
    "    price_tags =driver.find_elements(By.XPATH,'//div[@class=\"_30jeq3\"]')[:20]\n",
    "\n",
    "    for x in brand_tags:\n",
    "        brand.append(x.text.strip())\n",
    "    for y in des_tags:\n",
    "        description.append(y.text.strip())\n",
    "    for z in price_tags:\n",
    "        price.append(z.text.split('₹')[1])\n",
    "    "
   ]
  },
  {
   "cell_type": "code",
   "execution_count": 217,
   "id": "44cf3c56",
   "metadata": {},
   "outputs": [
    {
     "name": "stdout",
     "output_type": "stream",
     "text": [
      "100 100 100\n"
     ]
    }
   ],
   "source": [
    "print(len(brand), len(price), len(description))"
   ]
  },
  {
   "cell_type": "code",
   "execution_count": 218,
   "id": "d3e99316",
   "metadata": {},
   "outputs": [
    {
     "data": {
      "text/html": [
       "<div>\n",
       "<style scoped>\n",
       "    .dataframe tbody tr th:only-of-type {\n",
       "        vertical-align: middle;\n",
       "    }\n",
       "\n",
       "    .dataframe tbody tr th {\n",
       "        vertical-align: top;\n",
       "    }\n",
       "\n",
       "    .dataframe thead th {\n",
       "        text-align: right;\n",
       "    }\n",
       "</style>\n",
       "<table border=\"1\" class=\"dataframe\">\n",
       "  <thead>\n",
       "    <tr style=\"text-align: right;\">\n",
       "      <th></th>\n",
       "      <th>Brand</th>\n",
       "      <th>Description</th>\n",
       "      <th>Price</th>\n",
       "    </tr>\n",
       "  </thead>\n",
       "  <tbody>\n",
       "    <tr>\n",
       "      <th>0</th>\n",
       "      <td>KNIGHT WALKERS</td>\n",
       "      <td>SS1100 Sneakers For Men</td>\n",
       "      <td>699</td>\n",
       "    </tr>\n",
       "    <tr>\n",
       "      <th>1</th>\n",
       "      <td>Anugrahappradha</td>\n",
       "      <td>W18 men's very comfortable casaul shoes Sneake...</td>\n",
       "      <td>699</td>\n",
       "    </tr>\n",
       "    <tr>\n",
       "      <th>2</th>\n",
       "      <td>WOODLAND</td>\n",
       "      <td>Sneakers For Men</td>\n",
       "      <td>2,096</td>\n",
       "    </tr>\n",
       "    <tr>\n",
       "      <th>3</th>\n",
       "      <td>BRUTON</td>\n",
       "      <td>Modern Trendy Sneakers Shoes Sneakers For Men</td>\n",
       "      <td>269</td>\n",
       "    </tr>\n",
       "    <tr>\n",
       "      <th>4</th>\n",
       "      <td>BRUTON</td>\n",
       "      <td>Modern Trendy Sneakers Shoes Sneakers For Men</td>\n",
       "      <td>299</td>\n",
       "    </tr>\n",
       "    <tr>\n",
       "      <th>...</th>\n",
       "      <td>...</td>\n",
       "      <td>...</td>\n",
       "      <td>...</td>\n",
       "    </tr>\n",
       "    <tr>\n",
       "      <th>95</th>\n",
       "      <td>RapidBox</td>\n",
       "      <td>Sneakers For Men</td>\n",
       "      <td>630</td>\n",
       "    </tr>\n",
       "    <tr>\n",
       "      <th>96</th>\n",
       "      <td>SFR</td>\n",
       "      <td>Sneakers For Men</td>\n",
       "      <td>289</td>\n",
       "    </tr>\n",
       "    <tr>\n",
       "      <th>97</th>\n",
       "      <td>HOTSTYLE</td>\n",
       "      <td>Sneakers For Men</td>\n",
       "      <td>258</td>\n",
       "    </tr>\n",
       "    <tr>\n",
       "      <th>98</th>\n",
       "      <td>corsac</td>\n",
       "      <td>STYLISH MENS BLACK SNEAKER Sneakers For Men</td>\n",
       "      <td>499</td>\n",
       "    </tr>\n",
       "    <tr>\n",
       "      <th>99</th>\n",
       "      <td>U.S. POLO ASSN.</td>\n",
       "      <td>TREGGER 2.0 Sneakers For Men</td>\n",
       "      <td>2,759</td>\n",
       "    </tr>\n",
       "  </tbody>\n",
       "</table>\n",
       "<p>100 rows × 3 columns</p>\n",
       "</div>"
      ],
      "text/plain": [
       "              Brand                                        Description  Price\n",
       "0    KNIGHT WALKERS                            SS1100 Sneakers For Men    699\n",
       "1   Anugrahappradha  W18 men's very comfortable casaul shoes Sneake...    699\n",
       "2          WOODLAND                                   Sneakers For Men  2,096\n",
       "3            BRUTON      Modern Trendy Sneakers Shoes Sneakers For Men    269\n",
       "4            BRUTON      Modern Trendy Sneakers Shoes Sneakers For Men    299\n",
       "..              ...                                                ...    ...\n",
       "95         RapidBox                                   Sneakers For Men    630\n",
       "96              SFR                                   Sneakers For Men    289\n",
       "97         HOTSTYLE                                   Sneakers For Men    258\n",
       "98           corsac        STYLISH MENS BLACK SNEAKER Sneakers For Men    499\n",
       "99  U.S. POLO ASSN.                       TREGGER 2.0 Sneakers For Men  2,759\n",
       "\n",
       "[100 rows x 3 columns]"
      ]
     },
     "execution_count": 218,
     "metadata": {},
     "output_type": "execute_result"
    }
   ],
   "source": [
    "df = pd.DataFrame({'Brand':brand, 'Description': description, 'Price': price, })\n",
    "df.head(100)"
   ]
  },
  {
   "cell_type": "markdown",
   "id": "1422bbf5",
   "metadata": {},
   "source": [
    "# Q7"
   ]
  },
  {
   "cell_type": "code",
   "execution_count": 173,
   "id": "c360df84",
   "metadata": {},
   "outputs": [],
   "source": [
    "driver = webdriver.Chrome(r'C:\\Users\\USER\\Downloads\\chromedriver_win32\\chromedriver.exe')\n",
    "url = 'http://www.myntra.com/shoes'\n",
    "driver.get(url)"
   ]
  },
  {
   "cell_type": "code",
   "execution_count": 4,
   "id": "8866d2bf",
   "metadata": {},
   "outputs": [],
   "source": [
    "driver.maximize_window()\n"
   ]
  },
  {
   "cell_type": "code",
   "execution_count": 5,
   "id": "4aa036fc",
   "metadata": {},
   "outputs": [],
   "source": [
    "price_filter=WebDriverWait(driver, 50).until(EC.element_to_be_clickable((By.XPATH, '/html/body/div[2]/div/div[1]/main/div[3]/div[1]/section/div/div[5]/ul/li[2]/label')))"
   ]
  },
  {
   "cell_type": "code",
   "execution_count": 6,
   "id": "2cf8a88a",
   "metadata": {},
   "outputs": [],
   "source": [
    "price_filter.click()"
   ]
  },
  {
   "cell_type": "code",
   "execution_count": 7,
   "id": "30f11720",
   "metadata": {},
   "outputs": [],
   "source": [
    "color_filter =WebDriverWait(driver, 50).until(EC.element_to_be_clickable((By.XPATH,'/html/body/div[2]/div/div[1]/main/div[3]/div[1]/section/div/div[6]/ul/li[1]/label'))).click()"
   ]
  },
  {
   "cell_type": "code",
   "execution_count": 8,
   "id": "2329a0c4",
   "metadata": {},
   "outputs": [],
   "source": [
    "brand = []\n",
    "description= []\n",
    "price = []\n",
    "\n",
    "Next_btn =driver.find_element(By.XPATH,'//li[@class=\"pagination-next\"]')\n",
    "\n",
    "for i in range(2):   \n",
    "     \n",
    "    brand_tags =WebDriverWait(driver,30).until(EC.visibility_of_all_elements_located((By.XPATH,'//h3[@class=\"product-brand\"]')))\n",
    "    des_tags = WebDriverWait(driver,30).until(EC.visibility_of_all_elements_located((By.XPATH,'//h4[@class= \"product-product\"]')))\n",
    "    price_tags =WebDriverWait(driver,30).until(EC.visibility_of_all_elements_located((By.XPATH,'//div[@class=\"product-price\"]')))\n",
    "    \n",
    "    time.sleep(5)\n",
    "    for x in brand_tags:\n",
    "        brand.append(x.text)\n",
    "    for y in des_tags:\n",
    "        description.append(y.text)\n",
    "    for z in price_tags:\n",
    "        price.append(z.text.split('Rs.')[1].strip())\n",
    "        \n",
    "   \n",
    "    Next_btn.click()\n",
    "    \n",
    "driver.quit()        \n",
    "        "
   ]
  },
  {
   "cell_type": "code",
   "execution_count": 9,
   "id": "5d5e11d4",
   "metadata": {},
   "outputs": [
    {
     "data": {
      "text/html": [
       "<div>\n",
       "<style scoped>\n",
       "    .dataframe tbody tr th:only-of-type {\n",
       "        vertical-align: middle;\n",
       "    }\n",
       "\n",
       "    .dataframe tbody tr th {\n",
       "        vertical-align: top;\n",
       "    }\n",
       "\n",
       "    .dataframe thead th {\n",
       "        text-align: right;\n",
       "    }\n",
       "</style>\n",
       "<table border=\"1\" class=\"dataframe\">\n",
       "  <thead>\n",
       "    <tr style=\"text-align: right;\">\n",
       "      <th></th>\n",
       "      <th>Brand</th>\n",
       "      <th>Description</th>\n",
       "      <th>Price</th>\n",
       "    </tr>\n",
       "  </thead>\n",
       "  <tbody>\n",
       "    <tr>\n",
       "      <th>0</th>\n",
       "      <td>Nike</td>\n",
       "      <td>Men React Infinity 3 Running</td>\n",
       "      <td>11895</td>\n",
       "    </tr>\n",
       "    <tr>\n",
       "      <th>1</th>\n",
       "      <td>Puma</td>\n",
       "      <td>Eternity Nitro Running Shoes</td>\n",
       "      <td>11699</td>\n",
       "    </tr>\n",
       "    <tr>\n",
       "      <th>2</th>\n",
       "      <td>Nike</td>\n",
       "      <td>Men Colourblocked Sneakers</td>\n",
       "      <td>10795</td>\n",
       "    </tr>\n",
       "    <tr>\n",
       "      <th>3</th>\n",
       "      <td>Skechers</td>\n",
       "      <td>Men Go Walk 5 Walking Shoes</td>\n",
       "      <td>7224</td>\n",
       "    </tr>\n",
       "    <tr>\n",
       "      <th>4</th>\n",
       "      <td>Nike</td>\n",
       "      <td>Men KD 15 Basketball Shoes</td>\n",
       "      <td>13995</td>\n",
       "    </tr>\n",
       "    <tr>\n",
       "      <th>...</th>\n",
       "      <td>...</td>\n",
       "      <td>...</td>\n",
       "      <td>...</td>\n",
       "    </tr>\n",
       "    <tr>\n",
       "      <th>95</th>\n",
       "      <td>Puma</td>\n",
       "      <td>Women RS-Z Luminous Sneakers</td>\n",
       "      <td>8499</td>\n",
       "    </tr>\n",
       "    <tr>\n",
       "      <th>96</th>\n",
       "      <td>Columbia</td>\n",
       "      <td>Women REDMOND V2 TrekkingShoe</td>\n",
       "      <td>7999</td>\n",
       "    </tr>\n",
       "    <tr>\n",
       "      <th>97</th>\n",
       "      <td>Clarks</td>\n",
       "      <td>Women Solid Leather Sneakers</td>\n",
       "      <td>7649</td>\n",
       "    </tr>\n",
       "    <tr>\n",
       "      <th>98</th>\n",
       "      <td>Geox</td>\n",
       "      <td>Textured Leather Block Pumps</td>\n",
       "      <td>8393</td>\n",
       "    </tr>\n",
       "    <tr>\n",
       "      <th>99</th>\n",
       "      <td>Geox</td>\n",
       "      <td>Leather Block Pumps</td>\n",
       "      <td>8393</td>\n",
       "    </tr>\n",
       "  </tbody>\n",
       "</table>\n",
       "<p>100 rows × 3 columns</p>\n",
       "</div>"
      ],
      "text/plain": [
       "       Brand                    Description  Price\n",
       "0       Nike   Men React Infinity 3 Running  11895\n",
       "1       Puma   Eternity Nitro Running Shoes  11699\n",
       "2       Nike     Men Colourblocked Sneakers  10795\n",
       "3   Skechers    Men Go Walk 5 Walking Shoes   7224\n",
       "4       Nike     Men KD 15 Basketball Shoes  13995\n",
       "..       ...                            ...    ...\n",
       "95      Puma   Women RS-Z Luminous Sneakers   8499\n",
       "96  Columbia  Women REDMOND V2 TrekkingShoe   7999\n",
       "97    Clarks   Women Solid Leather Sneakers   7649\n",
       "98      Geox   Textured Leather Block Pumps   8393\n",
       "99      Geox            Leather Block Pumps   8393\n",
       "\n",
       "[100 rows x 3 columns]"
      ]
     },
     "execution_count": 9,
     "metadata": {},
     "output_type": "execute_result"
    }
   ],
   "source": [
    "df = pd.DataFrame({'Brand':brand, 'Description': description, 'Price': price, })\n",
    "df.head(100)"
   ]
  },
  {
   "cell_type": "markdown",
   "id": "dbcad723",
   "metadata": {},
   "source": [
    "#  Q8 Webscrapping 10 laptops with inteli7 CPU from amazon"
   ]
  },
  {
   "cell_type": "code",
   "execution_count": 174,
   "id": "a152ebba",
   "metadata": {},
   "outputs": [],
   "source": [
    "driver = webdriver.Chrome(r'C:\\Users\\USER\\Downloads\\chromedriver_win32\\chromedriver.exe')\n",
    "url='http://www.amazon.in/'\n",
    "driver.get(url)\n",
    "driver.maximize_window()\n"
   ]
  },
  {
   "cell_type": "code",
   "execution_count": 175,
   "id": "72aefbec",
   "metadata": {},
   "outputs": [],
   "source": [
    "#Searching for Laptop\n",
    "search = WebDriverWait(driver,10).until(EC.element_to_be_clickable((By.XPATH,'/html/body/div[1]/header/div/div[1]/div[2]/div/form/div[2]/div[1]/input'))).send_keys('Laptop')"
   ]
  },
  {
   "cell_type": "code",
   "execution_count": 176,
   "id": "a2994ddf",
   "metadata": {},
   "outputs": [],
   "source": [
    "#Clicking search\n",
    "search_btn = driver.find_element(By.XPATH,'/html/body/div[1]/header/div/div[1]/div[2]/div/form/div[3]/div/span/input').click()"
   ]
  },
  {
   "cell_type": "code",
   "execution_count": 178,
   "id": "f303309d",
   "metadata": {},
   "outputs": [],
   "source": [
    "#selecting the type of cpu to filter in the required ones\n",
    "cpu_type =WebDriverWait(driver,30).until(EC.element_to_be_clickable((By.XPATH,'/html/body/div[1]/div[2]/div[1]/div[2]/div/div[3]/span/div[1]/div/div/div[5]/ul[2]/li[11]/span/a/div/label/i'))).click()\n"
   ]
  },
  {
   "cell_type": "code",
   "execution_count": 179,
   "id": "9c740e5e",
   "metadata": {},
   "outputs": [],
   "source": [
    "title= []\n",
    "price =[]\n",
    "\n",
    "title_tags = WebDriverWait(driver,20).until(EC.visibility_of_all_elements_located((By.XPATH,'//h2[@class=\"a-size-mini a-spacing-none a-color-base s-line-clamp-2\"]')))[:10]\n",
    "price_tags= WebDriverWait(driver,20).until(EC.visibility_of_all_elements_located((By.XPATH,'//span[@class=\"a-price-whole\"]')))[:10]\n",
    "\n",
    "time.sleep(10)\n",
    "for x in title_tags:\n",
    "    title.append(x.text)\n",
    "for z in price_tags:\n",
    "    price.append(z.text)"
   ]
  },
  {
   "cell_type": "code",
   "execution_count": 20,
   "id": "7bdc88aa",
   "metadata": {},
   "outputs": [],
   "source": [
    "urls = [] #scrape first 10 product links\n",
    "url = driver.find_elements(By.XPATH,'//a[@class=\"a-link-normal s-underline-text s-underline-link-text s-link-style a-text-normal\"]')[:10] \n",
    "for i in url:\n",
    "    urls.append(i.get_attribute('href'))\n",
    "    \n",
    "    "
   ]
  },
  {
   "cell_type": "code",
   "execution_count": 26,
   "id": "ed3202c0",
   "metadata": {},
   "outputs": [],
   "source": [
    "for i in urls:\n",
    "    driver.get(i)\n",
    "    stars =[]\n",
    "    for j in WebDriverWait(driver,20).until(EC.presence_of_all_elements_located((By.XPATH,'//span[@class=\"a-icon-alt\"]'))):\n",
    "        stars.append(j.text)"
   ]
  },
  {
   "cell_type": "code",
   "execution_count": 189,
   "id": "1e89e9ff",
   "metadata": {},
   "outputs": [],
   "source": [
    "star_tags= driver.find_elements(By.XPATH,'//span[@class=\"a-icon-alt\"]')[:10]\n",
    "stars= []\n",
    "for y in star_tags:\n",
    "    stars.append(y)"
   ]
  },
  {
   "cell_type": "code",
   "execution_count": 190,
   "id": "e305c075",
   "metadata": {},
   "outputs": [
    {
     "data": {
      "text/plain": [
       "[<selenium.webdriver.remote.webelement.WebElement (session=\"6fab802777cb5874945dfd5a426e3b62\", element=\"3e504910-9080-46a5-8f1e-522cb0e5faef\")>,\n",
       " <selenium.webdriver.remote.webelement.WebElement (session=\"6fab802777cb5874945dfd5a426e3b62\", element=\"338e7b7a-62c3-4db2-8495-d780d5642734\")>,\n",
       " <selenium.webdriver.remote.webelement.WebElement (session=\"6fab802777cb5874945dfd5a426e3b62\", element=\"77e24c29-047a-4de5-8a06-e0c32182be41\")>,\n",
       " <selenium.webdriver.remote.webelement.WebElement (session=\"6fab802777cb5874945dfd5a426e3b62\", element=\"04689321-e200-4c23-a07d-669adec571b1\")>,\n",
       " <selenium.webdriver.remote.webelement.WebElement (session=\"6fab802777cb5874945dfd5a426e3b62\", element=\"b05fe530-e64e-4094-a6bd-063e9d78e2f4\")>,\n",
       " <selenium.webdriver.remote.webelement.WebElement (session=\"6fab802777cb5874945dfd5a426e3b62\", element=\"257bfaa0-4af3-462f-bace-34c1aa8f6cbd\")>,\n",
       " <selenium.webdriver.remote.webelement.WebElement (session=\"6fab802777cb5874945dfd5a426e3b62\", element=\"d2dd6192-49b5-481c-a302-3265fb6d720c\")>,\n",
       " <selenium.webdriver.remote.webelement.WebElement (session=\"6fab802777cb5874945dfd5a426e3b62\", element=\"6f400b03-ed85-4b73-b995-ae143a7588cf\")>,\n",
       " <selenium.webdriver.remote.webelement.WebElement (session=\"6fab802777cb5874945dfd5a426e3b62\", element=\"4b734bd3-8b17-4828-94d4-78b409043b79\")>,\n",
       " <selenium.webdriver.remote.webelement.WebElement (session=\"6fab802777cb5874945dfd5a426e3b62\", element=\"c9400e04-5017-4a5f-b29b-17979206e4d2\")>]"
      ]
     },
     "execution_count": 190,
     "metadata": {},
     "output_type": "execute_result"
    }
   ],
   "source": [
    "stars"
   ]
  },
  {
   "cell_type": "code",
   "execution_count": 184,
   "id": "4a1e5f74",
   "metadata": {},
   "outputs": [
    {
     "data": {
      "text/html": [
       "<div>\n",
       "<style scoped>\n",
       "    .dataframe tbody tr th:only-of-type {\n",
       "        vertical-align: middle;\n",
       "    }\n",
       "\n",
       "    .dataframe tbody tr th {\n",
       "        vertical-align: top;\n",
       "    }\n",
       "\n",
       "    .dataframe thead th {\n",
       "        text-align: right;\n",
       "    }\n",
       "</style>\n",
       "<table border=\"1\" class=\"dataframe\">\n",
       "  <thead>\n",
       "    <tr style=\"text-align: right;\">\n",
       "      <th></th>\n",
       "      <th>Laptop</th>\n",
       "      <th>Price</th>\n",
       "    </tr>\n",
       "  </thead>\n",
       "  <tbody>\n",
       "    <tr>\n",
       "      <th>0</th>\n",
       "      <td>Lenovo ThinkPad E14 Intel Core i7 11th Gen 14-...</td>\n",
       "      <td>94,990</td>\n",
       "    </tr>\n",
       "    <tr>\n",
       "      <th>1</th>\n",
       "      <td>Lenovo Legion 5 Pro Intel Core i7 11th Gen 16\"...</td>\n",
       "      <td>1,59,990</td>\n",
       "    </tr>\n",
       "    <tr>\n",
       "      <th>2</th>\n",
       "      <td>ASUS TUF Gaming F15 (2021), 15.6\" (39.62 cms) ...</td>\n",
       "      <td>89,990</td>\n",
       "    </tr>\n",
       "    <tr>\n",
       "      <th>3</th>\n",
       "      <td>ASUS Vivobook 15, 15.6-inch (39.62 cms) FHD, I...</td>\n",
       "      <td>57,600</td>\n",
       "    </tr>\n",
       "    <tr>\n",
       "      <th>4</th>\n",
       "      <td>Lenovo IdeaPad Slim 5 Pro Intel Core i7 11th G...</td>\n",
       "      <td>75,990</td>\n",
       "    </tr>\n",
       "    <tr>\n",
       "      <th>5</th>\n",
       "      <td>Hp Pavilion X360 11Th Gen Intel Core I7 14 Inc...</td>\n",
       "      <td>82,990</td>\n",
       "    </tr>\n",
       "    <tr>\n",
       "      <th>6</th>\n",
       "      <td>Hp Pavilion 15 12Th Gen Intel Core I7 16Gb Sdr...</td>\n",
       "      <td>87,820</td>\n",
       "    </tr>\n",
       "    <tr>\n",
       "      <th>7</th>\n",
       "      <td>HP Pavilion 14 12th Gen Intel Core i7 16GB SDR...</td>\n",
       "      <td>86,990</td>\n",
       "    </tr>\n",
       "    <tr>\n",
       "      <th>8</th>\n",
       "      <td>Samsung Galaxy Book2 Intel 12th Gen core i7 39...</td>\n",
       "      <td>79,990</td>\n",
       "    </tr>\n",
       "    <tr>\n",
       "      <th>9</th>\n",
       "      <td>(Renewed) Lenovo IdeaPad Slim 3i (82H801CSIN) ...</td>\n",
       "      <td>38,325</td>\n",
       "    </tr>\n",
       "  </tbody>\n",
       "</table>\n",
       "</div>"
      ],
      "text/plain": [
       "                                              Laptop     Price\n",
       "0  Lenovo ThinkPad E14 Intel Core i7 11th Gen 14-...    94,990\n",
       "1  Lenovo Legion 5 Pro Intel Core i7 11th Gen 16\"...  1,59,990\n",
       "2  ASUS TUF Gaming F15 (2021), 15.6\" (39.62 cms) ...    89,990\n",
       "3  ASUS Vivobook 15, 15.6-inch (39.62 cms) FHD, I...    57,600\n",
       "4  Lenovo IdeaPad Slim 5 Pro Intel Core i7 11th G...    75,990\n",
       "5  Hp Pavilion X360 11Th Gen Intel Core I7 14 Inc...    82,990\n",
       "6  Hp Pavilion 15 12Th Gen Intel Core I7 16Gb Sdr...    87,820\n",
       "7  HP Pavilion 14 12th Gen Intel Core i7 16GB SDR...    86,990\n",
       "8  Samsung Galaxy Book2 Intel 12th Gen core i7 39...    79,990\n",
       "9  (Renewed) Lenovo IdeaPad Slim 3i (82H801CSIN) ...    38,325"
      ]
     },
     "execution_count": 184,
     "metadata": {},
     "output_type": "execute_result"
    }
   ],
   "source": [
    "df= pd.DataFrame({'Laptop':title,'Price':price})\n",
    "df"
   ]
  },
  {
   "cell_type": "markdown",
   "id": "1036df3c",
   "metadata": {},
   "source": [
    "# Q9  python program to scrape data for first 10 job results for Data Scientist "
   ]
  },
  {
   "cell_type": "code",
   "execution_count": 191,
   "id": "1ff89864",
   "metadata": {},
   "outputs": [],
   "source": [
    "driver = webdriver.Chrome(r'C:\\Users\\USER\\Downloads\\chromedriver_win32\\chromedriver.exe')\n",
    "URL= 'http://www.ambitionbox.com/'\n",
    "driver.get(URL)\n",
    "driver.maximize_window()"
   ]
  },
  {
   "cell_type": "code",
   "execution_count": 192,
   "id": "9b7a6597",
   "metadata": {},
   "outputs": [],
   "source": [
    "select = WebDriverWait(driver,30).until(EC.element_to_be_clickable((By.XPATH,'/html/body/div[1]/nav/nav/a[6]'))).click()"
   ]
  },
  {
   "cell_type": "code",
   "execution_count": 193,
   "id": "ca1ed9df",
   "metadata": {},
   "outputs": [],
   "source": [
    "search = WebDriverWait(driver,30).until(EC.element_to_be_clickable((By.XPATH,'/html/body/div/div/div/div[2]/div[1]/div[1]/div/div/div/div/span/input'))).send_keys('Data Scientist')"
   ]
  },
  {
   "cell_type": "code",
   "execution_count": 194,
   "id": "8a0092e2",
   "metadata": {},
   "outputs": [],
   "source": [
    "search_btn= WebDriverWait(driver,30).until(EC.element_to_be_clickable((By.XPATH,'/html/body/div/div/div/div[2]/div[1]/div[1]/div/div/div/button/span'))).click()"
   ]
  },
  {
   "cell_type": "code",
   "execution_count": 195,
   "id": "fec58482",
   "metadata": {},
   "outputs": [],
   "source": [
    "#clicking drop down button\n",
    "drop_dwn_loc =WebDriverWait(driver,30).until(EC.element_to_be_clickable((By.XPATH,'/html/body/div/div/div/div[2]/div[1]/div[2]/div[1]/div/div/div/div[2]/div[1]/i'))).click()"
   ]
  },
  {
   "cell_type": "code",
   "execution_count": 196,
   "id": "74327c1c",
   "metadata": {},
   "outputs": [],
   "source": [
    "#Setting Noida as location\n",
    "loc_tag = WebDriverWait(driver,30).until(EC.element_to_be_clickable((By.XPATH,'/html/body/div/div/div/div[2]/div[1]/div[2]/div[1]/div/div/div/div[2]/div[2]/div/div[2]/input'))).send_keys('Noida')"
   ]
  },
  {
   "cell_type": "code",
   "execution_count": 197,
   "id": "52637df7",
   "metadata": {},
   "outputs": [],
   "source": [
    "#Selecting noida from drop down \n",
    "loc_select =WebDriverWait(driver,30).until(EC.element_to_be_clickable((By.XPATH,'/html/body/div/div/div/div[2]/div[1]/div[2]/div[1]/div/div/div/div[2]/div[2]/div/div[3]/div[1]/div[1]/div/label'))).click()"
   ]
  },
  {
   "cell_type": "code",
   "execution_count": 214,
   "id": "c67d80f4",
   "metadata": {},
   "outputs": [],
   "source": [
    "#Scrapping required data\n",
    "company = []\n",
    "days = []\n",
    "rating = []\n",
    "company_tags =WebDriverWait(driver,30).until(EC.visibility_of_all_elements_located((By.XPATH,'//p[@class=\"company body-medium\"]')))\n",
    "days_tags =WebDriverWait(driver,30).until(EC.visibility_of_all_elements_located((By.XPATH,'//span[@class=\"body-small-l\"]')))\n",
    "rate_tags = WebDriverWait(driver,30).until(EC.visibility_of_all_elements_located((By.XPATH,'//span[@class=\"body-small\"]')))\n",
    "\n",
    "for i in company_tags:\n",
    "    company.append(i.text)\n",
    "for j in days_tags:\n",
    "    days.append(j.text.split('via'))\n",
    "for k in rate_tags:\n",
    "    rating.append(k.text)"
   ]
  },
  {
   "cell_type": "code",
   "execution_count": 215,
   "id": "51de8910",
   "metadata": {},
   "outputs": [],
   "source": [
    "days = days[0::2]\n"
   ]
  },
  {
   "cell_type": "code",
   "execution_count": 201,
   "id": "4a756b9c",
   "metadata": {},
   "outputs": [
    {
     "data": {
      "text/html": [
       "<div>\n",
       "<style scoped>\n",
       "    .dataframe tbody tr th:only-of-type {\n",
       "        vertical-align: middle;\n",
       "    }\n",
       "\n",
       "    .dataframe tbody tr th {\n",
       "        vertical-align: top;\n",
       "    }\n",
       "\n",
       "    .dataframe thead th {\n",
       "        text-align: right;\n",
       "    }\n",
       "</style>\n",
       "<table border=\"1\" class=\"dataframe\">\n",
       "  <thead>\n",
       "    <tr style=\"text-align: right;\">\n",
       "      <th></th>\n",
       "      <th>Company</th>\n",
       "      <th>Rating</th>\n",
       "      <th>Days Since Posted</th>\n",
       "    </tr>\n",
       "  </thead>\n",
       "  <tbody>\n",
       "    <tr>\n",
       "      <th>0</th>\n",
       "      <td>Optum Global Solutions (India) Private Limited</td>\n",
       "      <td>4.1</td>\n",
       "      <td>[11d , ]</td>\n",
       "    </tr>\n",
       "    <tr>\n",
       "      <th>1</th>\n",
       "      <td>GENPACT India Private Limited</td>\n",
       "      <td>4.0</td>\n",
       "      <td>[18d , ]</td>\n",
       "    </tr>\n",
       "    <tr>\n",
       "      <th>2</th>\n",
       "      <td>Latent bridge</td>\n",
       "      <td>4.5</td>\n",
       "      <td>[2d , ]</td>\n",
       "    </tr>\n",
       "    <tr>\n",
       "      <th>3</th>\n",
       "      <td>Dew Solutions Pvt. Ltd.</td>\n",
       "      <td>4.3</td>\n",
       "      <td>[9d , ]</td>\n",
       "    </tr>\n",
       "    <tr>\n",
       "      <th>4</th>\n",
       "      <td>InfoEdge India Ltd.</td>\n",
       "      <td>3.9</td>\n",
       "      <td>[16d , ]</td>\n",
       "    </tr>\n",
       "    <tr>\n",
       "      <th>5</th>\n",
       "      <td>Info Edge India Limited</td>\n",
       "      <td>3.9</td>\n",
       "      <td>[17d , ]</td>\n",
       "    </tr>\n",
       "    <tr>\n",
       "      <th>6</th>\n",
       "      <td>Info Edge India Limited</td>\n",
       "      <td>3.9</td>\n",
       "      <td>[17d , ]</td>\n",
       "    </tr>\n",
       "    <tr>\n",
       "      <th>7</th>\n",
       "      <td>Careerera</td>\n",
       "      <td>3.8</td>\n",
       "      <td>[4d , ]</td>\n",
       "    </tr>\n",
       "    <tr>\n",
       "      <th>8</th>\n",
       "      <td>CRMnext</td>\n",
       "      <td>4.1</td>\n",
       "      <td>[12d , ]</td>\n",
       "    </tr>\n",
       "    <tr>\n",
       "      <th>9</th>\n",
       "      <td>Careernet Consulting</td>\n",
       "      <td>3.9</td>\n",
       "      <td>[1mon , ]</td>\n",
       "    </tr>\n",
       "  </tbody>\n",
       "</table>\n",
       "</div>"
      ],
      "text/plain": [
       "                                          Company Rating Days Since Posted\n",
       "0  Optum Global Solutions (India) Private Limited    4.1          [11d , ]\n",
       "1                   GENPACT India Private Limited    4.0          [18d , ]\n",
       "2                                   Latent bridge    4.5           [2d , ]\n",
       "3                         Dew Solutions Pvt. Ltd.    4.3           [9d , ]\n",
       "4                             InfoEdge India Ltd.    3.9          [16d , ]\n",
       "5                         Info Edge India Limited    3.9          [17d , ]\n",
       "6                         Info Edge India Limited    3.9          [17d , ]\n",
       "7                                       Careerera    3.8           [4d , ]\n",
       "8                                         CRMnext    4.1          [12d , ]\n",
       "9                            Careernet Consulting    3.9         [1mon , ]"
      ]
     },
     "execution_count": 201,
     "metadata": {},
     "output_type": "execute_result"
    }
   ],
   "source": [
    "df= pd.DataFrame({'Company': company, 'Rating':rating, 'Days Since Posted':days})\n",
    "df"
   ]
  },
  {
   "cell_type": "markdown",
   "id": "ceea50b8",
   "metadata": {},
   "source": [
    "# Q10 Write a python program to scrape the salary data for Data Scientist designation.\n"
   ]
  },
  {
   "cell_type": "code",
   "execution_count": 191,
   "id": "6e3062ef",
   "metadata": {},
   "outputs": [],
   "source": [
    "driver = webdriver.Chrome(r'C:\\Users\\USER\\Downloads\\chromedriver_win32\\chromedriver.exe')\n",
    "URL= 'http://www.ambitionbox.com/'\n",
    "driver.get(URL)\n",
    "driver.maximize_window()"
   ]
  },
  {
   "cell_type": "code",
   "execution_count": 192,
   "id": "29268d48",
   "metadata": {},
   "outputs": [],
   "source": [
    "#selecting salary\n",
    "select = WebDriverWait(driver,30).until(EC.element_to_be_clickable((By.XPATH,'/html/body/div[1]/nav/nav/a[4]'))).click()"
   ]
  },
  {
   "cell_type": "code",
   "execution_count": 193,
   "id": "e4a16d63",
   "metadata": {},
   "outputs": [],
   "source": [
    "search = WebDriverWait(driver,30).until(EC.element_to_be_clickable((By.XPATH,'/html/body/div/div/div/main/section[1]/div[2]/div[1]/span/input'))).send_keys('Data Scientist')"
   ]
  },
  {
   "cell_type": "code",
   "execution_count": 194,
   "id": "00c5c863",
   "metadata": {},
   "outputs": [],
   "source": [
    "select_ds =WebDriverWait(driver,30).until(EC.element_to_be_clickable((By.XPATH,'/html/body/div/div/div/main/section[1]/div[2]/div[1]/span/div/div/div[1]'))).click()"
   ]
  },
  {
   "cell_type": "code",
   "execution_count": 195,
   "id": "a02deb52",
   "metadata": {},
   "outputs": [],
   "source": [
    "search_bn = WebDriverWait(driver,30).until(EC.element_to_be_clickable((By.XPATH,'/html/body/div/div/div/main/section[1]/div[2]/div[1]/i[1]'))).click()"
   ]
  },
  {
   "cell_type": "code",
   "execution_count": 252,
   "id": "3bdf3507",
   "metadata": {},
   "outputs": [],
   "source": [
    "company =[]\n",
    "total_salary = []\n",
    "experience = []\n",
    "avg_sal =[]\n",
    "min_sal = []\n",
    "maxx_sal = []\n",
    "company_tags =driver.find_elements(By.CLASS_NAME,'company-info')[:10]\n",
    "total_tags = driver.find_elements(By.CLASS_NAME,'datapoints')\n",
    "exp_tags = driver.find_elements(By.CLASS_NAME,'sbold-list-header')[:10]\n",
    "avg_tags =driver.find_elements(By.CLASS_NAME,'averageCtc')\n",
    "min_max_tags =driver.find_elements(By.CLASS_NAME,'salary-values')\n",
    "\n",
    "for i in company_tags:\n",
    "    company.append(i.text.split('\\n')[0])\n",
    "for x in total_tags:\n",
    "    total_salary.append(x.text.split(' ')[2])\n",
    "for y in exp_tags:\n",
    "    experience.append(y.text.split(' ')[0])\n",
    "for z in avg_tags:\n",
    "    avg_sal.append(z.text.split('₹')[1].strip())\n",
    "for j in min_max_tags:\n",
    "    min_sal.append(j.text.split('\\n')[0].split('₹')[1].strip())\n",
    "    maxx_sal.append(j.text.split('\\n')[1].split('₹')[1].strip())\n",
    "    \n",
    "driver.quit()\n"
   ]
  },
  {
   "cell_type": "code",
   "execution_count": 255,
   "id": "b171ad10",
   "metadata": {},
   "outputs": [
    {
     "data": {
      "text/html": [
       "<div>\n",
       "<style scoped>\n",
       "    .dataframe tbody tr th:only-of-type {\n",
       "        vertical-align: middle;\n",
       "    }\n",
       "\n",
       "    .dataframe tbody tr th {\n",
       "        vertical-align: top;\n",
       "    }\n",
       "\n",
       "    .dataframe thead th {\n",
       "        text-align: right;\n",
       "    }\n",
       "</style>\n",
       "<table border=\"1\" class=\"dataframe\">\n",
       "  <thead>\n",
       "    <tr style=\"text-align: right;\">\n",
       "      <th></th>\n",
       "      <th>Company</th>\n",
       "      <th>Total salaries</th>\n",
       "      <th>Experience</th>\n",
       "      <th>Average Salary</th>\n",
       "      <th>Mininmun Salary</th>\n",
       "      <th>Maximum Salary</th>\n",
       "    </tr>\n",
       "  </thead>\n",
       "  <tbody>\n",
       "    <tr>\n",
       "      <th>0</th>\n",
       "      <td>Walmart</td>\n",
       "      <td>12</td>\n",
       "      <td>3</td>\n",
       "      <td>30.6L</td>\n",
       "      <td>25.0L</td>\n",
       "      <td>36.0L</td>\n",
       "    </tr>\n",
       "    <tr>\n",
       "      <th>1</th>\n",
       "      <td>Ab Inbev</td>\n",
       "      <td>33</td>\n",
       "      <td>3-4</td>\n",
       "      <td>20.8L</td>\n",
       "      <td>15.0L</td>\n",
       "      <td>26.2L</td>\n",
       "    </tr>\n",
       "    <tr>\n",
       "      <th>2</th>\n",
       "      <td>ZS</td>\n",
       "      <td>15</td>\n",
       "      <td>2</td>\n",
       "      <td>16.7L</td>\n",
       "      <td>11.0L</td>\n",
       "      <td>22.0L</td>\n",
       "    </tr>\n",
       "    <tr>\n",
       "      <th>3</th>\n",
       "      <td>Optum</td>\n",
       "      <td>32</td>\n",
       "      <td>3-4</td>\n",
       "      <td>15.9L</td>\n",
       "      <td>11.0L</td>\n",
       "      <td>22.5L</td>\n",
       "    </tr>\n",
       "    <tr>\n",
       "      <th>4</th>\n",
       "      <td>Reliance Jio</td>\n",
       "      <td>21</td>\n",
       "      <td>3-4</td>\n",
       "      <td>15.7L</td>\n",
       "      <td>5.6L</td>\n",
       "      <td>26.2L</td>\n",
       "    </tr>\n",
       "    <tr>\n",
       "      <th>5</th>\n",
       "      <td>Fractal Analytics</td>\n",
       "      <td>89</td>\n",
       "      <td>2-4</td>\n",
       "      <td>15.5L</td>\n",
       "      <td>10.0L</td>\n",
       "      <td>23.0L</td>\n",
       "    </tr>\n",
       "    <tr>\n",
       "      <th>6</th>\n",
       "      <td>Tiger Analytics</td>\n",
       "      <td>51</td>\n",
       "      <td>2-4</td>\n",
       "      <td>14.8L</td>\n",
       "      <td>9.0L</td>\n",
       "      <td>20.0L</td>\n",
       "    </tr>\n",
       "    <tr>\n",
       "      <th>7</th>\n",
       "      <td>UnitedHealth</td>\n",
       "      <td>57</td>\n",
       "      <td>2-4</td>\n",
       "      <td>14.0L</td>\n",
       "      <td>8.3L</td>\n",
       "      <td>21.1L</td>\n",
       "    </tr>\n",
       "    <tr>\n",
       "      <th>8</th>\n",
       "      <td>EXL Service</td>\n",
       "      <td>21</td>\n",
       "      <td>3-4</td>\n",
       "      <td>13.2L</td>\n",
       "      <td>7.6L</td>\n",
       "      <td>21.0L</td>\n",
       "    </tr>\n",
       "    <tr>\n",
       "      <th>9</th>\n",
       "      <td>Deloitte</td>\n",
       "      <td>69</td>\n",
       "      <td>2-4</td>\n",
       "      <td>12.8L</td>\n",
       "      <td>7.0L</td>\n",
       "      <td>25.0L</td>\n",
       "    </tr>\n",
       "  </tbody>\n",
       "</table>\n",
       "</div>"
      ],
      "text/plain": [
       "             Company Total salaries Experience Average Salary Mininmun Salary  \\\n",
       "0            Walmart             12          3          30.6L           25.0L   \n",
       "1           Ab Inbev             33        3-4          20.8L           15.0L   \n",
       "2                 ZS             15          2          16.7L           11.0L   \n",
       "3              Optum             32        3-4          15.9L           11.0L   \n",
       "4       Reliance Jio             21        3-4          15.7L            5.6L   \n",
       "5  Fractal Analytics             89        2-4          15.5L           10.0L   \n",
       "6    Tiger Analytics             51        2-4          14.8L            9.0L   \n",
       "7       UnitedHealth             57        2-4          14.0L            8.3L   \n",
       "8        EXL Service             21        3-4          13.2L            7.6L   \n",
       "9           Deloitte             69        2-4          12.8L            7.0L   \n",
       "\n",
       "  Maximum Salary  \n",
       "0          36.0L  \n",
       "1          26.2L  \n",
       "2          22.0L  \n",
       "3          22.5L  \n",
       "4          26.2L  \n",
       "5          23.0L  \n",
       "6          20.0L  \n",
       "7          21.1L  \n",
       "8          21.0L  \n",
       "9          25.0L  "
      ]
     },
     "execution_count": 255,
     "metadata": {},
     "output_type": "execute_result"
    }
   ],
   "source": [
    "df = pd.DataFrame({'Company': company, 'Total salaries':total_salary, 'Experience':experience, 'Average Salary':avg_sal, 'Mininmun Salary':min_sal, 'Maximum Salary':maxx_sal})\n",
    "df"
   ]
  },
  {
   "cell_type": "code",
   "execution_count": null,
   "id": "00a87342",
   "metadata": {},
   "outputs": [],
   "source": []
  }
 ],
 "metadata": {
  "kernelspec": {
   "display_name": "Python 3 (ipykernel)",
   "language": "python",
   "name": "python3"
  },
  "language_info": {
   "codemirror_mode": {
    "name": "ipython",
    "version": 3
   },
   "file_extension": ".py",
   "mimetype": "text/x-python",
   "name": "python",
   "nbconvert_exporter": "python",
   "pygments_lexer": "ipython3",
   "version": "3.9.7"
  }
 },
 "nbformat": 4,
 "nbformat_minor": 5
}
