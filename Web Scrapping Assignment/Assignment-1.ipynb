{
 "cells": [
  {
   "cell_type": "code",
   "execution_count": 1,
   "id": "2362d3ca",
   "metadata": {},
   "outputs": [
    {
     "name": "stdout",
     "output_type": "stream",
     "text": [
      "Collecting bs4\n",
      "  Downloading bs4-0.0.1.tar.gz (1.1 kB)\n",
      "Requirement already satisfied: beautifulsoup4 in c:\\users\\user\\anaconda3\\lib\\site-packages (from bs4) (4.10.0)\n",
      "Requirement already satisfied: soupsieve>1.2 in c:\\users\\user\\anaconda3\\lib\\site-packages (from beautifulsoup4->bs4) (2.2.1)\n",
      "Building wheels for collected packages: bs4\n",
      "  Building wheel for bs4 (setup.py): started\n",
      "  Building wheel for bs4 (setup.py): finished with status 'done'\n",
      "  Created wheel for bs4: filename=bs4-0.0.1-py3-none-any.whl size=1271 sha256=a8adc05082c694bae70b315c458bace0bf899d6c926d00bde45d5b090ce06e0c\n",
      "  Stored in directory: c:\\users\\user\\appdata\\local\\pip\\cache\\wheels\\73\\2b\\cb\\099980278a0c9a3e57ff1a89875ec07bfa0b6fcbebb9a8cad3\n",
      "Successfully built bs4\n",
      "Installing collected packages: bs4\n",
      "Successfully installed bs4-0.0.1\n",
      "Requirement already satisfied: requests in c:\\users\\user\\anaconda3\\lib\\site-packages (2.26.0)\n",
      "Requirement already satisfied: idna<4,>=2.5 in c:\\users\\user\\anaconda3\\lib\\site-packages (from requests) (3.2)\n",
      "Requirement already satisfied: urllib3<1.27,>=1.21.1 in c:\\users\\user\\anaconda3\\lib\\site-packages (from requests) (1.26.7)\n",
      "Requirement already satisfied: charset-normalizer~=2.0.0 in c:\\users\\user\\anaconda3\\lib\\site-packages (from requests) (2.0.4)\n",
      "Requirement already satisfied: certifi>=2017.4.17 in c:\\users\\user\\anaconda3\\lib\\site-packages (from requests) (2021.10.8)\n"
     ]
    }
   ],
   "source": [
    "!pip install bs4\n",
    "!pip install requests"
   ]
  },
  {
   "cell_type": "code",
   "execution_count": 2,
   "id": "ab32e37e",
   "metadata": {},
   "outputs": [],
   "source": [
    "from bs4 import BeautifulSoup,SoupStrainer\n",
    "import requests\n",
    "import re\n",
    "import pandas as pd\n",
    "import numpy as np"
   ]
  },
  {
   "cell_type": "markdown",
   "id": "ee46f2da",
   "metadata": {},
   "source": [
    "# Q1 Write a python program to display all the header tags from wikipedia.org."
   ]
  },
  {
   "cell_type": "code",
   "execution_count": 3,
   "id": "0ce01ef8",
   "metadata": {},
   "outputs": [],
   "source": [
    "wiki_url = requests.get('https://en.wikipedia.org') #getting permission to scrape da from the webpage"
   ]
  },
  {
   "cell_type": "code",
   "execution_count": 4,
   "id": "09bd9020",
   "metadata": {},
   "outputs": [
    {
     "data": {
      "text/plain": [
       "<Response [200]>"
      ]
     },
     "execution_count": 4,
     "metadata": {},
     "output_type": "execute_result"
    }
   ],
   "source": [
    "wiki_url #response [200] means we can go ahead with the scraping"
   ]
  },
  {
   "cell_type": "code",
   "execution_count": 5,
   "id": "37e826f8",
   "metadata": {},
   "outputs": [],
   "source": [
    "soup = BeautifulSoup(wiki_url.content)"
   ]
  },
  {
   "cell_type": "code",
   "execution_count": 6,
   "id": "f935594c",
   "metadata": {},
   "outputs": [
    {
     "data": {
      "text/plain": [
       "[\"From today's featured article\",\n",
       " 'Did you know\\xa0...',\n",
       " 'In the news',\n",
       " 'On this day',\n",
       " \"Today's featured picture\",\n",
       " 'Other areas of Wikipedia',\n",
       " \"Wikipedia's sister projects\",\n",
       " 'Wikipedia languages']"
      ]
     },
     "execution_count": 6,
     "metadata": {},
     "output_type": "execute_result"
    }
   ],
   "source": [
    "header = []    #Scraping all header tags into the empty header list\n",
    "for i in soup.find_all('h2',class_=\"mp-h2\"):\n",
    "    header.append(i.text)\n",
    "    \n",
    "header"
   ]
  },
  {
   "cell_type": "markdown",
   "id": "65bbc147",
   "metadata": {},
   "source": [
    "# Q2 Python program to display IMDB’s Top rated 100 movies’ data (i.e. name, rating, year of release)\n"
   ]
  },
  {
   "cell_type": "code",
   "execution_count": 7,
   "id": "72c31d7f",
   "metadata": {},
   "outputs": [],
   "source": [
    "#data scraped from the imbd webpage will be stored in the respective empty list\n",
    "movie_name = []\n",
    "ratings =[]\n",
    "year_of_release = []"
   ]
  },
  {
   "cell_type": "code",
   "execution_count": 8,
   "id": "57d23bc4",
   "metadata": {},
   "outputs": [],
   "source": [
    "pages = np.arange(1,100,50) \n",
    "    \n",
    "for page in pages:  #the data is contained in 2 pages, hence requesting permission to scrape data from both the pages\n",
    "    page = requests.get(\"https://www.imdb.com/search/title/?groups=top_100&sort=user_rating,desc&start=\"+str(page)+\"&ref_=adv_nxt\")\n",
    "    soup = BeautifulSoup(page.content,'html.parser')\n",
    "    movie_data = soup.find_all('div',class_='lister-item mode-advanced')\n",
    "    #movie names\n",
    "    for store in movie_data:\n",
    "        name= store.h3.a.text\n",
    "        movie_name.append(name)\n",
    "     #raing for each movie   \n",
    "        rating= store.find('div',class_='inline-block ratings-imdb-rating').text.replace('\\n',\"\") #\\n are removed from the output using replace\n",
    "        ratings.append(rating)\n",
    "      #year in which the movie was released  \n",
    "        year = store.h3.find('span',class_='lister-item-year text-muted unbold')\n",
    "        year_of_release.append(year.text.strip('()')) #strip('()') removes the brackets from the year#strip('()') removes the brackets from the year\n"
   ]
  },
  {
   "cell_type": "code",
   "execution_count": 9,
   "id": "44ed31d7",
   "metadata": {},
   "outputs": [
    {
     "data": {
      "text/plain": [
       "<Response [200]>"
      ]
     },
     "execution_count": 9,
     "metadata": {},
     "output_type": "execute_result"
    }
   ],
   "source": [
    "page"
   ]
  },
  {
   "cell_type": "code",
   "execution_count": 10,
   "id": "b96ec934",
   "metadata": {},
   "outputs": [
    {
     "data": {
      "text/html": [
       "<div>\n",
       "<style scoped>\n",
       "    .dataframe tbody tr th:only-of-type {\n",
       "        vertical-align: middle;\n",
       "    }\n",
       "\n",
       "    .dataframe tbody tr th {\n",
       "        vertical-align: top;\n",
       "    }\n",
       "\n",
       "    .dataframe thead th {\n",
       "        text-align: right;\n",
       "    }\n",
       "</style>\n",
       "<table border=\"1\" class=\"dataframe\">\n",
       "  <thead>\n",
       "    <tr style=\"text-align: right;\">\n",
       "      <th></th>\n",
       "      <th>Movie Name</th>\n",
       "      <th>Rating</th>\n",
       "      <th>Year of Release</th>\n",
       "    </tr>\n",
       "  </thead>\n",
       "  <tbody>\n",
       "    <tr>\n",
       "      <th>0</th>\n",
       "      <td>The Shawshank Redemption</td>\n",
       "      <td>9.3</td>\n",
       "      <td>1994</td>\n",
       "    </tr>\n",
       "    <tr>\n",
       "      <th>1</th>\n",
       "      <td>The Godfather</td>\n",
       "      <td>9.2</td>\n",
       "      <td>1972</td>\n",
       "    </tr>\n",
       "    <tr>\n",
       "      <th>2</th>\n",
       "      <td>The Dark Knight</td>\n",
       "      <td>9.0</td>\n",
       "      <td>2008</td>\n",
       "    </tr>\n",
       "    <tr>\n",
       "      <th>3</th>\n",
       "      <td>The Lord of the Rings: The Return of the King</td>\n",
       "      <td>9.0</td>\n",
       "      <td>2003</td>\n",
       "    </tr>\n",
       "    <tr>\n",
       "      <th>4</th>\n",
       "      <td>Schindler's List</td>\n",
       "      <td>9.0</td>\n",
       "      <td>1993</td>\n",
       "    </tr>\n",
       "  </tbody>\n",
       "</table>\n",
       "</div>"
      ],
      "text/plain": [
       "                                      Movie Name Rating Year of Release\n",
       "0                       The Shawshank Redemption    9.3            1994\n",
       "1                                  The Godfather    9.2            1972\n",
       "2                                The Dark Knight    9.0            2008\n",
       "3  The Lord of the Rings: The Return of the King    9.0            2003\n",
       "4                               Schindler's List    9.0            1993"
      ]
     },
     "execution_count": 10,
     "metadata": {},
     "output_type": "execute_result"
    }
   ],
   "source": [
    "#Creating a dataframe from scraped data\n",
    "Top_100_Movies = pd.DataFrame({'Movie Name': movie_name, 'Rating': ratings, 'Year of Release': year_of_release})\n",
    "Top_100_Movies.head()"
   ]
  },
  {
   "cell_type": "markdown",
   "id": "613fc49f",
   "metadata": {},
   "source": [
    "# Q3 Python program to display IMDB’s Top rated 100 Indian movies’ (name,rating and year of release) "
   ]
  },
  {
   "cell_type": "code",
   "execution_count": 11,
   "id": "395ff220",
   "metadata": {},
   "outputs": [
    {
     "data": {
      "text/plain": [
       "<Response [200]>"
      ]
     },
     "execution_count": 11,
     "metadata": {},
     "output_type": "execute_result"
    }
   ],
   "source": [
    "url = \"https://www.imdb.com/list/ls063915608/\"\n",
    "\n",
    "imbd_url = requests.get(url)\n",
    "imbd_url"
   ]
  },
  {
   "cell_type": "code",
   "execution_count": 12,
   "id": "af3fee25",
   "metadata": {},
   "outputs": [],
   "source": [
    "soup = BeautifulSoup(imbd_url.content)"
   ]
  },
  {
   "cell_type": "code",
   "execution_count": 13,
   "id": "7b34cbc1",
   "metadata": {},
   "outputs": [],
   "source": [
    "ind_movies= soup.find_all('div',class_='lister-item mode-detail')"
   ]
  },
  {
   "cell_type": "code",
   "execution_count": 14,
   "id": "7e4ae5ec",
   "metadata": {},
   "outputs": [],
   "source": [
    "#the required data collected will be sored in respective lists\n",
    "ind_movie_name=[]\n",
    "movie_rating = []\n",
    "year_of_release = []"
   ]
  },
  {
   "cell_type": "code",
   "execution_count": 15,
   "id": "3df2b27c",
   "metadata": {},
   "outputs": [],
   "source": [
    "for i in ind_movies:\n",
    "    #movie name\n",
    "    titles = i.find('h3',class_='lister-item-header').a.text.strip() #strip() is used for removing white space\n",
    "    ind_movie_name.append(titles)\n",
    "    \n",
    "    #movie rating\n",
    "    rate = i.find('div',class_='ipl-rating-star small').text.replace(\"\\n\",\"\") #\\n are removed from the output using replace\n",
    "    movie_rating.append(rate)\n",
    "    \n",
    "    #release yearof the movie\n",
    "    year = i.find('span',class_='lister-item-year text-muted unbold').text.strip('()') #strip('()') removes the brackets from the year\n",
    "    year_of_release.append(year)\n",
    "    \n",
    "    "
   ]
  },
  {
   "cell_type": "code",
   "execution_count": 16,
   "id": "62569f80",
   "metadata": {},
   "outputs": [
    {
     "data": {
      "text/html": [
       "<div>\n",
       "<style scoped>\n",
       "    .dataframe tbody tr th:only-of-type {\n",
       "        vertical-align: middle;\n",
       "    }\n",
       "\n",
       "    .dataframe tbody tr th {\n",
       "        vertical-align: top;\n",
       "    }\n",
       "\n",
       "    .dataframe thead th {\n",
       "        text-align: right;\n",
       "    }\n",
       "</style>\n",
       "<table border=\"1\" class=\"dataframe\">\n",
       "  <thead>\n",
       "    <tr style=\"text-align: right;\">\n",
       "      <th></th>\n",
       "      <th>Movie Title</th>\n",
       "      <th>Rating</th>\n",
       "      <th>Year of Release</th>\n",
       "    </tr>\n",
       "  </thead>\n",
       "  <tbody>\n",
       "    <tr>\n",
       "      <th>0</th>\n",
       "      <td>Rang De Basanti</td>\n",
       "      <td>8.1</td>\n",
       "      <td>2006</td>\n",
       "    </tr>\n",
       "    <tr>\n",
       "      <th>1</th>\n",
       "      <td>Lagaan: Once Upon a Time in India</td>\n",
       "      <td>8.1</td>\n",
       "      <td>2001</td>\n",
       "    </tr>\n",
       "    <tr>\n",
       "      <th>2</th>\n",
       "      <td>Dil Chahta Hai</td>\n",
       "      <td>8.1</td>\n",
       "      <td>2001</td>\n",
       "    </tr>\n",
       "    <tr>\n",
       "      <th>3</th>\n",
       "      <td>Gangs of Wasseypur</td>\n",
       "      <td>8.2</td>\n",
       "      <td>2012</td>\n",
       "    </tr>\n",
       "    <tr>\n",
       "      <th>4</th>\n",
       "      <td>Zindagi Na Milegi Dobara</td>\n",
       "      <td>8.1</td>\n",
       "      <td>2011</td>\n",
       "    </tr>\n",
       "  </tbody>\n",
       "</table>\n",
       "</div>"
      ],
      "text/plain": [
       "                         Movie Title Rating Year of Release\n",
       "0                    Rang De Basanti    8.1            2006\n",
       "1  Lagaan: Once Upon a Time in India    8.1            2001\n",
       "2                     Dil Chahta Hai    8.1            2001\n",
       "3                 Gangs of Wasseypur    8.2            2012\n",
       "4           Zindagi Na Milegi Dobara    8.1            2011"
      ]
     },
     "execution_count": 16,
     "metadata": {},
     "output_type": "execute_result"
    }
   ],
   "source": [
    "Top_100_IND_Movies = pd.DataFrame({'Movie Title':ind_movie_name, 'Rating':movie_rating, 'Year of Release':year_of_release})\n",
    "Top_100_IND_Movies.head()"
   ]
  },
  {
   "cell_type": "markdown",
   "id": "afb87f70",
   "metadata": {},
   "source": [
    "# Q4 Python program to display list of respected former presidents of India(i.e. Name , Term of office)"
   ]
  },
  {
   "cell_type": "code",
   "execution_count": 17,
   "id": "4d157974",
   "metadata": {},
   "outputs": [
    {
     "data": {
      "text/plain": [
       "<Response [200]>"
      ]
     },
     "execution_count": 17,
     "metadata": {},
     "output_type": "execute_result"
    }
   ],
   "source": [
    "Link = 'https://presidentofindia.nic.in/former-presidents.htm'\n",
    "\n",
    "PI = requests.get(Link)\n",
    "PI"
   ]
  },
  {
   "cell_type": "code",
   "execution_count": 18,
   "id": "ebc5e7cf",
   "metadata": {},
   "outputs": [],
   "source": [
    "Soup = BeautifulSoup(PI.content)\n",
    "data = Soup.find_all('div',class_='presidentListing')\n",
    "\n",
    "Presidents =[]\n",
    "Term_of_Office =[]\n",
    "\n",
    "\n",
    "for i in data:\n",
    "    name = i.h3.text.split('(')[0]\n",
    "    Presidents.append(name)\n",
    "   \n",
    "    term = i.find('p').text.replace('Term of Office:','')\n",
    "    Term_of_Office.append(term)\n",
    "    "
   ]
  },
  {
   "cell_type": "code",
   "execution_count": 19,
   "id": "49ae94ef",
   "metadata": {},
   "outputs": [
    {
     "data": {
      "text/html": [
       "<div>\n",
       "<style scoped>\n",
       "    .dataframe tbody tr th:only-of-type {\n",
       "        vertical-align: middle;\n",
       "    }\n",
       "\n",
       "    .dataframe tbody tr th {\n",
       "        vertical-align: top;\n",
       "    }\n",
       "\n",
       "    .dataframe thead th {\n",
       "        text-align: right;\n",
       "    }\n",
       "</style>\n",
       "<table border=\"1\" class=\"dataframe\">\n",
       "  <thead>\n",
       "    <tr style=\"text-align: right;\">\n",
       "      <th></th>\n",
       "      <th>Former Presidents</th>\n",
       "      <th>Term of Office</th>\n",
       "    </tr>\n",
       "  </thead>\n",
       "  <tbody>\n",
       "    <tr>\n",
       "      <th>0</th>\n",
       "      <td>Shri Pranab Mukherjee</td>\n",
       "      <td>25 July, 2012 to 25 July, 2017</td>\n",
       "    </tr>\n",
       "    <tr>\n",
       "      <th>1</th>\n",
       "      <td>Smt Pratibha Devisingh Patil</td>\n",
       "      <td>25 July, 2007 to 25 July, 2012</td>\n",
       "    </tr>\n",
       "    <tr>\n",
       "      <th>2</th>\n",
       "      <td>DR. A.P.J. Abdul Kalam</td>\n",
       "      <td>25 July, 2002 to 25 July, 2007</td>\n",
       "    </tr>\n",
       "    <tr>\n",
       "      <th>3</th>\n",
       "      <td>Shri K. R. Narayanan</td>\n",
       "      <td>25 July, 1997 to 25 July, 2002</td>\n",
       "    </tr>\n",
       "    <tr>\n",
       "      <th>4</th>\n",
       "      <td>Dr Shankar Dayal Sharma</td>\n",
       "      <td>25 July, 1992 to 25 July, 1997</td>\n",
       "    </tr>\n",
       "  </tbody>\n",
       "</table>\n",
       "</div>"
      ],
      "text/plain": [
       "               Former Presidents                    Term of Office\n",
       "0         Shri Pranab Mukherjee    25 July, 2012 to 25 July, 2017 \n",
       "1  Smt Pratibha Devisingh Patil    25 July, 2007 to 25 July, 2012 \n",
       "2        DR. A.P.J. Abdul Kalam    25 July, 2002 to 25 July, 2007 \n",
       "3          Shri K. R. Narayanan    25 July, 1997 to 25 July, 2002 \n",
       "4       Dr Shankar Dayal Sharma    25 July, 1992 to 25 July, 1997 "
      ]
     },
     "execution_count": 19,
     "metadata": {},
     "output_type": "execute_result"
    }
   ],
   "source": [
    "Former_Presidents = pd.DataFrame({'Former Presidents':Presidents, 'Term of Office':Term_of_Office})\n",
    "Former_Presidents.head()"
   ]
  },
  {
   "cell_type": "markdown",
   "id": "2e912111",
   "metadata": {},
   "source": [
    "# Q5 Write a python program to scrape men's cricket rankings "
   ]
  },
  {
   "cell_type": "markdown",
   "id": "bba470a9",
   "metadata": {},
   "source": [
    "### a)Top 10 ODI teams in men’s cricket along with the records for matches, points and rating."
   ]
  },
  {
   "cell_type": "code",
   "execution_count": 20,
   "id": "5b2560cd",
   "metadata": {},
   "outputs": [],
   "source": [
    "url = 'https://www.icc-cricket.com/rankings/mens/team-rankings/odi'"
   ]
  },
  {
   "cell_type": "code",
   "execution_count": 21,
   "id": "cd937029",
   "metadata": {},
   "outputs": [
    {
     "data": {
      "text/plain": [
       "<Response [200]>"
      ]
     },
     "execution_count": 21,
     "metadata": {},
     "output_type": "execute_result"
    }
   ],
   "source": [
    "req= requests.get(url)\n",
    "req"
   ]
  },
  {
   "cell_type": "code",
   "execution_count": 24,
   "id": "d7ad94be",
   "metadata": {},
   "outputs": [],
   "source": [
    "soup7= BeautifulSoup(req.content)"
   ]
  },
  {
   "cell_type": "code",
   "execution_count": 25,
   "id": "2f0f66dd",
   "metadata": {},
   "outputs": [],
   "source": [
    "Teams=[]\n",
    "Matches=[]\n",
    "Points=[]\n",
    "Rating=[]"
   ]
  },
  {
   "cell_type": "code",
   "execution_count": 26,
   "id": "1c6681a1",
   "metadata": {},
   "outputs": [],
   "source": [
    "table = soup7.find('table')\n",
    "for row in table.find_all('tr'):\n",
    "   #Teams\n",
    "    for team in row.find_all('span',class_='u-hide-phablet'):\n",
    "        Teams.append(team.text)\n",
    "    #Matches    \n",
    "    for match in row.find_all('td',class_='rankings-block__banner--matches'): #first row for matches were stored in differet class tag\n",
    "        Matches.append(match.text)\n",
    "    for match in row.find_all('td',class_='table-body__cell u-center-text')[:1]: #slicing is done as point and matches had a common tag\n",
    "        Matches.append(match.text)\n",
    "    #Points    \n",
    "    for point in row.find_all('td',class_='rankings-block__banner--points'): #first row for points were stored in differet classtag\n",
    "        Points.append(point.text)\n",
    "    for point in row.find_all('td',class_='table-body__cell u-center-text')[1:]:\n",
    "        Points.append(point.text)\n",
    "    Rating\n",
    "    for rate in row.find_all('td',class_=\"rankings-block__banner--rating u-text-right\"): #first row for points were stored in differet classtag\n",
    "        Rating.append(rate.text.replace('\\n',\"\").strip())\n",
    "    for rate in row.find_all('td',class_=\"table-body__cell u-text-right rating\"):\n",
    "        Rating.append(rate.text)\n",
    "  "
   ]
  },
  {
   "cell_type": "code",
   "execution_count": 27,
   "id": "543f89ac",
   "metadata": {},
   "outputs": [],
   "source": [
    "#Obtaining top 10\n",
    "\n",
    "Top_10_ODI_teams = Teams[:10]\n",
    "Matches = Matches[:10]\n",
    "Points = Points[:10]\n",
    "Rating = Rating[:10]"
   ]
  },
  {
   "cell_type": "code",
   "execution_count": 28,
   "id": "d3d44798",
   "metadata": {},
   "outputs": [
    {
     "data": {
      "text/html": [
       "<div>\n",
       "<style scoped>\n",
       "    .dataframe tbody tr th:only-of-type {\n",
       "        vertical-align: middle;\n",
       "    }\n",
       "\n",
       "    .dataframe tbody tr th {\n",
       "        vertical-align: top;\n",
       "    }\n",
       "\n",
       "    .dataframe thead th {\n",
       "        text-align: right;\n",
       "    }\n",
       "</style>\n",
       "<table border=\"1\" class=\"dataframe\">\n",
       "  <thead>\n",
       "    <tr style=\"text-align: right;\">\n",
       "      <th></th>\n",
       "      <th>Top 10 ODI Teams</th>\n",
       "      <th>Matches</th>\n",
       "      <th>Points</th>\n",
       "      <th>Rating</th>\n",
       "    </tr>\n",
       "  </thead>\n",
       "  <tbody>\n",
       "    <tr>\n",
       "      <th>0</th>\n",
       "      <td>New Zealand</td>\n",
       "      <td>12</td>\n",
       "      <td>1,505</td>\n",
       "      <td>125</td>\n",
       "    </tr>\n",
       "    <tr>\n",
       "      <th>1</th>\n",
       "      <td>England</td>\n",
       "      <td>22</td>\n",
       "      <td>2,756</td>\n",
       "      <td>125</td>\n",
       "    </tr>\n",
       "    <tr>\n",
       "      <th>2</th>\n",
       "      <td>Pakistan</td>\n",
       "      <td>19</td>\n",
       "      <td>2,005</td>\n",
       "      <td>106</td>\n",
       "    </tr>\n",
       "    <tr>\n",
       "      <th>3</th>\n",
       "      <td>India</td>\n",
       "      <td>22</td>\n",
       "      <td>2,304</td>\n",
       "      <td>105</td>\n",
       "    </tr>\n",
       "    <tr>\n",
       "      <th>4</th>\n",
       "      <td>Australia</td>\n",
       "      <td>23</td>\n",
       "      <td>2,325</td>\n",
       "      <td>101</td>\n",
       "    </tr>\n",
       "    <tr>\n",
       "      <th>5</th>\n",
       "      <td>South Africa</td>\n",
       "      <td>19</td>\n",
       "      <td>1,872</td>\n",
       "      <td>99</td>\n",
       "    </tr>\n",
       "    <tr>\n",
       "      <th>6</th>\n",
       "      <td>Bangladesh</td>\n",
       "      <td>24</td>\n",
       "      <td>2,275</td>\n",
       "      <td>95</td>\n",
       "    </tr>\n",
       "    <tr>\n",
       "      <th>7</th>\n",
       "      <td>Sri Lanka</td>\n",
       "      <td>29</td>\n",
       "      <td>2,658</td>\n",
       "      <td>92</td>\n",
       "    </tr>\n",
       "    <tr>\n",
       "      <th>8</th>\n",
       "      <td>West Indies</td>\n",
       "      <td>32</td>\n",
       "      <td>2,306</td>\n",
       "      <td>72</td>\n",
       "    </tr>\n",
       "    <tr>\n",
       "      <th>9</th>\n",
       "      <td>Afghanistan</td>\n",
       "      <td>18</td>\n",
       "      <td>1,238</td>\n",
       "      <td>69</td>\n",
       "    </tr>\n",
       "  </tbody>\n",
       "</table>\n",
       "</div>"
      ],
      "text/plain": [
       "  Top 10 ODI Teams Matches Points Rating\n",
       "0      New Zealand      12  1,505    125\n",
       "1          England      22  2,756    125\n",
       "2         Pakistan      19  2,005    106\n",
       "3            India      22  2,304    105\n",
       "4        Australia      23  2,325    101\n",
       "5     South Africa      19  1,872     99\n",
       "6       Bangladesh      24  2,275     95\n",
       "7        Sri Lanka      29  2,658     92\n",
       "8      West Indies      32  2,306     72\n",
       "9      Afghanistan      18  1,238     69"
      ]
     },
     "execution_count": 28,
     "metadata": {},
     "output_type": "execute_result"
    }
   ],
   "source": [
    "Mens_ODI_Top10 = pd.DataFrame({'Top 10 ODI Teams':Top_10_ODI_teams,'Matches':Matches,'Points':Points,'Rating':Rating})\n",
    "Mens_ODI_Top10"
   ]
  },
  {
   "cell_type": "markdown",
   "id": "f24d91ec",
   "metadata": {},
   "source": [
    "### b)Top 10 ODI Batsmen along with the records of their team and rating.\n"
   ]
  },
  {
   "cell_type": "code",
   "execution_count": 29,
   "id": "efcc4f5f",
   "metadata": {},
   "outputs": [],
   "source": [
    "url= 'https://www.icc-cricket.com/rankings/mens/player-rankings/odi/batting'"
   ]
  },
  {
   "cell_type": "code",
   "execution_count": 30,
   "id": "5d5fb6a5",
   "metadata": {},
   "outputs": [
    {
     "data": {
      "text/plain": [
       "<Response [200]>"
      ]
     },
     "execution_count": 30,
     "metadata": {},
     "output_type": "execute_result"
    }
   ],
   "source": [
    "req = requests.get(url)\n",
    "req"
   ]
  },
  {
   "cell_type": "code",
   "execution_count": 31,
   "id": "b43fa3c6",
   "metadata": {},
   "outputs": [],
   "source": [
    "soup8= BeautifulSoup(req.content)"
   ]
  },
  {
   "cell_type": "code",
   "execution_count": 32,
   "id": "ec44923e",
   "metadata": {},
   "outputs": [],
   "source": [
    "Players = []\n",
    "Team =[]\n",
    "Rating = []"
   ]
  },
  {
   "cell_type": "code",
   "execution_count": 33,
   "id": "d66e717b",
   "metadata": {},
   "outputs": [],
   "source": [
    "table = soup8.find('table')\n",
    "\n",
    "#first row of respective records were stored in a seperate tag, so we extract it first\n",
    "first_row=table.find('tr',class_='rankings-block__banner')\n",
    "a =first_row.find('div',class_='rankings-block__banner--name-large').text\n",
    "Players.append(a)\n",
    "\n",
    "b=first_row.find('div',class_='rankings-block__banner--nationality').text.replace('\\n','')\n",
    "Team.append(b)\n",
    "\n",
    "c=first_row.find('div',class_='rankings-block__banner--rating').text\n",
    "Rating.append(c)\n",
    "\n",
    "for row in table.find_all('tr',class_='table-body'):\n",
    "    for player in row.find('td',class_='table-body__cell rankings-table__name name'):\n",
    "        if player.text.strip()!='':\n",
    "            Players.append(player.text)\n",
    "    for team in row.find('span',class_='table-body__logo-text'):\n",
    "        Team.append(team.text)\n",
    "    for rating in row.find('td',class_='table-body__cell rating'):\n",
    "        Rating.append(rating.text)"
   ]
  },
  {
   "cell_type": "code",
   "execution_count": 34,
   "id": "ffc2fe33",
   "metadata": {},
   "outputs": [],
   "source": [
    "#Obtaining top 10\n",
    "\n",
    "Top_10_Players= Players[:10]\n",
    "Team = Team[:10]\n",
    "Rating =Rating[:10]"
   ]
  },
  {
   "cell_type": "code",
   "execution_count": 35,
   "id": "e298bab9",
   "metadata": {},
   "outputs": [
    {
     "data": {
      "text/html": [
       "<div>\n",
       "<style scoped>\n",
       "    .dataframe tbody tr th:only-of-type {\n",
       "        vertical-align: middle;\n",
       "    }\n",
       "\n",
       "    .dataframe tbody tr th {\n",
       "        vertical-align: top;\n",
       "    }\n",
       "\n",
       "    .dataframe thead th {\n",
       "        text-align: right;\n",
       "    }\n",
       "</style>\n",
       "<table border=\"1\" class=\"dataframe\">\n",
       "  <thead>\n",
       "    <tr style=\"text-align: right;\">\n",
       "      <th></th>\n",
       "      <th>Player</th>\n",
       "      <th>Team</th>\n",
       "      <th>Rating</th>\n",
       "    </tr>\n",
       "  </thead>\n",
       "  <tbody>\n",
       "    <tr>\n",
       "      <th>0</th>\n",
       "      <td>Babar Azam</td>\n",
       "      <td>PAK</td>\n",
       "      <td>892</td>\n",
       "    </tr>\n",
       "    <tr>\n",
       "      <th>1</th>\n",
       "      <td>Imam-ul-Haq</td>\n",
       "      <td>PAK</td>\n",
       "      <td>815</td>\n",
       "    </tr>\n",
       "    <tr>\n",
       "      <th>2</th>\n",
       "      <td>Virat Kohli</td>\n",
       "      <td>IND</td>\n",
       "      <td>811</td>\n",
       "    </tr>\n",
       "    <tr>\n",
       "      <th>3</th>\n",
       "      <td>Rohit Sharma</td>\n",
       "      <td>IND</td>\n",
       "      <td>791</td>\n",
       "    </tr>\n",
       "    <tr>\n",
       "      <th>4</th>\n",
       "      <td>Quinton de Kock</td>\n",
       "      <td>SA</td>\n",
       "      <td>789</td>\n",
       "    </tr>\n",
       "    <tr>\n",
       "      <th>5</th>\n",
       "      <td>Ross Taylor</td>\n",
       "      <td>NZ</td>\n",
       "      <td>775</td>\n",
       "    </tr>\n",
       "    <tr>\n",
       "      <th>6</th>\n",
       "      <td>Rassie van der Dussen</td>\n",
       "      <td>SA</td>\n",
       "      <td>769</td>\n",
       "    </tr>\n",
       "    <tr>\n",
       "      <th>7</th>\n",
       "      <td>Jonny Bairstow</td>\n",
       "      <td>ENG</td>\n",
       "      <td>752</td>\n",
       "    </tr>\n",
       "    <tr>\n",
       "      <th>8</th>\n",
       "      <td>David Warner</td>\n",
       "      <td>AUS</td>\n",
       "      <td>737</td>\n",
       "    </tr>\n",
       "    <tr>\n",
       "      <th>9</th>\n",
       "      <td>Shai Hope</td>\n",
       "      <td>WI</td>\n",
       "      <td>718</td>\n",
       "    </tr>\n",
       "  </tbody>\n",
       "</table>\n",
       "</div>"
      ],
      "text/plain": [
       "                  Player                     Team Rating\n",
       "0             Babar Azam  PAK                        892\n",
       "1            Imam-ul-Haq                      PAK    815\n",
       "2            Virat Kohli                      IND    811\n",
       "3           Rohit Sharma                      IND    791\n",
       "4        Quinton de Kock                       SA    789\n",
       "5            Ross Taylor                       NZ    775\n",
       "6  Rassie van der Dussen                       SA    769\n",
       "7         Jonny Bairstow                      ENG    752\n",
       "8           David Warner                      AUS    737\n",
       "9              Shai Hope                       WI    718"
      ]
     },
     "execution_count": 35,
     "metadata": {},
     "output_type": "execute_result"
    }
   ],
   "source": [
    "Top10_ODI_Batting = pd.DataFrame({'Player':Top_10_Players,'Team':Team,'Rating': Rating })\n",
    "Top10_ODI_Batting"
   ]
  },
  {
   "cell_type": "markdown",
   "id": "2761a532",
   "metadata": {},
   "source": [
    "### c) Top 10 ODI bowlers along with the records of their team and rating.\n"
   ]
  },
  {
   "cell_type": "code",
   "execution_count": 36,
   "id": "7799a8a0",
   "metadata": {},
   "outputs": [],
   "source": [
    "url = 'https://www.icc-cricket.com/rankings/mens/player-rankings/odi/bowling'"
   ]
  },
  {
   "cell_type": "code",
   "execution_count": 37,
   "id": "eaf8a08d",
   "metadata": {},
   "outputs": [
    {
     "data": {
      "text/plain": [
       "<Response [200]>"
      ]
     },
     "execution_count": 37,
     "metadata": {},
     "output_type": "execute_result"
    }
   ],
   "source": [
    "req = requests.get(url)\n",
    "req"
   ]
  },
  {
   "cell_type": "code",
   "execution_count": 38,
   "id": "ce69cbb2",
   "metadata": {},
   "outputs": [],
   "source": [
    "soup9= BeautifulSoup(req.content)"
   ]
  },
  {
   "cell_type": "code",
   "execution_count": 39,
   "id": "3b203105",
   "metadata": {},
   "outputs": [],
   "source": [
    "Players =[]\n",
    "Team = []\n",
    "Rating =[]"
   ]
  },
  {
   "cell_type": "code",
   "execution_count": 40,
   "id": "39267ba1",
   "metadata": {},
   "outputs": [],
   "source": [
    "table = soup9.find('table')\n",
    "#first row of respective records were stored in a seperate tag, so we extract it first\n",
    "\n",
    "first_row=table.find('tr',class_='rankings-block__banner')\n",
    "r =first_row.find('div',class_='rankings-block__banner--name-large').text\n",
    "Players.append(r)\n",
    "\n",
    "s=first_row.find('div',class_='rankings-block__banner--nationality').text.replace('\\n','')\n",
    "Team.append(s)\n",
    "\n",
    "t=first_row.find('div',class_='rankings-block__banner--rating').text\n",
    "Rating.append(t)\n",
    "\n",
    "for row in table.find_all('tr',class_='table-body'):\n",
    "    for player in row.find('td',class_='table-body__cell rankings-table__name name'):\n",
    "        if player.text.strip()!='':\n",
    "            Players.append(player.text)\n",
    "    for team in row.find('span',class_='table-body__logo-text'):\n",
    "        Team.append(team.text)\n",
    "    for rating in row.find('td',class_='table-body__cell rating'):\n",
    "        Rating.append(rating.text)"
   ]
  },
  {
   "cell_type": "code",
   "execution_count": 41,
   "id": "fd7b86e4",
   "metadata": {},
   "outputs": [],
   "source": [
    "#Obtaining top 10\n",
    "Top10_ODI_Bowlers = Players[:10]\n",
    "Team = Team [:10]\n",
    "Rating = Rating[:10]"
   ]
  },
  {
   "cell_type": "code",
   "execution_count": 42,
   "id": "3008edb0",
   "metadata": {},
   "outputs": [
    {
     "data": {
      "text/html": [
       "<div>\n",
       "<style scoped>\n",
       "    .dataframe tbody tr th:only-of-type {\n",
       "        vertical-align: middle;\n",
       "    }\n",
       "\n",
       "    .dataframe tbody tr th {\n",
       "        vertical-align: top;\n",
       "    }\n",
       "\n",
       "    .dataframe thead th {\n",
       "        text-align: right;\n",
       "    }\n",
       "</style>\n",
       "<table border=\"1\" class=\"dataframe\">\n",
       "  <thead>\n",
       "    <tr style=\"text-align: right;\">\n",
       "      <th></th>\n",
       "      <th>Players</th>\n",
       "      <th>Team</th>\n",
       "      <th>Rating</th>\n",
       "    </tr>\n",
       "  </thead>\n",
       "  <tbody>\n",
       "    <tr>\n",
       "      <th>0</th>\n",
       "      <td>Trent Boult</td>\n",
       "      <td>NZ</td>\n",
       "      <td>726</td>\n",
       "    </tr>\n",
       "    <tr>\n",
       "      <th>1</th>\n",
       "      <td>Matt Henry</td>\n",
       "      <td>NZ</td>\n",
       "      <td>683</td>\n",
       "    </tr>\n",
       "    <tr>\n",
       "      <th>2</th>\n",
       "      <td>Shaheen Afridi</td>\n",
       "      <td>PAK</td>\n",
       "      <td>681</td>\n",
       "    </tr>\n",
       "    <tr>\n",
       "      <th>3</th>\n",
       "      <td>Chris Woakes</td>\n",
       "      <td>ENG</td>\n",
       "      <td>680</td>\n",
       "    </tr>\n",
       "    <tr>\n",
       "      <th>4</th>\n",
       "      <td>Jasprit Bumrah</td>\n",
       "      <td>IND</td>\n",
       "      <td>679</td>\n",
       "    </tr>\n",
       "    <tr>\n",
       "      <th>5</th>\n",
       "      <td>Josh Hazlewood</td>\n",
       "      <td>AUS</td>\n",
       "      <td>679</td>\n",
       "    </tr>\n",
       "    <tr>\n",
       "      <th>6</th>\n",
       "      <td>Mujeeb Ur Rahman</td>\n",
       "      <td>AFG</td>\n",
       "      <td>676</td>\n",
       "    </tr>\n",
       "    <tr>\n",
       "      <th>7</th>\n",
       "      <td>Mehedi Hasan</td>\n",
       "      <td>BAN</td>\n",
       "      <td>661</td>\n",
       "    </tr>\n",
       "    <tr>\n",
       "      <th>8</th>\n",
       "      <td>Mohammad Nabi</td>\n",
       "      <td>AFG</td>\n",
       "      <td>657</td>\n",
       "    </tr>\n",
       "    <tr>\n",
       "      <th>9</th>\n",
       "      <td>Shakib Al Hasan</td>\n",
       "      <td>BAN</td>\n",
       "      <td>657</td>\n",
       "    </tr>\n",
       "  </tbody>\n",
       "</table>\n",
       "</div>"
      ],
      "text/plain": [
       "            Players                    Team Rating\n",
       "0       Trent Boult  NZ                        726\n",
       "1        Matt Henry                      NZ    683\n",
       "2    Shaheen Afridi                     PAK    681\n",
       "3      Chris Woakes                     ENG    680\n",
       "4    Jasprit Bumrah                     IND    679\n",
       "5    Josh Hazlewood                     AUS    679\n",
       "6  Mujeeb Ur Rahman                     AFG    676\n",
       "7      Mehedi Hasan                     BAN    661\n",
       "8     Mohammad Nabi                     AFG    657\n",
       "9   Shakib Al Hasan                     BAN    657"
      ]
     },
     "execution_count": 42,
     "metadata": {},
     "output_type": "execute_result"
    }
   ],
   "source": [
    "Top10_Mens_ODI_Bowlers =pd.DataFrame({'Players':Top10_ODI_Bowlers,'Team':Team, 'Rating':Rating})\n",
    "Top10_Mens_ODI_Bowlers"
   ]
  },
  {
   "cell_type": "markdown",
   "id": "342ec7d0",
   "metadata": {},
   "source": [
    "# Q6 Python program to scrape women's cricket rankings "
   ]
  },
  {
   "cell_type": "markdown",
   "id": "58fb18be",
   "metadata": {},
   "source": [
    "### a) Top 10 ODI teams in women’s cricket along with the records for matches, points and rating"
   ]
  },
  {
   "cell_type": "code",
   "execution_count": 43,
   "id": "98f77165",
   "metadata": {},
   "outputs": [],
   "source": [
    "url1 = \"https://www.icc-cricket.com/rankings/womens/team-rankings/odi\""
   ]
  },
  {
   "cell_type": "code",
   "execution_count": 44,
   "id": "f15514eb",
   "metadata": {},
   "outputs": [
    {
     "data": {
      "text/plain": [
       "<Response [200]>"
      ]
     },
     "execution_count": 44,
     "metadata": {},
     "output_type": "execute_result"
    }
   ],
   "source": [
    "ODI1 = requests.get(url1)\n",
    "ODI1 "
   ]
  },
  {
   "cell_type": "code",
   "execution_count": 45,
   "id": "df593214",
   "metadata": {},
   "outputs": [],
   "source": [
    "soup1 = BeautifulSoup(ODI1.content)"
   ]
  },
  {
   "cell_type": "code",
   "execution_count": 46,
   "id": "6aea76fd",
   "metadata": {},
   "outputs": [],
   "source": [
    "teams = []\n",
    "matches = []\n",
    "points = []\n",
    "rating = []"
   ]
  },
  {
   "cell_type": "code",
   "execution_count": 47,
   "id": "7853da8f",
   "metadata": {},
   "outputs": [],
   "source": [
    "table = soup1.find('table')\n",
    "for row in table.find_all('tr'):\n",
    "   #Team\n",
    "    for team in row.find_all('span',class_='u-hide-phablet'):\n",
    "        teams.append(team.text)\n",
    "    #Matches    \n",
    "    for match in row.find_all('td',class_='rankings-block__banner--matches'):\n",
    "        matches.append(match.text)\n",
    "    for match in row.find_all('td',class_='table-body__cell u-center-text')[:1]:\n",
    "        matches.append(match.text)\n",
    "    #Points\n",
    "    for point in row.find_all('td',class_='rankings-block__banner--points'):\n",
    "        points.append(point.text)\n",
    "    for point in row.find_all('td',class_='table-body__cell u-center-text')[1:]:\n",
    "        points.append(point.text)\n",
    "    #Rating\n",
    "    for rate in row.find_all('td',class_=\"rankings-block__banner--rating u-text-right\"):\n",
    "        rating.append(rate.text.replace('\\n',\"\").strip())\n",
    "    for rate in row.find_all('td',class_=\"table-body__cell u-text-right rating\"):\n",
    "        rating.append(rate.text)\n",
    "  "
   ]
  },
  {
   "cell_type": "code",
   "execution_count": 48,
   "id": "9ab154af",
   "metadata": {},
   "outputs": [],
   "source": [
    "#Obtaining top 10\n",
    "\n",
    "Top_10_ODI_teams = teams[:10]\n",
    "Matches = matches[:10]\n",
    "Points = points[:10]\n",
    "Rating = rating[:10]"
   ]
  },
  {
   "cell_type": "code",
   "execution_count": 49,
   "id": "69158950",
   "metadata": {},
   "outputs": [
    {
     "data": {
      "text/html": [
       "<div>\n",
       "<style scoped>\n",
       "    .dataframe tbody tr th:only-of-type {\n",
       "        vertical-align: middle;\n",
       "    }\n",
       "\n",
       "    .dataframe tbody tr th {\n",
       "        vertical-align: top;\n",
       "    }\n",
       "\n",
       "    .dataframe thead th {\n",
       "        text-align: right;\n",
       "    }\n",
       "</style>\n",
       "<table border=\"1\" class=\"dataframe\">\n",
       "  <thead>\n",
       "    <tr style=\"text-align: right;\">\n",
       "      <th></th>\n",
       "      <th>Players</th>\n",
       "      <th>Matches</th>\n",
       "      <th>Points</th>\n",
       "      <th>Rating</th>\n",
       "    </tr>\n",
       "  </thead>\n",
       "  <tbody>\n",
       "    <tr>\n",
       "      <th>0</th>\n",
       "      <td>Australia</td>\n",
       "      <td>29</td>\n",
       "      <td>4,837</td>\n",
       "      <td>167</td>\n",
       "    </tr>\n",
       "    <tr>\n",
       "      <th>1</th>\n",
       "      <td>South Africa</td>\n",
       "      <td>32</td>\n",
       "      <td>3,949</td>\n",
       "      <td>123</td>\n",
       "    </tr>\n",
       "    <tr>\n",
       "      <th>2</th>\n",
       "      <td>England</td>\n",
       "      <td>30</td>\n",
       "      <td>3,531</td>\n",
       "      <td>118</td>\n",
       "    </tr>\n",
       "    <tr>\n",
       "      <th>3</th>\n",
       "      <td>India</td>\n",
       "      <td>29</td>\n",
       "      <td>2,889</td>\n",
       "      <td>100</td>\n",
       "    </tr>\n",
       "    <tr>\n",
       "      <th>4</th>\n",
       "      <td>New Zealand</td>\n",
       "      <td>31</td>\n",
       "      <td>3,019</td>\n",
       "      <td>97</td>\n",
       "    </tr>\n",
       "    <tr>\n",
       "      <th>5</th>\n",
       "      <td>West Indies</td>\n",
       "      <td>30</td>\n",
       "      <td>2,768</td>\n",
       "      <td>92</td>\n",
       "    </tr>\n",
       "    <tr>\n",
       "      <th>6</th>\n",
       "      <td>Bangladesh</td>\n",
       "      <td>12</td>\n",
       "      <td>930</td>\n",
       "      <td>78</td>\n",
       "    </tr>\n",
       "    <tr>\n",
       "      <th>7</th>\n",
       "      <td>Pakistan</td>\n",
       "      <td>30</td>\n",
       "      <td>1,962</td>\n",
       "      <td>65</td>\n",
       "    </tr>\n",
       "    <tr>\n",
       "      <th>8</th>\n",
       "      <td>Sri Lanka</td>\n",
       "      <td>8</td>\n",
       "      <td>384</td>\n",
       "      <td>48</td>\n",
       "    </tr>\n",
       "    <tr>\n",
       "      <th>9</th>\n",
       "      <td>Ireland</td>\n",
       "      <td>8</td>\n",
       "      <td>351</td>\n",
       "      <td>44</td>\n",
       "    </tr>\n",
       "  </tbody>\n",
       "</table>\n",
       "</div>"
      ],
      "text/plain": [
       "        Players Matches Points Rating\n",
       "0     Australia      29  4,837    167\n",
       "1  South Africa      32  3,949    123\n",
       "2       England      30  3,531    118\n",
       "3         India      29  2,889    100\n",
       "4   New Zealand      31  3,019     97\n",
       "5   West Indies      30  2,768     92\n",
       "6    Bangladesh      12    930     78\n",
       "7      Pakistan      30  1,962     65\n",
       "8     Sri Lanka       8    384     48\n",
       "9       Ireland       8    351     44"
      ]
     },
     "execution_count": 49,
     "metadata": {},
     "output_type": "execute_result"
    }
   ],
   "source": [
    "Top10_Womens_ODI_Team = pd.DataFrame({'Players':Top_10_ODI_teams, 'Matches':Matches, 'Points': Points,'Rating': Rating})\n",
    "Top10_Womens_ODI_Team"
   ]
  },
  {
   "cell_type": "markdown",
   "id": "46a28d0d",
   "metadata": {},
   "source": [
    "### b) Top 10 women’s ODI Batting players along with the records of their team and rating.\n"
   ]
  },
  {
   "cell_type": "code",
   "execution_count": 50,
   "id": "5a52f20f",
   "metadata": {},
   "outputs": [],
   "source": [
    "url2 = 'https://www.icc-cricket.com/rankings/womens/player-rankings/odi/batting'"
   ]
  },
  {
   "cell_type": "code",
   "execution_count": 51,
   "id": "50ad92b9",
   "metadata": {},
   "outputs": [
    {
     "data": {
      "text/plain": [
       "<Response [200]>"
      ]
     },
     "execution_count": 51,
     "metadata": {},
     "output_type": "execute_result"
    }
   ],
   "source": [
    "re = requests.get(url2)\n",
    "re"
   ]
  },
  {
   "cell_type": "code",
   "execution_count": 53,
   "id": "20552ab0",
   "metadata": {},
   "outputs": [],
   "source": [
    "soup2= BeautifulSoup(re.content,'html.parser')\n"
   ]
  },
  {
   "cell_type": "code",
   "execution_count": 54,
   "id": "541bae52",
   "metadata": {},
   "outputs": [],
   "source": [
    "table = soup2.find('table')\n",
    "\n",
    "first_row=table.find('tr',class_='rankings-block__banner')"
   ]
  },
  {
   "cell_type": "code",
   "execution_count": 55,
   "id": "b1e487c5",
   "metadata": {},
   "outputs": [],
   "source": [
    "Players=[]\n",
    "Team=[]\n",
    "Rating=[]"
   ]
  },
  {
   "cell_type": "code",
   "execution_count": 56,
   "id": "2b1e3687",
   "metadata": {},
   "outputs": [],
   "source": [
    "#first row of respective records were stored in a seperate tag, so we extract it first\n",
    "\n",
    "p =first_row.find('div',class_='rankings-block__banner--name-large').text\n",
    "Players.append(p)\n",
    "\n",
    "t=first_row.find('div',class_='rankings-block__banner--nationality').text.replace('\\n','')\n",
    "Team.append(t)\n",
    "\n",
    "r=first_row.find('div',class_='rankings-block__banner--rating').text\n",
    "Rating.append(r)\n",
    "\n",
    "for row in table.find_all('tr',class_='table-body'):\n",
    "    for player in row.find('td',class_='table-body__cell rankings-table__name name'):\n",
    "        if player.text.strip()!='':\n",
    "            Players.append(player.text)\n",
    "    for team in row.find('span',class_='table-body__logo-text'):\n",
    "        Team.append(team.text)\n",
    "    for rating in row.find('td',class_='table-body__cell rating'):\n",
    "        Rating.append(rating.text)"
   ]
  },
  {
   "cell_type": "code",
   "execution_count": 57,
   "id": "231a58ac",
   "metadata": {},
   "outputs": [],
   "source": [
    "#Obtaining top 10\n",
    "\n",
    "Top_10_Players=Players[:10]\n",
    "Teams =Team[:10]\n",
    "Rating = Rating[:10]"
   ]
  },
  {
   "cell_type": "code",
   "execution_count": 58,
   "id": "157adce6",
   "metadata": {},
   "outputs": [
    {
     "data": {
      "text/html": [
       "<div>\n",
       "<style scoped>\n",
       "    .dataframe tbody tr th:only-of-type {\n",
       "        vertical-align: middle;\n",
       "    }\n",
       "\n",
       "    .dataframe tbody tr th {\n",
       "        vertical-align: top;\n",
       "    }\n",
       "\n",
       "    .dataframe thead th {\n",
       "        text-align: right;\n",
       "    }\n",
       "</style>\n",
       "<table border=\"1\" class=\"dataframe\">\n",
       "  <thead>\n",
       "    <tr style=\"text-align: right;\">\n",
       "      <th></th>\n",
       "      <th>Top 10 players</th>\n",
       "      <th>Team</th>\n",
       "      <th>Rating</th>\n",
       "    </tr>\n",
       "  </thead>\n",
       "  <tbody>\n",
       "    <tr>\n",
       "      <th>0</th>\n",
       "      <td>Alyssa Healy</td>\n",
       "      <td>AUS</td>\n",
       "      <td>785</td>\n",
       "    </tr>\n",
       "    <tr>\n",
       "      <th>1</th>\n",
       "      <td>Natalie Sciver</td>\n",
       "      <td>ENG</td>\n",
       "      <td>750</td>\n",
       "    </tr>\n",
       "    <tr>\n",
       "      <th>2</th>\n",
       "      <td>Beth Mooney</td>\n",
       "      <td>AUS</td>\n",
       "      <td>748</td>\n",
       "    </tr>\n",
       "    <tr>\n",
       "      <th>3</th>\n",
       "      <td>Laura Wolvaardt</td>\n",
       "      <td>SA</td>\n",
       "      <td>713</td>\n",
       "    </tr>\n",
       "    <tr>\n",
       "      <th>4</th>\n",
       "      <td>Meg Lanning</td>\n",
       "      <td>AUS</td>\n",
       "      <td>710</td>\n",
       "    </tr>\n",
       "    <tr>\n",
       "      <th>5</th>\n",
       "      <td>Rachael Haynes</td>\n",
       "      <td>AUS</td>\n",
       "      <td>701</td>\n",
       "    </tr>\n",
       "    <tr>\n",
       "      <th>6</th>\n",
       "      <td>Amy Satterthwaite</td>\n",
       "      <td>NZ</td>\n",
       "      <td>681</td>\n",
       "    </tr>\n",
       "    <tr>\n",
       "      <th>7</th>\n",
       "      <td>Smriti Mandhana</td>\n",
       "      <td>IND</td>\n",
       "      <td>669</td>\n",
       "    </tr>\n",
       "    <tr>\n",
       "      <th>8</th>\n",
       "      <td>Tammy Beaumont</td>\n",
       "      <td>ENG</td>\n",
       "      <td>659</td>\n",
       "    </tr>\n",
       "    <tr>\n",
       "      <th>9</th>\n",
       "      <td>Ellyse Perry</td>\n",
       "      <td>AUS</td>\n",
       "      <td>642</td>\n",
       "    </tr>\n",
       "  </tbody>\n",
       "</table>\n",
       "</div>"
      ],
      "text/plain": [
       "      Top 10 players Team Rating\n",
       "0       Alyssa Healy  AUS    785\n",
       "1     Natalie Sciver  ENG    750\n",
       "2        Beth Mooney  AUS    748\n",
       "3    Laura Wolvaardt   SA    713\n",
       "4        Meg Lanning  AUS    710\n",
       "5     Rachael Haynes  AUS    701\n",
       "6  Amy Satterthwaite   NZ    681\n",
       "7    Smriti Mandhana  IND    669\n",
       "8     Tammy Beaumont  ENG    659\n",
       "9       Ellyse Perry  AUS    642"
      ]
     },
     "execution_count": 58,
     "metadata": {},
     "output_type": "execute_result"
    }
   ],
   "source": [
    "Womens_ODI_Batting = pd.DataFrame({'Top 10 players':Top_10_Players, 'Team': Teams, 'Rating':Rating})\n",
    "Womens_ODI_Batting"
   ]
  },
  {
   "cell_type": "markdown",
   "id": "256fdf5b",
   "metadata": {},
   "source": [
    "### c) Top 10 women’s ODI all-rounder along with the records of their team and rating.\n"
   ]
  },
  {
   "cell_type": "code",
   "execution_count": 59,
   "id": "bbe10cf0",
   "metadata": {},
   "outputs": [],
   "source": [
    "url3= 'https://www.icc-cricket.com/rankings/womens/player-rankings/odi/all-rounder'"
   ]
  },
  {
   "cell_type": "code",
   "execution_count": 60,
   "id": "3287524f",
   "metadata": {},
   "outputs": [
    {
     "data": {
      "text/plain": [
       "<Response [200]>"
      ]
     },
     "execution_count": 60,
     "metadata": {},
     "output_type": "execute_result"
    }
   ],
   "source": [
    "req = requests.get(url3)\n",
    "req"
   ]
  },
  {
   "cell_type": "code",
   "execution_count": 61,
   "id": "e7359d29",
   "metadata": {},
   "outputs": [],
   "source": [
    "soup3= BeautifulSoup(req.content)"
   ]
  },
  {
   "cell_type": "code",
   "execution_count": 62,
   "id": "c61af4af",
   "metadata": {},
   "outputs": [],
   "source": [
    "table= soup3.find('table')\n",
    "first_row=table.find('tr',class_='rankings-block__banner')"
   ]
  },
  {
   "cell_type": "code",
   "execution_count": 63,
   "id": "a98a9040",
   "metadata": {},
   "outputs": [],
   "source": [
    "All_rounder =[]\n",
    "Teams =[]\n",
    "rating=[]\n"
   ]
  },
  {
   "cell_type": "code",
   "execution_count": 64,
   "id": "15b92b84",
   "metadata": {},
   "outputs": [],
   "source": [
    "#first row of respective records were stored in a seperate tag, so we extract it first\n",
    "\n",
    "x =first_row.find('div',class_='rankings-block__banner--name-large').text\n",
    "All_rounder.append(x)\n",
    "\n",
    "y=first_row.find('div',class_='rankings-block__banner--nationality').text.replace('\\n','')\n",
    "Teams.append(y)\n",
    "\n",
    "z=first_row.find('div',class_='rankings-block__banner--rating').text\n",
    "rating.append(z)\n",
    "\n",
    "for row in table.find_all('tr',class_='table-body'):\n",
    "    for player in row.find('td',class_='table-body__cell rankings-table__name name'):\n",
    "        if player.text.strip()!='':\n",
    "            All_rounder.append(player.text)\n",
    "    for team in row.find('span',class_='table-body__logo-text'):\n",
    "        Teams.append(team.text)\n",
    "    for rate in row.find('td',class_='table-body__cell rating'):\n",
    "        rating.append(rate.text)"
   ]
  },
  {
   "cell_type": "code",
   "execution_count": 65,
   "id": "00311f36",
   "metadata": {},
   "outputs": [],
   "source": [
    "#Obtaining top 10\n",
    "\n",
    "Top_10_allrounder=All_rounder[:10]\n",
    "Team = Teams[:10]\n",
    "Rating = rating[:10]"
   ]
  },
  {
   "cell_type": "code",
   "execution_count": 66,
   "id": "e347d5a7",
   "metadata": {},
   "outputs": [
    {
     "data": {
      "text/html": [
       "<div>\n",
       "<style scoped>\n",
       "    .dataframe tbody tr th:only-of-type {\n",
       "        vertical-align: middle;\n",
       "    }\n",
       "\n",
       "    .dataframe tbody tr th {\n",
       "        vertical-align: top;\n",
       "    }\n",
       "\n",
       "    .dataframe thead th {\n",
       "        text-align: right;\n",
       "    }\n",
       "</style>\n",
       "<table border=\"1\" class=\"dataframe\">\n",
       "  <thead>\n",
       "    <tr style=\"text-align: right;\">\n",
       "      <th></th>\n",
       "      <th>Player</th>\n",
       "      <th>Team</th>\n",
       "      <th>Rating</th>\n",
       "    </tr>\n",
       "  </thead>\n",
       "  <tbody>\n",
       "    <tr>\n",
       "      <th>0</th>\n",
       "      <td>Natalie Sciver</td>\n",
       "      <td>ENG</td>\n",
       "      <td>393</td>\n",
       "    </tr>\n",
       "    <tr>\n",
       "      <th>1</th>\n",
       "      <td>Ellyse Perry</td>\n",
       "      <td>AUS</td>\n",
       "      <td>374</td>\n",
       "    </tr>\n",
       "    <tr>\n",
       "      <th>2</th>\n",
       "      <td>Hayley Matthews</td>\n",
       "      <td>WI</td>\n",
       "      <td>338</td>\n",
       "    </tr>\n",
       "    <tr>\n",
       "      <th>3</th>\n",
       "      <td>Marizanne Kapp</td>\n",
       "      <td>SA</td>\n",
       "      <td>338</td>\n",
       "    </tr>\n",
       "    <tr>\n",
       "      <th>4</th>\n",
       "      <td>Amelia Kerr</td>\n",
       "      <td>NZ</td>\n",
       "      <td>335</td>\n",
       "    </tr>\n",
       "    <tr>\n",
       "      <th>5</th>\n",
       "      <td>Ashleigh Gardner</td>\n",
       "      <td>AUS</td>\n",
       "      <td>269</td>\n",
       "    </tr>\n",
       "    <tr>\n",
       "      <th>6</th>\n",
       "      <td>Deepti Sharma</td>\n",
       "      <td>IND</td>\n",
       "      <td>249</td>\n",
       "    </tr>\n",
       "    <tr>\n",
       "      <th>7</th>\n",
       "      <td>Jess Jonassen</td>\n",
       "      <td>AUS</td>\n",
       "      <td>245</td>\n",
       "    </tr>\n",
       "    <tr>\n",
       "      <th>8</th>\n",
       "      <td>Sune Luus</td>\n",
       "      <td>SA</td>\n",
       "      <td>223</td>\n",
       "    </tr>\n",
       "    <tr>\n",
       "      <th>9</th>\n",
       "      <td>Katherine Brunt</td>\n",
       "      <td>ENG</td>\n",
       "      <td>221</td>\n",
       "    </tr>\n",
       "  </tbody>\n",
       "</table>\n",
       "</div>"
      ],
      "text/plain": [
       "             Player                     Team Rating\n",
       "0    Natalie Sciver  ENG                        393\n",
       "1      Ellyse Perry                      AUS    374\n",
       "2   Hayley Matthews                       WI    338\n",
       "3    Marizanne Kapp                       SA    338\n",
       "4       Amelia Kerr                       NZ    335\n",
       "5  Ashleigh Gardner                      AUS    269\n",
       "6     Deepti Sharma                      IND    249\n",
       "7     Jess Jonassen                      AUS    245\n",
       "8         Sune Luus                       SA    223\n",
       "9   Katherine Brunt                      ENG    221"
      ]
     },
     "execution_count": 66,
     "metadata": {},
     "output_type": "execute_result"
    }
   ],
   "source": [
    "Womens_ODI_All_Rounder = pd.DataFrame({'Player':Top_10_allrounder,'Team':Team,'Rating':Rating})\n",
    "Womens_ODI_All_Rounder"
   ]
  },
  {
   "cell_type": "markdown",
   "id": "8fca16e7",
   "metadata": {},
   "source": [
    "# Q7 Python program to scrape mentioned news details from https://www.cnbc.com/world/?region=world"
   ]
  },
  {
   "cell_type": "code",
   "execution_count": 67,
   "id": "1d11102a",
   "metadata": {},
   "outputs": [],
   "source": [
    "url = 'https://www.cnbc.com/world/?region=world'"
   ]
  },
  {
   "cell_type": "code",
   "execution_count": 68,
   "id": "9db0a425",
   "metadata": {},
   "outputs": [
    {
     "data": {
      "text/plain": [
       "<Response [200]>"
      ]
     },
     "execution_count": 68,
     "metadata": {},
     "output_type": "execute_result"
    }
   ],
   "source": [
    "req = requests.get(url)\n",
    "req"
   ]
  },
  {
   "cell_type": "code",
   "execution_count": 69,
   "id": "c86851bd",
   "metadata": {},
   "outputs": [],
   "source": [
    "soup4 = BeautifulSoup(req.content)\n"
   ]
  },
  {
   "cell_type": "code",
   "execution_count": 70,
   "id": "2cffb671",
   "metadata": {},
   "outputs": [],
   "source": [
    "Headline = []\n",
    "Time = []\n",
    "Newslink = []\n"
   ]
  },
  {
   "cell_type": "code",
   "execution_count": 71,
   "id": "46c7cbc5",
   "metadata": {},
   "outputs": [],
   "source": [
    "for news in soup4.find_all('div',class_=\"LatestNews-headlineWrapper\"):\n",
    "    Headline.append(news.a.text)\n",
    "for link in soup4.find_all('a',class_='LatestNews-headline',href=True):\n",
    "    Newslink.append(link['href'])\n",
    "for time in soup4.find_all('time',class_=\"LatestNews-timestamp\"):\n",
    "    Time.append(time.text)\n",
    "\n"
   ]
  },
  {
   "cell_type": "code",
   "execution_count": 72,
   "id": "71059dba",
   "metadata": {},
   "outputs": [
    {
     "data": {
      "text/html": [
       "<div>\n",
       "<style scoped>\n",
       "    .dataframe tbody tr th:only-of-type {\n",
       "        vertical-align: middle;\n",
       "    }\n",
       "\n",
       "    .dataframe tbody tr th {\n",
       "        vertical-align: top;\n",
       "    }\n",
       "\n",
       "    .dataframe thead th {\n",
       "        text-align: right;\n",
       "    }\n",
       "</style>\n",
       "<table border=\"1\" class=\"dataframe\">\n",
       "  <thead>\n",
       "    <tr style=\"text-align: right;\">\n",
       "      <th></th>\n",
       "      <th>Headline</th>\n",
       "      <th>Time</th>\n",
       "      <th>News url</th>\n",
       "    </tr>\n",
       "  </thead>\n",
       "  <tbody>\n",
       "    <tr>\n",
       "      <th>0</th>\n",
       "      <td>A common money move may cost retirement savers...</td>\n",
       "      <td>13 Min Ago</td>\n",
       "      <td>https://www.cnbc.com/2022/06/30/rollover-iras-...</td>\n",
       "    </tr>\n",
       "    <tr>\n",
       "      <th>1</th>\n",
       "      <td>Natural gas drops 10%, on track for worst mont...</td>\n",
       "      <td>21 Min Ago</td>\n",
       "      <td>https://www.cnbc.com/2022/06/30/natural-gas-dr...</td>\n",
       "    </tr>\n",
       "    <tr>\n",
       "      <th>2</th>\n",
       "      <td>The housing shortage is starting to ease after...</td>\n",
       "      <td>24 Min Ago</td>\n",
       "      <td>https://www.cnbc.com/2022/06/30/housing-shorta...</td>\n",
       "    </tr>\n",
       "    <tr>\n",
       "      <th>3</th>\n",
       "      <td>FTX closes in on a deal to buy embattled crypt...</td>\n",
       "      <td>28 Min Ago</td>\n",
       "      <td>https://www.cnbc.com/2022/06/30/ftx-closes-in-...</td>\n",
       "    </tr>\n",
       "    <tr>\n",
       "      <th>4</th>\n",
       "      <td></td>\n",
       "      <td>41 Min Ago</td>\n",
       "      <td>https://www.cnbc.com/2022/06/30/santoli-the-sp...</td>\n",
       "    </tr>\n",
       "  </tbody>\n",
       "</table>\n",
       "</div>"
      ],
      "text/plain": [
       "                                            Headline        Time  \\\n",
       "0  A common money move may cost retirement savers...  13 Min Ago   \n",
       "1  Natural gas drops 10%, on track for worst mont...  21 Min Ago   \n",
       "2  The housing shortage is starting to ease after...  24 Min Ago   \n",
       "3  FTX closes in on a deal to buy embattled crypt...  28 Min Ago   \n",
       "4                                                     41 Min Ago   \n",
       "\n",
       "                                            News url  \n",
       "0  https://www.cnbc.com/2022/06/30/rollover-iras-...  \n",
       "1  https://www.cnbc.com/2022/06/30/natural-gas-dr...  \n",
       "2  https://www.cnbc.com/2022/06/30/housing-shorta...  \n",
       "3  https://www.cnbc.com/2022/06/30/ftx-closes-in-...  \n",
       "4  https://www.cnbc.com/2022/06/30/santoli-the-sp...  "
      ]
     },
     "execution_count": 72,
     "metadata": {},
     "output_type": "execute_result"
    }
   ],
   "source": [
    "df = pd.DataFrame({'Headline':Headline,'Time':Time,'News url':Newslink})\n",
    "df.head()"
   ]
  },
  {
   "cell_type": "markdown",
   "id": "0218e964",
   "metadata": {},
   "source": [
    "# Q8 Python program to scrape the details of most downloaded articles from AI in last 90 days"
   ]
  },
  {
   "cell_type": "code",
   "execution_count": 73,
   "id": "2d390ba8",
   "metadata": {},
   "outputs": [],
   "source": [
    "url ='https://www.journals.elsevier.com/artificial-intelligence/most-downloaded-articles'"
   ]
  },
  {
   "cell_type": "code",
   "execution_count": 74,
   "id": "f86ed154",
   "metadata": {},
   "outputs": [
    {
     "data": {
      "text/plain": [
       "<Response [200]>"
      ]
     },
     "execution_count": 74,
     "metadata": {},
     "output_type": "execute_result"
    }
   ],
   "source": [
    "req= requests.get(url)\n",
    "req"
   ]
  },
  {
   "cell_type": "code",
   "execution_count": 75,
   "id": "e6aa94b9",
   "metadata": {},
   "outputs": [],
   "source": [
    "soup5= BeautifulSoup(req.text)\n"
   ]
  },
  {
   "cell_type": "code",
   "execution_count": 77,
   "id": "6227ad88",
   "metadata": {},
   "outputs": [
    {
     "name": "stdout",
     "output_type": "stream",
     "text": [
      "25 25 25 25\n"
     ]
    }
   ],
   "source": [
    " \n",
    "Papers=[]\n",
    "Authors =[]\n",
    "Published_Date=[]\n",
    "Paper_url=[]\n",
    "\n",
    "for article in soup5.find_all('li',class_='sc-9zxyh7-1 sc-9zxyh7-2 exAXfr jQmQZp'):\n",
    "    paper= article.find('h2',class_=\"sc-1qrq3sd-1 MKjKb sc-1nmom32-0 sc-1nmom32-1 hqhUYH ebTA-dR\").text\n",
    "    Papers.append(paper)\n",
    "    \n",
    "    author= article.find('span',class_=\"sc-1w3fpd7-0 pgLAT\").text\n",
    "    Authors.append(author)\n",
    "    \n",
    "    date= article.find('span',class_=\"sc-1thf9ly-2 bKddwo\").text\n",
    "    Published_Date.append(date)\n",
    "    \n",
    "    link = article.find('a',href=True)\n",
    "    Paper_url.append(link['href'])\n",
    "    \n",
    "print(len(Papers),len(Authors),len(Published_Date),len(Paper_url))"
   ]
  },
  {
   "cell_type": "code",
   "execution_count": 78,
   "id": "ca6c6a1c",
   "metadata": {},
   "outputs": [
    {
     "data": {
      "text/html": [
       "<div>\n",
       "<style scoped>\n",
       "    .dataframe tbody tr th:only-of-type {\n",
       "        vertical-align: middle;\n",
       "    }\n",
       "\n",
       "    .dataframe tbody tr th {\n",
       "        vertical-align: top;\n",
       "    }\n",
       "\n",
       "    .dataframe thead th {\n",
       "        text-align: right;\n",
       "    }\n",
       "</style>\n",
       "<table border=\"1\" class=\"dataframe\">\n",
       "  <thead>\n",
       "    <tr style=\"text-align: right;\">\n",
       "      <th></th>\n",
       "      <th>Paper</th>\n",
       "      <th>Published Date</th>\n",
       "      <th>Link to the Paper</th>\n",
       "    </tr>\n",
       "  </thead>\n",
       "  <tbody>\n",
       "    <tr>\n",
       "      <th>0</th>\n",
       "      <td>Reward is enough</td>\n",
       "      <td>October 2021</td>\n",
       "      <td>https://www.sciencedirect.com/science/article/...</td>\n",
       "    </tr>\n",
       "    <tr>\n",
       "      <th>1</th>\n",
       "      <td>Making sense of raw input</td>\n",
       "      <td>October 2021</td>\n",
       "      <td>https://www.sciencedirect.com/science/article/...</td>\n",
       "    </tr>\n",
       "    <tr>\n",
       "      <th>2</th>\n",
       "      <td>Law and logic: A review from an argumentation ...</td>\n",
       "      <td>October 2015</td>\n",
       "      <td>https://www.sciencedirect.com/science/article/...</td>\n",
       "    </tr>\n",
       "    <tr>\n",
       "      <th>3</th>\n",
       "      <td>Creativity and artificial intelligence</td>\n",
       "      <td>August 1998</td>\n",
       "      <td>https://www.sciencedirect.com/science/article/...</td>\n",
       "    </tr>\n",
       "    <tr>\n",
       "      <th>4</th>\n",
       "      <td>Artificial cognition for social human–robot in...</td>\n",
       "      <td>June 2017</td>\n",
       "      <td>https://www.sciencedirect.com/science/article/...</td>\n",
       "    </tr>\n",
       "  </tbody>\n",
       "</table>\n",
       "</div>"
      ],
      "text/plain": [
       "                                               Paper Published Date  \\\n",
       "0                                   Reward is enough   October 2021   \n",
       "1                          Making sense of raw input   October 2021   \n",
       "2  Law and logic: A review from an argumentation ...   October 2015   \n",
       "3             Creativity and artificial intelligence    August 1998   \n",
       "4  Artificial cognition for social human–robot in...      June 2017   \n",
       "\n",
       "                                   Link to the Paper  \n",
       "0  https://www.sciencedirect.com/science/article/...  \n",
       "1  https://www.sciencedirect.com/science/article/...  \n",
       "2  https://www.sciencedirect.com/science/article/...  \n",
       "3  https://www.sciencedirect.com/science/article/...  \n",
       "4  https://www.sciencedirect.com/science/article/...  "
      ]
     },
     "execution_count": 78,
     "metadata": {},
     "output_type": "execute_result"
    }
   ],
   "source": [
    "Most_Downloaded_Article= pd.DataFrame({'Paper':Papers, 'Published Date': Published_Date, 'Link to the Paper': Paper_url})\n",
    "Most_Downloaded_Article.head()"
   ]
  },
  {
   "cell_type": "markdown",
   "id": "c486290a",
   "metadata": {},
   "source": [
    "# Q9 python program to scrape mentioned details from dineout.co.in "
   ]
  },
  {
   "cell_type": "code",
   "execution_count": 84,
   "id": "961d9dff",
   "metadata": {},
   "outputs": [],
   "source": [
    "import re"
   ]
  },
  {
   "cell_type": "code",
   "execution_count": 79,
   "id": "f1a6be07",
   "metadata": {},
   "outputs": [],
   "source": [
    "url = 'https://www.dineout.co.in/kochi-restaurants/welcome-back'"
   ]
  },
  {
   "cell_type": "code",
   "execution_count": 80,
   "id": "ffea21ed",
   "metadata": {},
   "outputs": [
    {
     "data": {
      "text/plain": [
       "<Response [200]>"
      ]
     },
     "execution_count": 80,
     "metadata": {},
     "output_type": "execute_result"
    }
   ],
   "source": [
    "req = requests.get(url)\n",
    "req"
   ]
  },
  {
   "cell_type": "code",
   "execution_count": 81,
   "id": "c1152d62",
   "metadata": {},
   "outputs": [],
   "source": [
    "soup10= BeautifulSoup(req.content)"
   ]
  },
  {
   "cell_type": "code",
   "execution_count": 88,
   "id": "e58e1179",
   "metadata": {},
   "outputs": [],
   "source": [
    "Restaurant_Name=[]\n",
    "Cuisine=[]\n",
    "Location =[]\n",
    "Ratings=[]\n",
    "Image_url =[]"
   ]
  },
  {
   "cell_type": "code",
   "execution_count": 89,
   "id": "2766d596",
   "metadata": {},
   "outputs": [],
   "source": [
    "\n",
    "for restaurant in soup10.find_all('div',class_='restnt-info cursor'):\n",
    "    Restaurant_Name.append(restaurant.a.text)\n",
    "for location in soup10.find_all('div',class_='restnt-loc ellipsis'):\n",
    "    Location.append(location.a.text)\n",
    "for cuisine in soup10.find_all('span',class_='double-line-ellipsis'):\n",
    "    Cuisine.append(cuisine.text.split(' ')[6:])\n",
    "for rating in soup10.find_all('div',class_= re.compile(\"restnt-rating rating-\")): #since class tag had slight variation, re.compile was used, which compiles using a pattern seen.\n",
    "    Ratings.append(rating.text)\n",
    "\n",
    "for img_url in soup10.find_all('img',class_='no-img'):\n",
    "    Image_url.append(img_url['data-src'])\n"
   ]
  },
  {
   "cell_type": "code",
   "execution_count": 90,
   "id": "a2d88b17",
   "metadata": {},
   "outputs": [],
   "source": [
    "Ratings= Ratings[:21]"
   ]
  },
  {
   "cell_type": "code",
   "execution_count": 91,
   "id": "7dfd5d68",
   "metadata": {},
   "outputs": [
    {
     "data": {
      "text/html": [
       "<div>\n",
       "<style scoped>\n",
       "    .dataframe tbody tr th:only-of-type {\n",
       "        vertical-align: middle;\n",
       "    }\n",
       "\n",
       "    .dataframe tbody tr th {\n",
       "        vertical-align: top;\n",
       "    }\n",
       "\n",
       "    .dataframe thead th {\n",
       "        text-align: right;\n",
       "    }\n",
       "</style>\n",
       "<table border=\"1\" class=\"dataframe\">\n",
       "  <thead>\n",
       "    <tr style=\"text-align: right;\">\n",
       "      <th></th>\n",
       "      <th>Restaurant Name</th>\n",
       "      <th>Cuisine</th>\n",
       "      <th>Location</th>\n",
       "      <th>Rating</th>\n",
       "      <th>Image URL</th>\n",
       "    </tr>\n",
       "  </thead>\n",
       "  <tbody>\n",
       "    <tr>\n",
       "      <th>0</th>\n",
       "      <td>Coral Reef</td>\n",
       "      <td>[North, Indian,, Continental,, Kerala]</td>\n",
       "      <td>Coral Isle Hotel,</td>\n",
       "      <td>3.9</td>\n",
       "      <td>https://im1.dineout.co.in/images/uploads/resta...</td>\n",
       "    </tr>\n",
       "    <tr>\n",
       "      <th>1</th>\n",
       "      <td>Upper Birth</td>\n",
       "      <td>[Chinese,, Continental]</td>\n",
       "      <td>Coral Isle Hotel,</td>\n",
       "      <td>4.3</td>\n",
       "      <td>https://im1.dineout.co.in/images/uploads/resta...</td>\n",
       "    </tr>\n",
       "    <tr>\n",
       "      <th>2</th>\n",
       "      <td>Barbeque Nation</td>\n",
       "      <td>[North, Indian,, Chinese]</td>\n",
       "      <td>Kacheripadi</td>\n",
       "      <td>3.8</td>\n",
       "      <td>https://im1.dineout.co.in/images/uploads/resta...</td>\n",
       "    </tr>\n",
       "    <tr>\n",
       "      <th>3</th>\n",
       "      <td>Dosa World</td>\n",
       "      <td>[South, Indian,, Beverages]</td>\n",
       "      <td>Kacheripadi</td>\n",
       "      <td>4.3</td>\n",
       "      <td>https://im1.dineout.co.in/images/uploads/resta...</td>\n",
       "    </tr>\n",
       "    <tr>\n",
       "      <th>4</th>\n",
       "      <td>The Hotspot</td>\n",
       "      <td>[Arabian,, North, Indian,, Chinese,, Middle, E...</td>\n",
       "      <td>Kadavanthra</td>\n",
       "      <td>4.2</td>\n",
       "      <td>https://im1.dineout.co.in/images/uploads/resta...</td>\n",
       "    </tr>\n",
       "  </tbody>\n",
       "</table>\n",
       "</div>"
      ],
      "text/plain": [
       "   Restaurant Name                                            Cuisine  \\\n",
       "0       Coral Reef             [North, Indian,, Continental,, Kerala]   \n",
       "1      Upper Birth                            [Chinese,, Continental]   \n",
       "2  Barbeque Nation                          [North, Indian,, Chinese]   \n",
       "3       Dosa World                        [South, Indian,, Beverages]   \n",
       "4      The Hotspot  [Arabian,, North, Indian,, Chinese,, Middle, E...   \n",
       "\n",
       "            Location Rating                                          Image URL  \n",
       "0  Coral Isle Hotel,    3.9  https://im1.dineout.co.in/images/uploads/resta...  \n",
       "1  Coral Isle Hotel,    4.3  https://im1.dineout.co.in/images/uploads/resta...  \n",
       "2        Kacheripadi    3.8  https://im1.dineout.co.in/images/uploads/resta...  \n",
       "3        Kacheripadi    4.3  https://im1.dineout.co.in/images/uploads/resta...  \n",
       "4        Kadavanthra    4.2  https://im1.dineout.co.in/images/uploads/resta...  "
      ]
     },
     "execution_count": 91,
     "metadata": {},
     "output_type": "execute_result"
    }
   ],
   "source": [
    "Dine_out= pd.DataFrame({'Restaurant Name':Restaurant_Name,'Cuisine':Cuisine, 'Location':Location,'Rating':Ratings, 'Image URL':Image_url})\n",
    "Dine_out.head()"
   ]
  },
  {
   "cell_type": "markdown",
   "id": "3c96d745",
   "metadata": {},
   "source": [
    "# Q10 Python program to scrape the details of top publications from Google Scholar"
   ]
  },
  {
   "cell_type": "code",
   "execution_count": 92,
   "id": "ae9955b5",
   "metadata": {},
   "outputs": [],
   "source": [
    "url= 'https://scholar.google.com/citations?view_op=top_venues&hl=en'"
   ]
  },
  {
   "cell_type": "code",
   "execution_count": 93,
   "id": "6cad84f6",
   "metadata": {},
   "outputs": [
    {
     "data": {
      "text/plain": [
       "<Response [200]>"
      ]
     },
     "execution_count": 93,
     "metadata": {},
     "output_type": "execute_result"
    }
   ],
   "source": [
    "r = requests.get(url) \n",
    "r"
   ]
  },
  {
   "cell_type": "code",
   "execution_count": 94,
   "id": "d784d4e1",
   "metadata": {},
   "outputs": [],
   "source": [
    "soup6 = BeautifulSoup(r.content,'html.parser') \n"
   ]
  },
  {
   "cell_type": "code",
   "execution_count": 95,
   "id": "3041aab8",
   "metadata": {},
   "outputs": [],
   "source": [
    "\n",
    "Rank =[]\n",
    "Publication =[]\n",
    "h5_index =[]\n",
    "h5_median =[]\n",
    "table = soup6.find('table') \n",
    "for row in table.find_all('tr'):\n",
    "\n",
    "    for rank in row.find_all('td',class_='gsc_mvt_p'):\n",
    "        Rank.append(rank.text)\n",
    "    for publication in row.find_all('td',class_='gsc_mvt_t'):\n",
    "        Publication.append(publication)\n",
    "    for index in  row.find_all('a',class_='gs_ibl gsc_mp_anchor'):\n",
    "        h5_index.append(index.text)\n",
    "    for median in row.find_all('span',class_='gs_ibl gsc_mp_anchor'):\n",
    "        h5_median.append(median.text)\n",
    "\n"
   ]
  },
  {
   "cell_type": "code",
   "execution_count": 96,
   "id": "f58f441a",
   "metadata": {},
   "outputs": [
    {
     "data": {
      "text/html": [
       "<div>\n",
       "<style scoped>\n",
       "    .dataframe tbody tr th:only-of-type {\n",
       "        vertical-align: middle;\n",
       "    }\n",
       "\n",
       "    .dataframe tbody tr th {\n",
       "        vertical-align: top;\n",
       "    }\n",
       "\n",
       "    .dataframe thead th {\n",
       "        text-align: right;\n",
       "    }\n",
       "</style>\n",
       "<table border=\"1\" class=\"dataframe\">\n",
       "  <thead>\n",
       "    <tr style=\"text-align: right;\">\n",
       "      <th></th>\n",
       "      <th>Publication</th>\n",
       "      <th>h5 index</th>\n",
       "      <th>h5 median</th>\n",
       "    </tr>\n",
       "    <tr>\n",
       "      <th>Rank</th>\n",
       "      <th></th>\n",
       "      <th></th>\n",
       "      <th></th>\n",
       "    </tr>\n",
       "  </thead>\n",
       "  <tbody>\n",
       "    <tr>\n",
       "      <th>1.</th>\n",
       "      <td>[Nature]</td>\n",
       "      <td>444</td>\n",
       "      <td>667</td>\n",
       "    </tr>\n",
       "    <tr>\n",
       "      <th>2.</th>\n",
       "      <td>[The New England Journal of Medicine]</td>\n",
       "      <td>432</td>\n",
       "      <td>780</td>\n",
       "    </tr>\n",
       "    <tr>\n",
       "      <th>3.</th>\n",
       "      <td>[Science]</td>\n",
       "      <td>401</td>\n",
       "      <td>614</td>\n",
       "    </tr>\n",
       "    <tr>\n",
       "      <th>4.</th>\n",
       "      <td>[IEEE/CVF Conference on Computer Vision and Pa...</td>\n",
       "      <td>389</td>\n",
       "      <td>627</td>\n",
       "    </tr>\n",
       "    <tr>\n",
       "      <th>5.</th>\n",
       "      <td>[The Lancet]</td>\n",
       "      <td>354</td>\n",
       "      <td>635</td>\n",
       "    </tr>\n",
       "    <tr>\n",
       "      <th>...</th>\n",
       "      <td>...</td>\n",
       "      <td>...</td>\n",
       "      <td>...</td>\n",
       "    </tr>\n",
       "    <tr>\n",
       "      <th>96.</th>\n",
       "      <td>[Journal of Business Research]</td>\n",
       "      <td>145</td>\n",
       "      <td>233</td>\n",
       "    </tr>\n",
       "    <tr>\n",
       "      <th>97.</th>\n",
       "      <td>[Molecular Cancer]</td>\n",
       "      <td>145</td>\n",
       "      <td>209</td>\n",
       "    </tr>\n",
       "    <tr>\n",
       "      <th>98.</th>\n",
       "      <td>[Sensors]</td>\n",
       "      <td>145</td>\n",
       "      <td>201</td>\n",
       "    </tr>\n",
       "    <tr>\n",
       "      <th>99.</th>\n",
       "      <td>[Nature Climate Change]</td>\n",
       "      <td>144</td>\n",
       "      <td>228</td>\n",
       "    </tr>\n",
       "    <tr>\n",
       "      <th>100.</th>\n",
       "      <td>[IEEE Internet of Things Journal]</td>\n",
       "      <td>144</td>\n",
       "      <td>212</td>\n",
       "    </tr>\n",
       "  </tbody>\n",
       "</table>\n",
       "<p>100 rows × 3 columns</p>\n",
       "</div>"
      ],
      "text/plain": [
       "                                            Publication h5 index h5 median\n",
       "Rank                                                                      \n",
       "1.                                             [Nature]      444       667\n",
       "2.                [The New England Journal of Medicine]      432       780\n",
       "3.                                            [Science]      401       614\n",
       "4.    [IEEE/CVF Conference on Computer Vision and Pa...      389       627\n",
       "5.                                         [The Lancet]      354       635\n",
       "...                                                 ...      ...       ...\n",
       "96.                      [Journal of Business Research]      145       233\n",
       "97.                                  [Molecular Cancer]      145       209\n",
       "98.                                           [Sensors]      145       201\n",
       "99.                             [Nature Climate Change]      144       228\n",
       "100.                  [IEEE Internet of Things Journal]      144       212\n",
       "\n",
       "[100 rows x 3 columns]"
      ]
     },
     "execution_count": 96,
     "metadata": {},
     "output_type": "execute_result"
    }
   ],
   "source": [
    "Top_Publications = pd.DataFrame({'Rank':Rank,'Publication':Publication,'h5 index':h5_index,'h5 median':h5_median}).set_index('Rank')\n",
    "Top_Publications"
   ]
  },
  {
   "cell_type": "code",
   "execution_count": null,
   "id": "2c918183",
   "metadata": {},
   "outputs": [],
   "source": []
  }
 ],
 "metadata": {
  "kernelspec": {
   "display_name": "Python 3 (ipykernel)",
   "language": "python",
   "name": "python3"
  },
  "language_info": {
   "codemirror_mode": {
    "name": "ipython",
    "version": 3
   },
   "file_extension": ".py",
   "mimetype": "text/x-python",
   "name": "python",
   "nbconvert_exporter": "python",
   "pygments_lexer": "ipython3",
   "version": "3.9.7"
  }
 },
 "nbformat": 4,
 "nbformat_minor": 5
}
